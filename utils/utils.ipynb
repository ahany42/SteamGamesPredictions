{
 "cells": [
  {
   "cell_type": "code",
   "execution_count": 17,
   "metadata": {},
   "outputs": [
    {
     "name": "stdout",
     "output_type": "stream",
     "text": [
      "New Working Directory: d:\\ASU\\term 6\\Machine Learning\\project\\SteamGamesRgressor\n"
     ]
    }
   ],
   "source": [
    "import os\n",
    "import pandas as pd\n",
    "\n",
    "# Change the working directory to the root of the project\n",
    "os.chdir('..')  # Moves up one directory to 'SteamGamesRgressor'\n",
    "\n",
    "# Verify the change\n",
    "print(\"New Working Directory:\", os.getcwd())\n",
    "\n",
    "# Now set the path to datasets/raw\n",
    "base_dir = os.path.join(os.getcwd(), 'datasets', 'raw')\n",
    "\n",
    "# Read the CSV files\n",
    "demos = pd.read_csv(os.path.join(base_dir, 'demos.csv'))\n",
    "dlcs = pd.read_csv(os.path.join(base_dir, 'dlcs.csv'))\n",
    "gamalytic = pd.read_csv(os.path.join(base_dir, 'gamalytic_steam_games.csv'))\n",
    "info = pd.read_csv(os.path.join(base_dir, 'info_base_games.csv'), low_memory=False)\n"
   ]
  },
  {
   "cell_type": "code",
   "execution_count": null,
   "metadata": {},
   "outputs": [],
   "source": [
    "\n",
    "def combine_datasets():\n",
    "    demos = pd.read_csv(os.path.join(base_dir, 'demos.csv'))\n",
    "    dlcs = pd.read_csv(os.path.join(base_dir, 'dlcs.csv'))\n",
    "    gamalytic = pd.read_csv(os.path.join(base_dir, 'gamalytic_steam_games.csv'))\n",
    "    info = pd.read_csv(os.path.join(base_dir, 'info_base_games.csv'), low_memory=False)\n",
    "    \n",
    "    cols = [col for col in gamalytic.columns if col != 'reviewScore']\n",
    "    cols.append('reviewScore')\n",
    "    gamalytic = gamalytic[cols]\n",
    "       \n",
    "    demos.columns = demos.columns.str.strip()\n",
    "    dlcs.columns = dlcs.columns.str.strip()\n",
    "    gamalytic.columns = gamalytic.columns.str.strip()\n",
    "    info.columns = info.columns.str.strip()\n",
    "    demos.rename(columns={\"full_game_appid\": \"Full_game_appid\"}, inplace=True)\n",
    "    dlcs.rename(columns={\"base_appid\": \"Full_game_appid\"}, inplace=True)\n",
    "    gamalytic.rename(columns={\"steamId\": \"Full_game_appid\"}, inplace=True)\n",
    "    info.rename(columns={\"appid\": \"Full_game_appid\"}, inplace=True)\n",
    "    demos[\"Full_game_appid\"] = demos[\"Full_game_appid\"].astype(str)\n",
    "    dlcs[\"Full_game_appid\"] = dlcs[\"Full_game_appid\"].astype(str)\n",
    "    gamalytic[\"Full_game_appid\"] = gamalytic[\"Full_game_appid\"].astype(str)\n",
    "    info[\"Full_game_appid\"] = info[\"Full_game_appid\"].astype(str)\n",
    "    merged_df = demos.merge(dlcs, on=\"Full_game_appid\", how=\"left\") \\\n",
    "                    .merge(gamalytic, on=\"Full_game_appid\", how=\"right\") \\\n",
    "                    .merge(info, on=\"Full_game_appid\", how=\"inner\")\n",
    "    cols = [col for col in merged_df.columns if col != 'reviewScore']\n",
    "    cols.append('reviewScore')\n",
    "    merged_df = merged_df[cols]\n",
    "    merged_df.to_csv(\"datasets/raw/combined_games.csv\", index=False)\n",
    "    print(\"Demos:\", demos.shape)\n",
    "    print(\"DLCs:\", dlcs.shape)\n",
    "    print(\"Gamalytic:\", gamalytic.shape)\n",
    "    print(\"Merged shape:\",merged_df.shape)"
   ]
  },
  {
   "cell_type": "code",
   "execution_count": null,
   "metadata": {},
   "outputs": [
    {
     "name": "stdout",
     "output_type": "stream",
     "text": [
      "Combined shape: (69428, 20)\n",
      "<class 'pandas.core.frame.DataFrame'>\n",
      "RangeIndex: 69428 entries, 0 to 69427\n",
      "Data columns (total 20 columns):\n",
      " #   Column               Non-Null Count  Dtype  \n",
      "---  ------               --------------  -----  \n",
      " 0   Unnamed: 0           7535 non-null   float64\n",
      " 1   Full_game_appid      69428 non-null  int64  \n",
      " 2   demo_appid           7535 non-null   float64\n",
      " 3   name_x               7534 non-null   object \n",
      " 4   dlc_appid            520 non-null    float64\n",
      " 5   name_y               520 non-null    object \n",
      " 6   price                69428 non-null  float64\n",
      " 7   copiesSold           69428 non-null  int64  \n",
      " 8   publisherClass       69428 non-null  object \n",
      " 9   aiContent            0 non-null      float64\n",
      " 10  name                 69428 non-null  object \n",
      " 11  metacritic           2933 non-null   float64\n",
      " 12  steam_achievements   69428 non-null  bool   \n",
      " 13  steam_trading_cards  69428 non-null  bool   \n",
      " 14  workshop_support     69428 non-null  bool   \n",
      " 15  genres               69324 non-null  object \n",
      " 16  achievements_total   37295 non-null  float64\n",
      " 17  release_date         69426 non-null  object \n",
      " 18  supported_platforms  69428 non-null  object \n",
      " 19  reviewScore          69428 non-null  int64  \n",
      "dtypes: bool(3), float64(7), int64(3), object(7)\n",
      "memory usage: 9.2+ MB\n"
     ]
    }
   ],
   "source": []
  },
  {
   "cell_type": "code",
   "execution_count": null,
   "metadata": {},
   "outputs": [],
   "source": [
    "df.describe()"
   ]
  }
 ],
 "metadata": {
  "kernelspec": {
   "display_name": "Python 3",
   "language": "python",
   "name": "python3"
  },
  "language_info": {
   "codemirror_mode": {
    "name": "ipython",
    "version": 3
   },
   "file_extension": ".py",
   "mimetype": "text/x-python",
   "name": "python",
   "nbconvert_exporter": "python",
   "pygments_lexer": "ipython3",
   "version": "3.13.1"
  }
 },
 "nbformat": 4,
 "nbformat_minor": 2
}
