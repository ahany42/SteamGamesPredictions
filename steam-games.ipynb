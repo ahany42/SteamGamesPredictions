{
 "cells": [
  {
   "cell_type": "markdown",
   "id": "f61ed920",
   "metadata": {
    "_cell_guid": "8dd9af2b-6b66-48bb-90a3-2b37da9acea9",
    "_uuid": "79526b86-9a23-4968-9da1-c7543f5b8331",
    "collapsed": false,
    "jupyter": {
     "outputs_hidden": false
    },
    "papermill": {
     "duration": 0.01737,
     "end_time": "2025-04-28T10:28:42.613415",
     "exception": false,
     "start_time": "2025-04-28T10:28:42.596045",
     "status": "completed"
    },
    "tags": []
   },
   "source": [
    "## Importing"
   ]
  },
  {
   "cell_type": "code",
   "execution_count": 40,
   "id": "75fa098b",
   "metadata": {
    "_cell_guid": "397f41e8-3b98-4bf2-a1b4-f0d7c2cd503a",
    "_uuid": "e75ea2e5-8780-495d-8f54-6f4afe3bec43",
    "collapsed": false,
    "execution": {
     "iopub.execute_input": "2025-04-28T10:28:42.650051Z",
     "iopub.status.busy": "2025-04-28T10:28:42.649622Z",
     "iopub.status.idle": "2025-04-28T10:28:47.962098Z",
     "shell.execute_reply": "2025-04-28T10:28:47.960921Z"
    },
    "jupyter": {
     "outputs_hidden": false
    },
    "papermill": {
     "duration": 5.332234,
     "end_time": "2025-04-28T10:28:47.963949",
     "exception": false,
     "start_time": "2025-04-28T10:28:42.631715",
     "status": "completed"
    },
    "tags": []
   },
   "outputs": [],
   "source": [
    "# Basic libraries\n",
    "import pandas as pd\n",
    "import numpy as np\n",
    "import matplotlib.pyplot as plt\n",
    "import seaborn as sns\n",
    "import os\n",
    "\n",
    "# Preprocessing\n",
    "from sklearn.preprocessing import StandardScaler, RobustScaler, OneHotEncoder, LabelEncoder\n",
    "from sklearn.impute import SimpleImputer\n",
    "from sklearn.preprocessing import MultiLabelBinarizer\n",
    "\n",
    "\n",
    "# Feature Engineering\n",
    "from sklearn.decomposition import PCA\n",
    "from sklearn.feature_extraction.text import TfidfVectorizer\n",
    "from sklearn.preprocessing import PolynomialFeatures\n",
    "from sklearn.feature_selection import RFE\n",
    "from sklearn.feature_selection import chi2, mutual_info_classif, SelectKBest\n",
    "from imblearn.over_sampling import SMOTE\n",
    "# Models\n",
    "from sklearn.neural_network import MLPRegressor\n",
    "from sklearn.tree import DecisionTreeRegressor\n",
    "from sklearn.neighbors import KNeighborsRegressor\n",
    "from sklearn.ensemble import RandomForestRegressor\n",
    "from sklearn.linear_model import LinearRegression, Lasso, Ridge\n",
    "import xgboost as xgb\n",
    "from sklearn.ensemble import RandomForestClassifier\n",
    "from sklearn.metrics import classification_report, accuracy_score\n",
    "\n",
    "\n",
    "# Model Selection & Evaluation\n",
    "from sklearn.model_selection import train_test_split, GridSearchCV, RandomizedSearchCV, cross_val_score\n",
    "from sklearn.metrics import mean_absolute_error, mean_squared_error, r2_score\n",
    "\n",
    "# Utilities\n",
    "from sklearn.compose import ColumnTransformer\n",
    "from collections import Counter\n",
    "from sklearn.pipeline import Pipeline\n",
    "from tqdm.auto import tqdm\n",
    "import joblib"
   ]
  },
  {
   "cell_type": "markdown",
   "id": "9e8876af",
   "metadata": {},
   "source": [
    "# Datasets"
   ]
  },
  {
   "cell_type": "code",
   "execution_count": 7,
   "id": "b2376913",
   "metadata": {},
   "outputs": [],
   "source": [
    "demos = pd.read_csv(\"D:\\\\ML Milestone 1\\\\ML milestone 1\\\\data\\\\raw\\\\demos.csv\")\n",
    "dlcs = pd.read_csv(\"D:\\\\ML Milestone 1\\\\ML milestone 1\\\\data\\\\raw\\\\dlcs.csv\")\n",
    "gamalyticMS1 = pd.read_csv(\"D:\\\\ML Milestone 1\\\\ML milestone 1\\\\data\\\\raw\\\\gamalytic_steam_games.csv\")\n",
    "gamalyticMS2 = pd.read_csv(\"D:\\\\ML Milestone 1\\\\ML milestone 1\\\\data\\\\raw\\\\ms2_gamalytic_steam_games.csv\")\n",
    "info = pd.read_csv(\"D:\\\\ML Milestone 1\\\\ML milestone 1\\\\data\\\\raw\\\\info_base_games.csv\", low_memory=False)"
   ]
  },
  {
   "cell_type": "markdown",
   "id": "b63350b8",
   "metadata": {
    "_cell_guid": "c9dc8d87-6353-494e-9ad1-ceddb5eed545",
    "_uuid": "23560652-37ab-4df2-8537-3da92ba221a4",
    "collapsed": false,
    "jupyter": {
     "outputs_hidden": false
    },
    "papermill": {
     "duration": 0.015509,
     "end_time": "2025-04-28T10:28:47.995265",
     "exception": false,
     "start_time": "2025-04-28T10:28:47.979756",
     "status": "completed"
    },
    "tags": []
   },
   "source": [
    "# Combining Datasets"
   ]
  },
  {
   "cell_type": "code",
   "execution_count": 24,
   "id": "18866d5f",
   "metadata": {
    "_cell_guid": "14c939bb-fc43-4eaf-872d-f1c7820379ee",
    "_uuid": "51850ab9-1204-42cc-92b0-37afcbc0f420",
    "collapsed": false,
    "execution": {
     "iopub.execute_input": "2025-04-28T10:28:48.028004Z",
     "iopub.status.busy": "2025-04-28T10:28:48.026654Z",
     "iopub.status.idle": "2025-04-28T10:28:49.564989Z",
     "shell.execute_reply": "2025-04-28T10:28:49.563965Z"
    },
    "jupyter": {
     "outputs_hidden": false
    },
    "papermill": {
     "duration": 1.556239,
     "end_time": "2025-04-28T10:28:49.566611",
     "exception": false,
     "start_time": "2025-04-28T10:28:48.010372",
     "status": "completed"
    },
    "tags": []
   },
   "outputs": [],
   "source": [
    "def MergeDatasets(demos, dlcs, gamalytic, info , OutputFileName):\n",
    "      demos.columns = demos.columns.str.strip()\n",
    "      dlcs.columns = dlcs.columns.str.strip()\n",
    "      gamalytic.columns = gamalytic.columns.str.strip()\n",
    "      info.columns = info.columns.str.strip()\n",
    "\n",
    "      demos.rename(columns={\"full_game_appid\": \"Full_game_appid\"}, inplace=True)\n",
    "      dlcs.rename(columns={\"base_appid\": \"Full_game_appid\"}, inplace=True)\n",
    "      gamalytic.rename(columns={\"steamId\": \"Full_game_appid\"}, inplace=True)\n",
    "      info.rename(columns={\"appid\": \"Full_game_appid\"}, inplace=True)\n",
    "\n",
    "\n",
    "      demos[\"Full_game_appid\"] = demos[\"Full_game_appid\"].astype(str)\n",
    "      dlcs[\"Full_game_appid\"] = dlcs[\"Full_game_appid\"].astype(str)\n",
    "      gamalytic[\"Full_game_appid\"] = gamalytic[\"Full_game_appid\"].astype(str)\n",
    "      info[\"Full_game_appid\"] = info[\"Full_game_appid\"].astype(str)\n",
    "\n",
    "\n",
    "      merged_df = demos.merge(dlcs, on=\"Full_game_appid\", how=\"inner\") \\\n",
    "                  .merge(gamalytic, on=\"Full_game_appid\", how=\"right\") \\\n",
    "                  .merge(info, on=\"Full_game_appid\", how=\"inner\")\n",
    "      merged_df.drop(columns=['Unnamed: 0','demo_appid','dlc_appid','Full_game_appid'], inplace=True)\n",
    "      merged_df.to_csv(f\"D:\\\\ML Milestone 1\\\\ML milestone 1\\\\data\\\\raw\\\\{OutputFileName}.csv\", index=False)\n",
    "      print(merged_df.columns)\n",
    "      print(\"Demos:\", demos.shape)\n",
    "      print(\"DLCs:\", dlcs.shape)\n",
    "      print(\"Gamalytic:\", gamalytic.shape)\n",
    "      print(\"Merged shape:\", merged_df.shape)\n",
    "\n",
    "      if 'reviewScore' in merged_df.columns:\n",
    "            review_score = merged_df.pop('reviewScore')\n",
    "            merged_df['reviewScore'] = review_score\n",
    "      return merged_df"
   ]
  },
  {
   "cell_type": "markdown",
   "id": "475c7371",
   "metadata": {},
   "source": [
    "# Regression Ms1"
   ]
  },
  {
   "cell_type": "code",
   "execution_count": 25,
   "id": "7fdede69",
   "metadata": {},
   "outputs": [
    {
     "name": "stdout",
     "output_type": "stream",
     "text": [
      "Index(['name_x', 'name_y', 'price', 'copiesSold', 'publisherClass',\n",
      "       'reviewScore', 'aiContent', 'name', 'metacritic', 'steam_achievements',\n",
      "       'steam_trading_cards', 'workshop_support', 'genres',\n",
      "       'achievements_total', 'release_date', 'supported_platforms'],\n",
      "      dtype='object')\n",
      "Demos: (15449, 4)\n",
      "DLCs: (5445, 3)\n",
      "Gamalytic: (93338, 6)\n",
      "Merged shape: (69428, 16)\n"
     ]
    },
    {
     "data": {
      "text/html": [
       "<div>\n",
       "<style scoped>\n",
       "    .dataframe tbody tr th:only-of-type {\n",
       "        vertical-align: middle;\n",
       "    }\n",
       "\n",
       "    .dataframe tbody tr th {\n",
       "        vertical-align: top;\n",
       "    }\n",
       "\n",
       "    .dataframe thead th {\n",
       "        text-align: right;\n",
       "    }\n",
       "</style>\n",
       "<table border=\"1\" class=\"dataframe\">\n",
       "  <thead>\n",
       "    <tr style=\"text-align: right;\">\n",
       "      <th></th>\n",
       "      <th>name_x</th>\n",
       "      <th>name_y</th>\n",
       "      <th>price</th>\n",
       "      <th>copiesSold</th>\n",
       "      <th>publisherClass</th>\n",
       "      <th>aiContent</th>\n",
       "      <th>name</th>\n",
       "      <th>metacritic</th>\n",
       "      <th>steam_achievements</th>\n",
       "      <th>steam_trading_cards</th>\n",
       "      <th>workshop_support</th>\n",
       "      <th>genres</th>\n",
       "      <th>achievements_total</th>\n",
       "      <th>release_date</th>\n",
       "      <th>supported_platforms</th>\n",
       "      <th>reviewScore</th>\n",
       "    </tr>\n",
       "  </thead>\n",
       "  <tbody>\n",
       "    <tr>\n",
       "      <th>0</th>\n",
       "      <td>NaN</td>\n",
       "      <td>NaN</td>\n",
       "      <td>0.0</td>\n",
       "      <td>302158048</td>\n",
       "      <td>AAA</td>\n",
       "      <td>NaN</td>\n",
       "      <td>Counter-Strike 2</td>\n",
       "      <td>NaN</td>\n",
       "      <td>False</td>\n",
       "      <td>True</td>\n",
       "      <td>True</td>\n",
       "      <td>Action, Free To Play</td>\n",
       "      <td>1.0</td>\n",
       "      <td>Aug 21, 2012</td>\n",
       "      <td>['windows', 'linux']</td>\n",
       "      <td>87</td>\n",
       "    </tr>\n",
       "    <tr>\n",
       "      <th>1</th>\n",
       "      <td>NaN</td>\n",
       "      <td>NaN</td>\n",
       "      <td>0.0</td>\n",
       "      <td>212896574</td>\n",
       "      <td>AAA</td>\n",
       "      <td>NaN</td>\n",
       "      <td>Dota 2</td>\n",
       "      <td>90.0</td>\n",
       "      <td>False</td>\n",
       "      <td>True</td>\n",
       "      <td>True</td>\n",
       "      <td>Action, Strategy, Free To Play</td>\n",
       "      <td>NaN</td>\n",
       "      <td>Jul 9, 2013</td>\n",
       "      <td>['windows', 'mac', 'linux']</td>\n",
       "      <td>82</td>\n",
       "    </tr>\n",
       "    <tr>\n",
       "      <th>2</th>\n",
       "      <td>NaN</td>\n",
       "      <td>NaN</td>\n",
       "      <td>0.0</td>\n",
       "      <td>161971233</td>\n",
       "      <td>AAA</td>\n",
       "      <td>NaN</td>\n",
       "      <td>PUBG: BATTLEGROUNDS</td>\n",
       "      <td>NaN</td>\n",
       "      <td>False</td>\n",
       "      <td>False</td>\n",
       "      <td>False</td>\n",
       "      <td>Action, Adventure, Massively Multiplayer, Free...</td>\n",
       "      <td>37.0</td>\n",
       "      <td>Dec 21, 2017</td>\n",
       "      <td>['windows']</td>\n",
       "      <td>59</td>\n",
       "    </tr>\n",
       "    <tr>\n",
       "      <th>3</th>\n",
       "      <td>NaN</td>\n",
       "      <td>NaN</td>\n",
       "      <td>0.0</td>\n",
       "      <td>99060457</td>\n",
       "      <td>AAA</td>\n",
       "      <td>NaN</td>\n",
       "      <td>Team Fortress 2</td>\n",
       "      <td>92.0</td>\n",
       "      <td>True</td>\n",
       "      <td>True</td>\n",
       "      <td>True</td>\n",
       "      <td>Action, Free To Play</td>\n",
       "      <td>520.0</td>\n",
       "      <td>Oct 10, 2007</td>\n",
       "      <td>['windows', 'linux']</td>\n",
       "      <td>90</td>\n",
       "    </tr>\n",
       "    <tr>\n",
       "      <th>4</th>\n",
       "      <td>NaN</td>\n",
       "      <td>NaN</td>\n",
       "      <td>0.0</td>\n",
       "      <td>67554185</td>\n",
       "      <td>AAA</td>\n",
       "      <td>NaN</td>\n",
       "      <td>Apex Legends™</td>\n",
       "      <td>88.0</td>\n",
       "      <td>True</td>\n",
       "      <td>True</td>\n",
       "      <td>False</td>\n",
       "      <td>Action, Adventure, Free To Play</td>\n",
       "      <td>12.0</td>\n",
       "      <td>Nov 4, 2020</td>\n",
       "      <td>['windows']</td>\n",
       "      <td>67</td>\n",
       "    </tr>\n",
       "  </tbody>\n",
       "</table>\n",
       "</div>"
      ],
      "text/plain": [
       "  name_x name_y  price  copiesSold publisherClass  aiContent  \\\n",
       "0    NaN    NaN    0.0   302158048            AAA        NaN   \n",
       "1    NaN    NaN    0.0   212896574            AAA        NaN   \n",
       "2    NaN    NaN    0.0   161971233            AAA        NaN   \n",
       "3    NaN    NaN    0.0    99060457            AAA        NaN   \n",
       "4    NaN    NaN    0.0    67554185            AAA        NaN   \n",
       "\n",
       "                  name metacritic  steam_achievements  steam_trading_cards  \\\n",
       "0     Counter-Strike 2        NaN               False                 True   \n",
       "1               Dota 2       90.0               False                 True   \n",
       "2  PUBG: BATTLEGROUNDS        NaN               False                False   \n",
       "3      Team Fortress 2       92.0                True                 True   \n",
       "4        Apex Legends™       88.0                True                 True   \n",
       "\n",
       "   workshop_support                                             genres  \\\n",
       "0              True                               Action, Free To Play   \n",
       "1              True                     Action, Strategy, Free To Play   \n",
       "2             False  Action, Adventure, Massively Multiplayer, Free...   \n",
       "3              True                               Action, Free To Play   \n",
       "4             False                    Action, Adventure, Free To Play   \n",
       "\n",
       "  achievements_total  release_date          supported_platforms  reviewScore  \n",
       "0                1.0  Aug 21, 2012         ['windows', 'linux']           87  \n",
       "1                NaN   Jul 9, 2013  ['windows', 'mac', 'linux']           82  \n",
       "2               37.0  Dec 21, 2017                  ['windows']           59  \n",
       "3              520.0  Oct 10, 2007         ['windows', 'linux']           90  \n",
       "4               12.0   Nov 4, 2020                  ['windows']           67  "
      ]
     },
     "execution_count": 25,
     "metadata": {},
     "output_type": "execute_result"
    }
   ],
   "source": [
    "Regression_df = MergeDatasets(demos, dlcs, gamalyticMS1, info , \"Regression_combined_games\")\n",
    "Regression_df.head()"
   ]
  },
  {
   "cell_type": "markdown",
   "id": "810fe6b5",
   "metadata": {
    "_cell_guid": "64b6f56c-0e4f-46d9-8c1e-a0805e3f8fcc",
    "_uuid": "58eb1274-3aca-40b3-a91e-6bef5c06526a",
    "collapsed": false,
    "jupyter": {
     "outputs_hidden": false
    },
    "papermill": {
     "duration": 0.016754,
     "end_time": "2025-04-28T10:28:49.664065",
     "exception": false,
     "start_time": "2025-04-28T10:28:49.647311",
     "status": "completed"
    },
    "tags": []
   },
   "source": [
    "## Data Inspection"
   ]
  },
  {
   "cell_type": "code",
   "execution_count": null,
   "id": "0b803e3d",
   "metadata": {
    "_cell_guid": "80df60f6-ddad-41cd-ada1-42346f75ac1a",
    "_uuid": "2a2db0a1-2e2c-4329-943e-ab62b4cf1573",
    "collapsed": false,
    "execution": {
     "iopub.execute_input": "2025-04-28T10:28:49.697669Z",
     "iopub.status.busy": "2025-04-28T10:28:49.696857Z",
     "iopub.status.idle": "2025-04-28T10:28:49.754311Z",
     "shell.execute_reply": "2025-04-28T10:28:49.753201Z"
    },
    "jupyter": {
     "outputs_hidden": false
    },
    "papermill": {
     "duration": 0.076291,
     "end_time": "2025-04-28T10:28:49.755982",
     "exception": false,
     "start_time": "2025-04-28T10:28:49.679691",
     "status": "completed"
    },
    "tags": []
   },
   "outputs": [],
   "source": [
    "df = Regression_df\n",
    "print(\"Combined shape:\", df.shape)\n",
    "df.info()"
   ]
  },
  {
   "cell_type": "code",
   "execution_count": null,
   "id": "8192acbd",
   "metadata": {
    "_cell_guid": "32190542-898d-4b1d-975f-9ba8a80babbb",
    "_uuid": "b0c0c9a4-949b-4200-a24b-fb726035827d",
    "collapsed": false,
    "execution": {
     "iopub.execute_input": "2025-04-28T10:28:49.789310Z",
     "iopub.status.busy": "2025-04-28T10:28:49.788997Z",
     "iopub.status.idle": "2025-04-28T10:28:49.823714Z",
     "shell.execute_reply": "2025-04-28T10:28:49.822620Z"
    },
    "jupyter": {
     "outputs_hidden": false
    },
    "papermill": {
     "duration": 0.05312,
     "end_time": "2025-04-28T10:28:49.825418",
     "exception": false,
     "start_time": "2025-04-28T10:28:49.772298",
     "status": "completed"
    },
    "tags": []
   },
   "outputs": [],
   "source": [
    "df.describe()"
   ]
  },
  {
   "cell_type": "code",
   "execution_count": null,
   "id": "ddb20477",
   "metadata": {
    "_cell_guid": "652f3f9f-0473-49fa-8102-752e117e74f9",
    "_uuid": "1c099f49-04b0-4480-b043-00c81bd6a6c5",
    "collapsed": false,
    "execution": {
     "iopub.execute_input": "2025-04-28T10:28:49.859459Z",
     "iopub.status.busy": "2025-04-28T10:28:49.859138Z",
     "iopub.status.idle": "2025-04-28T10:28:49.875650Z",
     "shell.execute_reply": "2025-04-28T10:28:49.874784Z"
    },
    "jupyter": {
     "outputs_hidden": false
    },
    "papermill": {
     "duration": 0.03508,
     "end_time": "2025-04-28T10:28:49.877159",
     "exception": false,
     "start_time": "2025-04-28T10:28:49.842079",
     "status": "completed"
    },
    "tags": []
   },
   "outputs": [],
   "source": [
    "df.head()"
   ]
  },
  {
   "cell_type": "code",
   "execution_count": null,
   "id": "e5516f3b",
   "metadata": {
    "_cell_guid": "8498edd3-1188-4614-83a4-d82a3898e04d",
    "_uuid": "c9f19d56-772b-4921-a1a3-c76626a861ee",
    "collapsed": false,
    "execution": {
     "iopub.execute_input": "2025-04-28T10:28:49.913814Z",
     "iopub.status.busy": "2025-04-28T10:28:49.913342Z",
     "iopub.status.idle": "2025-04-28T10:28:49.929779Z",
     "shell.execute_reply": "2025-04-28T10:28:49.928812Z"
    },
    "jupyter": {
     "outputs_hidden": false
    },
    "papermill": {
     "duration": 0.037085,
     "end_time": "2025-04-28T10:28:49.931208",
     "exception": false,
     "start_time": "2025-04-28T10:28:49.894123",
     "status": "completed"
    },
    "tags": []
   },
   "outputs": [],
   "source": [
    "df.tail()"
   ]
  },
  {
   "cell_type": "code",
   "execution_count": null,
   "id": "53c8a45a",
   "metadata": {
    "_cell_guid": "dc58ecb8-67dd-41fb-b620-84646ea4c8cd",
    "_uuid": "28f734b0-d9b4-43ad-90e4-5115046014d4",
    "collapsed": false,
    "execution": {
     "iopub.execute_input": "2025-04-28T10:28:50.033127Z",
     "iopub.status.busy": "2025-04-28T10:28:50.032668Z",
     "iopub.status.idle": "2025-04-28T10:28:50.076805Z",
     "shell.execute_reply": "2025-04-28T10:28:50.075704Z"
    },
    "jupyter": {
     "outputs_hidden": false
    },
    "papermill": {
     "duration": 0.06397,
     "end_time": "2025-04-28T10:28:50.078532",
     "exception": false,
     "start_time": "2025-04-28T10:28:50.014562",
     "status": "completed"
    },
    "tags": []
   },
   "outputs": [],
   "source": [
    "df.isna().sum()"
   ]
  },
  {
   "cell_type": "code",
   "execution_count": null,
   "id": "e0d3358f",
   "metadata": {
    "_cell_guid": "a96355fc-0e13-4e7a-929e-39652d2c9d7b",
    "_uuid": "11088ab3-3c3f-48b8-b735-2c6b8175e7de",
    "collapsed": false,
    "execution": {
     "iopub.execute_input": "2025-04-28T10:28:50.114340Z",
     "iopub.status.busy": "2025-04-28T10:28:50.114018Z",
     "iopub.status.idle": "2025-04-28T10:28:50.156763Z",
     "shell.execute_reply": "2025-04-28T10:28:50.155760Z"
    },
    "jupyter": {
     "outputs_hidden": false
    },
    "papermill": {
     "duration": 0.062724,
     "end_time": "2025-04-28T10:28:50.158511",
     "exception": false,
     "start_time": "2025-04-28T10:28:50.095787",
     "status": "completed"
    },
    "tags": []
   },
   "outputs": [],
   "source": [
    "df.isnull().sum()"
   ]
  },
  {
   "cell_type": "code",
   "execution_count": null,
   "id": "d536fc53",
   "metadata": {
    "_cell_guid": "567001f4-951b-408f-bd8a-7566d52053f0",
    "_uuid": "9029f5cb-82ac-4e8f-804e-46e5647f67d4",
    "collapsed": false,
    "execution": {
     "iopub.execute_input": "2025-04-28T10:28:50.195016Z",
     "iopub.status.busy": "2025-04-28T10:28:50.194646Z",
     "iopub.status.idle": "2025-04-28T10:28:50.279785Z",
     "shell.execute_reply": "2025-04-28T10:28:50.278889Z"
    },
    "jupyter": {
     "outputs_hidden": false
    },
    "papermill": {
     "duration": 0.105234,
     "end_time": "2025-04-28T10:28:50.281378",
     "exception": false,
     "start_time": "2025-04-28T10:28:50.176144",
     "status": "completed"
    },
    "tags": []
   },
   "outputs": [],
   "source": [
    "df.duplicated().sum()"
   ]
  },
  {
   "cell_type": "code",
   "execution_count": null,
   "id": "5323246c",
   "metadata": {
    "_cell_guid": "bb5f956b-1e21-4fba-a6c9-d76bf371099c",
    "_uuid": "11c5e87c-d93a-4254-b968-d26a8f614137",
    "collapsed": false,
    "execution": {
     "iopub.execute_input": "2025-04-28T10:28:50.317339Z",
     "iopub.status.busy": "2025-04-28T10:28:50.317000Z",
     "iopub.status.idle": "2025-04-28T10:28:50.590181Z",
     "shell.execute_reply": "2025-04-28T10:28:50.589310Z"
    },
    "jupyter": {
     "outputs_hidden": false
    },
    "papermill": {
     "duration": 0.293224,
     "end_time": "2025-04-28T10:28:50.591684",
     "exception": false,
     "start_time": "2025-04-28T10:28:50.298460",
     "status": "completed"
    },
    "tags": []
   },
   "outputs": [],
   "source": [
    "print(\"\\n=== Detailed Column Analysis ===\")\n",
    "\n",
    "print(\"\\n1. Metacritic Analysis:\")\n",
    "print(\"Missing values:\", df['metacritic'].isna().sum())\n",
    "print(\"Percentage missing:\", (df['metacritic'].isna().sum() / len(df)) * 100)\n",
    "\n",
    "df['metacritic'] = pd.to_numeric(df['metacritic'], errors='coerce')\n",
    "if 'reviewScore' in df.columns:\n",
    "    df['reviewScore'] = pd.to_numeric(df['reviewScore'], errors='coerce')\n",
    "    \n",
    "    print(\"\\nCorrelation with reviewScore:\", df['metacritic'].corr(df['reviewScore']))\n",
    "\n",
    "print(\"\\nMetacritic statistics:\")\n",
    "print(df['metacritic'].describe())\n",
    "\n",
    "print(\"\\n2. Achievements Analysis:\")\n",
    "\n",
    "df['achievements_total'] = pd.to_numeric(df['achievements_total'], errors='coerce')\n",
    "\n",
    "print(\"Missing values:\", df['achievements_total'].isna().sum())\n",
    "print(\"Percentage missing:\", (df['achievements_total'].isna().sum() / len(df)) * 100)\n",
    "\n",
    "print(\"\\nGames with achievements:\")\n",
    "print(df[df['achievements_total'] > 0]['achievements_total'].describe())\n",
    "\n",
    "if 'reviewScore' in df.columns:\n",
    "    print(\"\\nCorrelation with reviewScore:\", df['achievements_total'].corr(df['reviewScore']))\n",
    "\n",
    "print(\"\\n3. Genres Analysis:\")\n",
    "print(\"Missing values:\", df['genres'].isna().sum())\n",
    "print(\"Percentage missing:\", (df['genres'].isna().sum() / len(df)) * 100)\n",
    "print(\"\\nTop 10 most common genres:\")\n",
    "print(df['genres'].value_counts().head(10))\n",
    "\n",
    "print(\"\\n4. Release Date Analysis:\")\n",
    "print(\"Missing values:\", df['release_date'].isna().sum())\n",
    "print(\"Percentage missing:\", (df['release_date'].isna().sum() / len(df)) * 100)\n",
    "print(\"\\nRelease date distribution:\")\n",
    "print(df['release_date'].value_counts().head())\n",
    "\n",
    "print(\"\\n5. High Missing Value Columns Analysis:\")\n",
    "columns_to_check = ['aiContent','name_x', 'name_y']\n",
    "for col in columns_to_check:\n",
    "    print(f\"\\n{col} missing values:\", df[col].isna().sum())\n",
    "    print(f\"Percentage missing:\", (df[col].isna().sum() / len(df)) * 100)\n",
    "\n",
    "print(\"\\n6. Duplicate Analysis:\")\n",
    "print(\"Number of duplicate rows:\", df.duplicated().sum())\n",
    "print(\"\\nSample of duplicate rows:\")\n",
    "df[df.duplicated()].head()"
   ]
  },
  {
   "cell_type": "markdown",
   "id": "650d69d5",
   "metadata": {
    "_cell_guid": "e91e11f3-643d-4056-ab94-1b529b2d46dd",
    "_uuid": "44b35b7d-0fca-406b-bf08-69a14f2b2b6c",
    "collapsed": false,
    "jupyter": {
     "outputs_hidden": false
    },
    "papermill": {
     "duration": 0.017035,
     "end_time": "2025-04-28T10:28:50.626207",
     "exception": false,
     "start_time": "2025-04-28T10:28:50.609172",
     "status": "completed"
    },
    "tags": []
   },
   "source": [
    "## Detailed Column Analysis for Preprocessing Decisions"
   ]
  },
  {
   "cell_type": "markdown",
   "id": "e4e02dbc",
   "metadata": {
    "_cell_guid": "370411ba-2bd4-48cd-a673-90ceb4ca71ec",
    "_uuid": "adb8d7ce-a564-46b6-9aae-ded4e0ecb37c",
    "collapsed": false,
    "jupyter": {
     "outputs_hidden": false
    },
    "papermill": {
     "duration": 0.017148,
     "end_time": "2025-04-28T10:28:50.660445",
     "exception": false,
     "start_time": "2025-04-28T10:28:50.643297",
     "status": "completed"
    },
    "tags": []
   },
   "source": [
    "# EDA"
   ]
  },
  {
   "cell_type": "markdown",
   "id": "c263ae63",
   "metadata": {
    "_cell_guid": "949d27d2-71b2-4041-942f-117ba021322d",
    "_uuid": "8349ae57-01c5-4dda-8b90-1b363bfe263d",
    "collapsed": false,
    "jupyter": {
     "outputs_hidden": false
    },
    "papermill": {
     "duration": 0.017397,
     "end_time": "2025-04-28T10:28:50.695386",
     "exception": false,
     "start_time": "2025-04-28T10:28:50.677989",
     "status": "completed"
    },
    "tags": []
   },
   "source": [
    "### Univariate Analysis"
   ]
  },
  {
   "cell_type": "code",
   "execution_count": null,
   "id": "54da7bff",
   "metadata": {
    "_cell_guid": "dd20bc3d-f73e-4d84-9f91-0a15a0a16b58",
    "_uuid": "31451c0a-d223-4f3a-b8d0-aefd0939bb06",
    "collapsed": false,
    "execution": {
     "iopub.execute_input": "2025-04-28T10:28:50.732396Z",
     "iopub.status.busy": "2025-04-28T10:28:50.732077Z",
     "iopub.status.idle": "2025-04-28T10:28:51.092271Z",
     "shell.execute_reply": "2025-04-28T10:28:51.091127Z"
    },
    "jupyter": {
     "outputs_hidden": false
    },
    "papermill": {
     "duration": 0.381483,
     "end_time": "2025-04-28T10:28:51.094273",
     "exception": false,
     "start_time": "2025-04-28T10:28:50.712790",
     "status": "completed"
    },
    "tags": []
   },
   "outputs": [],
   "source": [
    "plt.figure(figsize=(10, 6))\n",
    "plt.plot(df['price'], label='Price', color='blue')\n",
    "plt.title('Price Plot')\n",
    "plt.xlabel('Index')\n",
    "plt.ylabel('Price')\n",
    "plt.legend()\n",
    "plt.grid(True)\n",
    "plt.show()"
   ]
  },
  {
   "cell_type": "code",
   "execution_count": null,
   "id": "7873e8bf",
   "metadata": {
    "_cell_guid": "19ee35df-99ac-4c87-988a-ac0189b2e6f9",
    "_uuid": "e212caf4-129d-4c8f-b61a-157cc170d18f",
    "collapsed": false,
    "execution": {
     "iopub.execute_input": "2025-04-28T10:28:51.142673Z",
     "iopub.status.busy": "2025-04-28T10:28:51.142375Z",
     "iopub.status.idle": "2025-04-28T10:28:51.379715Z",
     "shell.execute_reply": "2025-04-28T10:28:51.378231Z"
    },
    "jupyter": {
     "outputs_hidden": false
    },
    "papermill": {
     "duration": 0.269807,
     "end_time": "2025-04-28T10:28:51.382376",
     "exception": false,
     "start_time": "2025-04-28T10:28:51.112569",
     "status": "completed"
    },
    "tags": []
   },
   "outputs": [],
   "source": [
    "plt.style.use(\"ggplot\")\n",
    "publisher_class_counts = df['publisherClass'].value_counts()\n",
    "explode = [0.1 if i == 0 else 0 for i in range(len(publisher_class_counts))]\n",
    "\n",
    "plt.figure(figsize=(6, 6))\n",
    "patches, texts, autotexts = plt.pie(\n",
    "    publisher_class_counts,\n",
    "    labels=None,  \n",
    "    autopct='%1.1f%%', \n",
    "    startangle=90,\n",
    "    textprops={\"fontweight\": \"bold\"},\n",
    "    explode=explode,\n",
    "    shadow=True,\n",
    "    wedgeprops={'edgecolor': 'black', 'linewidth': 1.5},\n",
    "    colors=plt.cm.Paired.colors\n",
    ")\n",
    "\n",
    "plt.legend(patches, publisher_class_counts.index, loc='upper right', bbox_to_anchor=(1.3, 1), title=\"Publisher Class\")\n",
    "plt.title('Publisher Class Distribution', fontsize=14, fontweight='bold')\n",
    "plt.tight_layout()\n",
    "plt.show()"
   ]
  },
  {
   "cell_type": "code",
   "execution_count": null,
   "id": "9074df7b",
   "metadata": {
    "_cell_guid": "51115eae-2de3-40b0-8c7d-cfe413b94495",
    "_uuid": "2a0bdc96-e737-41ed-ba3c-c5e2b4808a5b",
    "collapsed": false,
    "execution": {
     "iopub.execute_input": "2025-04-28T10:28:51.426878Z",
     "iopub.status.busy": "2025-04-28T10:28:51.426122Z",
     "iopub.status.idle": "2025-04-28T10:28:51.435583Z",
     "shell.execute_reply": "2025-04-28T10:28:51.434794Z"
    },
    "jupyter": {
     "outputs_hidden": false
    },
    "papermill": {
     "duration": 0.030831,
     "end_time": "2025-04-28T10:28:51.437100",
     "exception": false,
     "start_time": "2025-04-28T10:28:51.406269",
     "status": "completed"
    },
    "tags": []
   },
   "outputs": [],
   "source": [
    "df['reviewScore'].value_counts()"
   ]
  },
  {
   "cell_type": "code",
   "execution_count": null,
   "id": "d0fcfd85",
   "metadata": {
    "_cell_guid": "2fa83664-68b7-42df-bc61-9ec58daad28e",
    "_uuid": "eaec5d66-d5c8-453b-8811-938f77393d37",
    "collapsed": false,
    "execution": {
     "iopub.execute_input": "2025-04-28T10:28:51.476741Z",
     "iopub.status.busy": "2025-04-28T10:28:51.476336Z",
     "iopub.status.idle": "2025-04-28T10:28:51.488030Z",
     "shell.execute_reply": "2025-04-28T10:28:51.487091Z"
    },
    "jupyter": {
     "outputs_hidden": false
    },
    "papermill": {
     "duration": 0.033252,
     "end_time": "2025-04-28T10:28:51.489566",
     "exception": false,
     "start_time": "2025-04-28T10:28:51.456314",
     "status": "completed"
    },
    "tags": []
   },
   "outputs": [],
   "source": [
    "df['price'].value_counts()"
   ]
  },
  {
   "cell_type": "code",
   "execution_count": null,
   "id": "43ba90df",
   "metadata": {
    "_cell_guid": "f440184b-64e7-4850-a37e-6033959ba32d",
    "_uuid": "4caf8626-36ae-407c-8dfe-3284ed7dceb5",
    "collapsed": false,
    "execution": {
     "iopub.execute_input": "2025-04-28T10:28:51.530348Z",
     "iopub.status.busy": "2025-04-28T10:28:51.530015Z",
     "iopub.status.idle": "2025-04-28T10:28:51.684110Z",
     "shell.execute_reply": "2025-04-28T10:28:51.683119Z"
    },
    "jupyter": {
     "outputs_hidden": false
    },
    "papermill": {
     "duration": 0.176778,
     "end_time": "2025-04-28T10:28:51.685599",
     "exception": false,
     "start_time": "2025-04-28T10:28:51.508821",
     "status": "completed"
    },
    "tags": []
   },
   "outputs": [],
   "source": [
    "steam_achievements_counts = df['steam_achievements'].value_counts()\n",
    "plt.style.use(\"ggplot\")\n",
    "explode = [0.1 if i == 0 else 0 for i in range(len(steam_achievements_counts))]\n",
    "plt.figure(figsize=(6, 6))\n",
    "patches, texts, autotexts = plt.pie(\n",
    "    steam_achievements_counts,\n",
    "    labels=None,  \n",
    "    autopct='%1.1f%%',\n",
    "    startangle=90,\n",
    "    textprops={\"fontweight\": \"bold\"},\n",
    "    explode=explode,\n",
    "    shadow=True,\n",
    "    wedgeprops={'edgecolor': 'black', 'linewidth': 1.5},\n",
    "    colors=plt.cm.Paired.colors\n",
    ")\n",
    "\n",
    "plt.legend(\n",
    "    patches,\n",
    "    steam_achievements_counts.index,\n",
    "    loc='upper right',\n",
    "    bbox_to_anchor=(1.3, 1),\n",
    "    title=\"Steam Achievements\"\n",
    ")\n",
    "\n",
    "\n",
    "plt.title('Steam Achievements Distribution', fontsize=14, fontweight='bold')\n",
    "\n",
    "\n",
    "plt.tight_layout()\n",
    "plt.show()"
   ]
  },
  {
   "cell_type": "code",
   "execution_count": null,
   "id": "c8f4b08c",
   "metadata": {
    "_cell_guid": "77c92fe8-08ed-499d-b5a6-b0d0754c05d9",
    "_uuid": "85af96e8-387a-454f-b2fc-3fed072761e9",
    "collapsed": false,
    "execution": {
     "iopub.execute_input": "2025-04-28T10:28:51.727309Z",
     "iopub.status.busy": "2025-04-28T10:28:51.727017Z",
     "iopub.status.idle": "2025-04-28T10:28:51.907705Z",
     "shell.execute_reply": "2025-04-28T10:28:51.906627Z"
    },
    "jupyter": {
     "outputs_hidden": false
    },
    "papermill": {
     "duration": 0.203387,
     "end_time": "2025-04-28T10:28:51.909423",
     "exception": false,
     "start_time": "2025-04-28T10:28:51.706036",
     "status": "completed"
    },
    "tags": []
   },
   "outputs": [],
   "source": [
    "steam_trading_cards_counts = df['steam_trading_cards'].value_counts()\n",
    "plt.style.use(\"ggplot\")\n",
    "explode = [0.1 if i == 0 else 0 for i in range(len(steam_trading_cards_counts))]\n",
    "plt.figure(figsize=(6, 6))\n",
    "patches, texts, autotexts = plt.pie(\n",
    "    steam_trading_cards_counts,\n",
    "    labels=None,  \n",
    "    autopct='%1.1f%%',\n",
    "    startangle=90,\n",
    "    textprops={\"fontweight\": \"bold\"},\n",
    "    explode=explode,\n",
    "    shadow=True,\n",
    "    wedgeprops={'edgecolor': 'black', 'linewidth': 1.5},\n",
    "    colors=plt.cm.Paired.colors\n",
    ")\n",
    "\n",
    "plt.legend(\n",
    "    patches,\n",
    "    steam_trading_cards_counts.index,\n",
    "    loc='upper right',\n",
    "    bbox_to_anchor=(1.3, 1),\n",
    "    title=\"Steam Trading Cards\"\n",
    ")\n",
    "\n",
    "\n",
    "plt.title('Steam Trading Cards Distribution', fontsize=14, fontweight='bold')\n",
    "\n",
    "\n",
    "plt.tight_layout()\n",
    "plt.show()"
   ]
  },
  {
   "cell_type": "code",
   "execution_count": null,
   "id": "003e7326",
   "metadata": {
    "_cell_guid": "b03cda3d-df8f-498b-979b-4597cebd9049",
    "_uuid": "d78b3609-30d8-4035-ac1d-3cd1fa184f6a",
    "collapsed": false,
    "execution": {
     "iopub.execute_input": "2025-04-28T10:28:51.954511Z",
     "iopub.status.busy": "2025-04-28T10:28:51.954212Z",
     "iopub.status.idle": "2025-04-28T10:28:52.128645Z",
     "shell.execute_reply": "2025-04-28T10:28:52.127620Z"
    },
    "jupyter": {
     "outputs_hidden": false
    },
    "papermill": {
     "duration": 0.199032,
     "end_time": "2025-04-28T10:28:52.130369",
     "exception": false,
     "start_time": "2025-04-28T10:28:51.931337",
     "status": "completed"
    },
    "tags": []
   },
   "outputs": [],
   "source": [
    "workshop_support_counts = df['workshop_support'].value_counts()\n",
    "plt.style.use(\"ggplot\")\n",
    "explode = [0.1 if i == 0 else 0 for i in range(len(workshop_support_counts))]\n",
    "plt.figure(figsize=(6, 6))\n",
    "patches, texts, autotexts = plt.pie(\n",
    "    workshop_support_counts,\n",
    "    labels=None,  \n",
    "    autopct='%1.1f%%',\n",
    "    startangle=90,\n",
    "    textprops={\"fontweight\": \"bold\"},\n",
    "    explode=explode,\n",
    "    shadow=True,\n",
    "    wedgeprops={'edgecolor': 'black', 'linewidth': 1.5},\n",
    "    colors=plt.cm.Paired.colors\n",
    ")\n",
    "\n",
    "plt.legend(\n",
    "    patches,\n",
    "    workshop_support_counts.index,\n",
    "    loc='upper right',\n",
    "    bbox_to_anchor=(1.3, 1),\n",
    "    title=\"Workshop Support\"\n",
    ")\n",
    "\n",
    "\n",
    "plt.title('Workshop Support Distribution', fontsize=14, fontweight='bold')\n",
    "\n",
    "\n",
    "plt.tight_layout()\n",
    "plt.show()"
   ]
  },
  {
   "cell_type": "code",
   "execution_count": null,
   "id": "789d9d9e",
   "metadata": {
    "_cell_guid": "935145e0-a411-4ec8-b571-ccff92e6bdef",
    "_uuid": "f2cc7178-f2d4-4c31-bb6d-4883659d6e99",
    "collapsed": false,
    "execution": {
     "iopub.execute_input": "2025-04-28T10:28:52.177874Z",
     "iopub.status.busy": "2025-04-28T10:28:52.177466Z",
     "iopub.status.idle": "2025-04-28T10:28:52.481381Z",
     "shell.execute_reply": "2025-04-28T10:28:52.480269Z"
    },
    "jupyter": {
     "outputs_hidden": false
    },
    "papermill": {
     "duration": 0.329654,
     "end_time": "2025-04-28T10:28:52.483045",
     "exception": false,
     "start_time": "2025-04-28T10:28:52.153391",
     "status": "completed"
    },
    "tags": []
   },
   "outputs": [],
   "source": [
    "price_counts = df['price'].value_counts().sort_index()\n",
    "expanded_prices = np.repeat(price_counts.index, price_counts.values)\n",
    "plt.figure(figsize=(10, 6))\n",
    "plt.hist(expanded_prices, bins=50, color='skyblue', edgecolor='black')\n",
    "plt.title('Price Distribution Histogram')\n",
    "plt.xlabel('Price')\n",
    "plt.ylabel('Number of Games')\n",
    "plt.grid(True)\n",
    "plt.tight_layout()\n",
    "plt.show()"
   ]
  },
  {
   "cell_type": "code",
   "execution_count": null,
   "id": "16d34b31",
   "metadata": {
    "_cell_guid": "9a4a549a-1eab-4c2f-b85b-4988f22be23a",
    "_uuid": "18ce9ad2-7af7-46d8-a31e-ae3fc8ed5486",
    "collapsed": false,
    "execution": {
     "iopub.execute_input": "2025-04-28T10:28:52.529895Z",
     "iopub.status.busy": "2025-04-28T10:28:52.529445Z",
     "iopub.status.idle": "2025-04-28T10:28:52.805138Z",
     "shell.execute_reply": "2025-04-28T10:28:52.804126Z"
    },
    "jupyter": {
     "outputs_hidden": false
    },
    "papermill": {
     "duration": 0.301653,
     "end_time": "2025-04-28T10:28:52.807143",
     "exception": false,
     "start_time": "2025-04-28T10:28:52.505490",
     "status": "completed"
    },
    "tags": []
   },
   "outputs": [],
   "source": [
    "review_score_counts = df['reviewScore'].value_counts().sort_index()\n",
    "expanded_review_scores = np.repeat(review_score_counts.index, review_score_counts.values)\n",
    "plt.figure(figsize=(10, 6))\n",
    "plt.hist(expanded_review_scores, bins=50, color='skyblue', edgecolor='black')  \n",
    "plt.title('Review Score Distribution')\n",
    "plt.xlabel('Review Score')\n",
    "plt.ylabel('Number of Games')\n",
    "plt.grid(True)\n",
    "plt.tight_layout()\n",
    "plt.show()"
   ]
  },
  {
   "cell_type": "code",
   "execution_count": null,
   "id": "302cddc8",
   "metadata": {
    "_cell_guid": "c8da46c3-04f1-49f0-8e23-0d428c3647dc",
    "_uuid": "f932610a-bd5b-4296-bb6b-81f299417a28",
    "collapsed": false,
    "execution": {
     "iopub.execute_input": "2025-04-28T10:28:52.855607Z",
     "iopub.status.busy": "2025-04-28T10:28:52.855299Z",
     "iopub.status.idle": "2025-04-28T10:28:53.142886Z",
     "shell.execute_reply": "2025-04-28T10:28:53.141777Z"
    },
    "jupyter": {
     "outputs_hidden": false
    },
    "papermill": {
     "duration": 0.31391,
     "end_time": "2025-04-28T10:28:53.144576",
     "exception": false,
     "start_time": "2025-04-28T10:28:52.830666",
     "status": "completed"
    },
    "tags": []
   },
   "outputs": [],
   "source": [
    "achievements_counts = df['achievements_total'].value_counts().sort_index()\n",
    "expanded_achievements = np.repeat(achievements_counts.index, achievements_counts.values)\n",
    "plt.figure(figsize=(10, 6))\n",
    "n, bins, patches = plt.hist(expanded_achievements, bins=50, color='lightcoral', edgecolor='black')\n",
    "plt.title('Achievements Total Distribution')\n",
    "plt.xlabel('Achievements Total')\n",
    "plt.ylabel('Number of Games')\n",
    "plt.ylim(0, max(n) + (max(n) * 0.1))\n",
    "plt.grid(True)\n",
    "plt.tight_layout()\n",
    "plt.show()"
   ]
  },
  {
   "cell_type": "code",
   "execution_count": null,
   "id": "b391d2fc",
   "metadata": {
    "_cell_guid": "b3180e86-700c-45b5-b387-ceb53e7da6d5",
    "_uuid": "300aaa07-5af4-4d90-afa1-a27f0f1b9287",
    "collapsed": false,
    "execution": {
     "iopub.execute_input": "2025-04-28T10:28:53.201703Z",
     "iopub.status.busy": "2025-04-28T10:28:53.200893Z",
     "iopub.status.idle": "2025-04-28T10:28:53.481636Z",
     "shell.execute_reply": "2025-04-28T10:28:53.480669Z"
    },
    "jupyter": {
     "outputs_hidden": false
    },
    "papermill": {
     "duration": 0.313691,
     "end_time": "2025-04-28T10:28:53.483204",
     "exception": false,
     "start_time": "2025-04-28T10:28:53.169513",
     "status": "completed"
    },
    "tags": []
   },
   "outputs": [],
   "source": [
    "platform_list = []\n",
    "\n",
    "for platforms in df['supported_platforms']:\n",
    "    if isinstance(platforms, str):  \n",
    "        platforms = platforms.lower().split(',')\n",
    "        platform_list.extend([platform.strip() for platform in platforms])\n",
    "\n",
    "\n",
    "platform_counts = Counter(platform_list)\n",
    "\n",
    "\n",
    "plt.figure(figsize=(8, 6))\n",
    "plt.bar(platform_counts.keys(), platform_counts.values(), color=['skyblue', 'lightgreen', 'salmon'])\n",
    "plt.title('Supported Platforms Distribution (Histogram)')\n",
    "plt.xlabel('Platform')\n",
    "plt.ylabel('Number of Games')\n",
    "\n",
    "\n",
    "max_count = max(platform_counts.values())\n",
    "plt.ylim(0, max_count + (max_count * 0.1))\n",
    "\n",
    "plt.grid(True, axis='y', linestyle='--', alpha=0.7)\n",
    "plt.tight_layout()\n",
    "plt.show()"
   ]
  },
  {
   "cell_type": "code",
   "execution_count": null,
   "id": "cf1db438",
   "metadata": {
    "_cell_guid": "d5d5dc16-37d0-4770-b3b6-52119458e478",
    "_uuid": "0c6ff588-6e58-4701-bd89-e79efaa30f0e",
    "collapsed": false,
    "execution": {
     "iopub.execute_input": "2025-04-28T10:28:53.535836Z",
     "iopub.status.busy": "2025-04-28T10:28:53.535437Z",
     "iopub.status.idle": "2025-04-28T10:28:54.135456Z",
     "shell.execute_reply": "2025-04-28T10:28:54.134396Z"
    },
    "jupyter": {
     "outputs_hidden": false
    },
    "papermill": {
     "duration": 0.629171,
     "end_time": "2025-04-28T10:28:54.138397",
     "exception": false,
     "start_time": "2025-04-28T10:28:53.509226",
     "status": "completed"
    },
    "tags": []
   },
   "outputs": [],
   "source": [
    "genres_list = []\n",
    "for genres in df['genres']:\n",
    "    if isinstance(genres, str): \n",
    "        genres = genres.lower().split(',')\n",
    "        genres_list.extend([genre.strip() for genre in genres])\n",
    "\n",
    "\n",
    "genres_counts = Counter(genres_list)\n",
    "\n",
    "\n",
    "plt.figure(figsize=(10, 6))\n",
    "plt.bar(genres_counts.keys(), genres_counts.values(), color=['skyblue', 'lightgreen', 'salmon'])\n",
    "plt.title('Genres Distribution (Histogram)')\n",
    "plt.xlabel('Genre')\n",
    "plt.ylabel('Number of Games')\n",
    "\n",
    "max_count = max(genres_counts.values())\n",
    "plt.ylim(0, max_count + (max_count * 0.1)) \n",
    "\n",
    "plt.xticks(rotation=45, ha=\"right\") \n",
    "plt.grid(True, axis='y', linestyle='--', alpha=0.7)\n",
    "plt.tight_layout()\n",
    "plt.show()"
   ]
  },
  {
   "cell_type": "markdown",
   "id": "836f945e",
   "metadata": {
    "_cell_guid": "31d41ec3-ce26-475c-a7dc-409a4b7ba515",
    "_uuid": "404cab66-898e-4933-926d-675398d2a730",
    "collapsed": false,
    "jupyter": {
     "outputs_hidden": false
    },
    "papermill": {
     "duration": 0.028179,
     "end_time": "2025-04-28T10:28:54.195564",
     "exception": false,
     "start_time": "2025-04-28T10:28:54.167385",
     "status": "completed"
    },
    "tags": []
   },
   "source": [
    "### Bivariate Analysis"
   ]
  },
  {
   "cell_type": "code",
   "execution_count": null,
   "id": "382134f5",
   "metadata": {
    "_cell_guid": "370b1cf5-faf1-4ac5-b161-fe88d3cebaa0",
    "_uuid": "3212c02b-f3c5-4cd7-9527-e4e43421eaef",
    "collapsed": false,
    "execution": {
     "iopub.execute_input": "2025-04-28T10:28:54.249596Z",
     "iopub.status.busy": "2025-04-28T10:28:54.249290Z",
     "iopub.status.idle": "2025-04-28T10:28:54.652038Z",
     "shell.execute_reply": "2025-04-28T10:28:54.650598Z"
    },
    "jupyter": {
     "outputs_hidden": false
    },
    "papermill": {
     "duration": 0.43241,
     "end_time": "2025-04-28T10:28:54.654052",
     "exception": false,
     "start_time": "2025-04-28T10:28:54.221642",
     "status": "completed"
    },
    "tags": []
   },
   "outputs": [],
   "source": [
    "price_threshold = df['price'].quantile(0.99)  \n",
    "copiesSold_threshold = df['copiesSold'].quantile(0.99)  \n",
    "\n",
    "filtered_df = df[(df['price'] <= price_threshold) & (df['copiesSold'] <= copiesSold_threshold)]\n",
    "\n",
    "plt.figure(figsize=(8, 6))\n",
    "sns.scatterplot(x='price', y='copiesSold', data=filtered_df, color='blue')\n",
    "plt.title('Price vs Copies Sold (Filtered Data)')\n",
    "plt.xlabel('Price')\n",
    "plt.ylabel('Copies Sold')\n",
    "plt.grid(True)\n",
    "plt.tight_layout()\n",
    "plt.show()"
   ]
  },
  {
   "cell_type": "code",
   "execution_count": null,
   "id": "04d9de14",
   "metadata": {
    "_cell_guid": "11109466-b750-4643-8627-99b01c4fa249",
    "_uuid": "5680c9ee-be4e-4d00-a267-793cdd6979a0",
    "collapsed": false,
    "execution": {
     "iopub.execute_input": "2025-04-28T10:28:54.714456Z",
     "iopub.status.busy": "2025-04-28T10:28:54.714138Z",
     "iopub.status.idle": "2025-04-28T10:28:55.023007Z",
     "shell.execute_reply": "2025-04-28T10:28:55.021820Z"
    },
    "jupyter": {
     "outputs_hidden": false
    },
    "papermill": {
     "duration": 0.340596,
     "end_time": "2025-04-28T10:28:55.024713",
     "exception": false,
     "start_time": "2025-04-28T10:28:54.684117",
     "status": "completed"
    },
    "tags": []
   },
   "outputs": [],
   "source": [
    "numeric_columns = ['price', 'copiesSold', 'metacritic', 'steam_achievements', 'steam_trading_cards']\n",
    "correlation_matrix = df[numeric_columns].corr()\n",
    "plt.figure(figsize=(8, 6))\n",
    "sns.heatmap(correlation_matrix, annot=True, cmap='coolwarm', fmt='.2f', linewidths=0.5)\n",
    "plt.title('Correlation Matrix of Numeric Columns')\n",
    "plt.tight_layout()\n",
    "plt.show()"
   ]
  },
  {
   "cell_type": "code",
   "execution_count": null,
   "id": "1987a9a8",
   "metadata": {
    "_cell_guid": "0c854607-9f87-4eb9-ac7b-41eb428b68d1",
    "_uuid": "d60eab0b-247e-491b-9560-33a42dc366ed",
    "collapsed": false,
    "execution": {
     "iopub.execute_input": "2025-04-28T10:28:55.086630Z",
     "iopub.status.busy": "2025-04-28T10:28:55.086321Z",
     "iopub.status.idle": "2025-04-28T10:28:55.370300Z",
     "shell.execute_reply": "2025-04-28T10:28:55.369338Z"
    },
    "jupyter": {
     "outputs_hidden": false
    },
    "papermill": {
     "duration": 0.315805,
     "end_time": "2025-04-28T10:28:55.371715",
     "exception": false,
     "start_time": "2025-04-28T10:28:55.055910",
     "status": "completed"
    },
    "tags": []
   },
   "outputs": [],
   "source": [
    "plt.figure(figsize=(8, 6))\n",
    "sns.countplot(x='publisherClass', hue='workshop_support', data=df, palette='Set2')\n",
    "plt.title('Publisher Class vs Workshop Support')\n",
    "plt.xlabel('Publisher Class')\n",
    "plt.ylabel('Count')\n",
    "plt.xticks(rotation=45)\n",
    "plt.tight_layout()\n",
    "plt.show()"
   ]
  },
  {
   "cell_type": "markdown",
   "id": "55d4668d",
   "metadata": {
    "_cell_guid": "83402025-b0b5-4ba5-950b-857debd03283",
    "_uuid": "e6e91a58-3516-45ad-8cc1-520f3269d61b",
    "collapsed": false,
    "jupyter": {
     "outputs_hidden": false
    },
    "papermill": {
     "duration": 0.029781,
     "end_time": "2025-04-28T10:28:55.433927",
     "exception": false,
     "start_time": "2025-04-28T10:28:55.404146",
     "status": "completed"
    },
    "tags": []
   },
   "source": [
    "### Additional Visualizations for Preprocessing Decisions"
   ]
  },
  {
   "cell_type": "code",
   "execution_count": null,
   "id": "613b0cd5",
   "metadata": {
    "_cell_guid": "ea1f5f8a-847c-43dc-a0f4-9c0fe87a6b8f",
    "_uuid": "5f31bffd-6f5f-4fc5-9079-510c01651c53",
    "collapsed": false,
    "execution": {
     "iopub.execute_input": "2025-04-28T10:28:55.496246Z",
     "iopub.status.busy": "2025-04-28T10:28:55.495914Z",
     "iopub.status.idle": "2025-04-28T10:28:55.827612Z",
     "shell.execute_reply": "2025-04-28T10:28:55.826634Z"
    },
    "jupyter": {
     "outputs_hidden": false
    },
    "papermill": {
     "duration": 0.365189,
     "end_time": "2025-04-28T10:28:55.829221",
     "exception": false,
     "start_time": "2025-04-28T10:28:55.464032",
     "status": "completed"
    },
    "tags": []
   },
   "outputs": [],
   "source": [
    "plt.figure(figsize=(10, 6))\n",
    "sns.histplot(df['metacritic'].dropna(), kde=True)\n",
    "plt.title('Distribution of Metacritic Scores')\n",
    "plt.xlabel('Metacritic Score')\n",
    "plt.ylabel('Count')\n",
    "plt.show()"
   ]
  },
  {
   "cell_type": "code",
   "execution_count": null,
   "id": "58497e05",
   "metadata": {
    "_cell_guid": "5bb191ca-9176-4c0f-a25d-385d7652220f",
    "_uuid": "c67a41f4-c6dd-471b-8f7e-86c752b872be",
    "collapsed": false,
    "execution": {
     "iopub.execute_input": "2025-04-28T10:28:55.895743Z",
     "iopub.status.busy": "2025-04-28T10:28:55.895399Z",
     "iopub.status.idle": "2025-04-28T10:28:56.227012Z",
     "shell.execute_reply": "2025-04-28T10:28:56.225832Z"
    },
    "jupyter": {
     "outputs_hidden": false
    },
    "papermill": {
     "duration": 0.366294,
     "end_time": "2025-04-28T10:28:56.228697",
     "exception": false,
     "start_time": "2025-04-28T10:28:55.862403",
     "status": "completed"
    },
    "tags": []
   },
   "outputs": [],
   "source": [
    "numerical_features = df.select_dtypes(include=['float64', 'int64']).columns\n",
    "plt.figure(figsize=(12, 8))\n",
    "sns.heatmap(df[numerical_features].corr(), annot=True, cmap='coolwarm')\n",
    "plt.title('Correlation Heatmap of Numerical Features')\n",
    "plt.show()"
   ]
  },
  {
   "cell_type": "markdown",
   "id": "d3b0c0a1",
   "metadata": {
    "_cell_guid": "7b94af89-1419-49df-a930-7a4dddc5ad7c",
    "_uuid": "0c56c400-83e9-4f89-96f4-41644a0435f1",
    "collapsed": false,
    "jupyter": {
     "outputs_hidden": false
    },
    "papermill": {
     "duration": 0.032158,
     "end_time": "2025-04-28T10:28:56.295930",
     "exception": false,
     "start_time": "2025-04-28T10:28:56.263772",
     "status": "completed"
    },
    "tags": []
   },
   "source": [
    "# Preprocessing"
   ]
  },
  {
   "cell_type": "markdown",
   "id": "2ae212b0",
   "metadata": {
    "_cell_guid": "3475c526-81b1-4b12-8421-ad3bdbe9d33a",
    "_uuid": "6f34b1df-4064-44f1-b7cb-026836dda54b",
    "collapsed": false,
    "jupyter": {
     "outputs_hidden": false
    },
    "papermill": {
     "duration": 0.032753,
     "end_time": "2025-04-28T10:28:56.360808",
     "exception": false,
     "start_time": "2025-04-28T10:28:56.328055",
     "status": "completed"
    },
    "tags": []
   },
   "source": [
    "## Data Cleaning"
   ]
  },
  {
   "cell_type": "markdown",
   "id": "fa980591",
   "metadata": {
    "_cell_guid": "15b7b7b7-cee1-4e15-a96a-809aa4587cff",
    "_uuid": "08181b42-4d69-4972-8b62-3cecf05df3bf",
    "collapsed": false,
    "jupyter": {
     "outputs_hidden": false
    },
    "papermill": {
     "duration": 0.048832,
     "end_time": "2025-04-28T10:28:56.442683",
     "exception": false,
     "start_time": "2025-04-28T10:28:56.393851",
     "status": "completed"
    },
    "tags": []
   },
   "source": [
    "## Outliers"
   ]
  },
  {
   "cell_type": "code",
   "execution_count": null,
   "id": "9a862869",
   "metadata": {
    "_cell_guid": "e6e2cad0-462f-4f63-adde-a145a5ccb2c5",
    "_uuid": "23dd91ee-c016-4694-a8bf-5f184a4a11da",
    "collapsed": false,
    "execution": {
     "iopub.execute_input": "2025-04-28T10:28:56.516479Z",
     "iopub.status.busy": "2025-04-28T10:28:56.515544Z",
     "iopub.status.idle": "2025-04-28T10:28:56.570620Z",
     "shell.execute_reply": "2025-04-28T10:28:56.569397Z"
    },
    "jupyter": {
     "outputs_hidden": false
    },
    "papermill": {
     "duration": 0.090854,
     "end_time": "2025-04-28T10:28:56.572140",
     "exception": false,
     "start_time": "2025-04-28T10:28:56.481286",
     "status": "completed"
    },
    "tags": []
   },
   "outputs": [],
   "source": [
    "numerical_cols = df.select_dtypes(include=['float64', 'int64']).columns\n",
    "for col in numerical_cols:\n",
    "    Q1 = df[col].quantile(0.25)\n",
    "    Q3 = df[col].quantile(0.75)\n",
    "    IQR = Q3 - Q1\n",
    "    lower_bound = Q1 - 1.5 * IQR\n",
    "    upper_bound = Q3 + 1.5 * IQR\n",
    "    outliers = (df[col] < lower_bound) | (df[col] > upper_bound)\n",
    "    df.loc[outliers, col] = df[col].mean()\n",
    "df.head()"
   ]
  },
  {
   "cell_type": "markdown",
   "id": "b6bf8641",
   "metadata": {
    "_cell_guid": "ab7207f3-45a4-4df2-94fb-107b4dd502cc",
    "_uuid": "11eece50-3689-46b0-801c-5ffd2a566552",
    "collapsed": false,
    "jupyter": {
     "outputs_hidden": false
    },
    "papermill": {
     "duration": 0.031784,
     "end_time": "2025-04-28T10:28:56.635869",
     "exception": false,
     "start_time": "2025-04-28T10:28:56.604085",
     "status": "completed"
    },
    "tags": []
   },
   "source": [
    "## Name"
   ]
  },
  {
   "cell_type": "code",
   "execution_count": null,
   "id": "0181ffac",
   "metadata": {
    "_cell_guid": "64507920-a5a0-4f16-a307-b267baed0838",
    "_uuid": "e1cadfce-d28a-41e8-9234-aa2bce90cf3e",
    "collapsed": false,
    "execution": {
     "iopub.execute_input": "2025-04-28T10:28:56.700912Z",
     "iopub.status.busy": "2025-04-28T10:28:56.700562Z",
     "iopub.status.idle": "2025-04-28T10:28:56.883446Z",
     "shell.execute_reply": "2025-04-28T10:28:56.882206Z"
    },
    "jupyter": {
     "outputs_hidden": false
    },
    "papermill": {
     "duration": 0.217208,
     "end_time": "2025-04-28T10:28:56.885135",
     "exception": false,
     "start_time": "2025-04-28T10:28:56.667927",
     "status": "completed"
    },
    "tags": []
   },
   "outputs": [],
   "source": [
    "df['achievements_total'] = df['achievements_total'].fillna(0)\n",
    "df['genres'] = df['genres'].fillna(df['genres'].mode()[0])\n",
    "print(df.columns)\n",
    "df = df.dropna(subset=['release_date'])\n",
    "columns_to_drop = ['metacritic']\n",
    "df = df.drop(columns=columns_to_drop)\n",
    "df = df.drop_duplicates()\n",
    "print(\"Shape after Previous preprocessing:\", df.shape)\n",
    "print(\"\\nMissing values after preprocessing:\")\n",
    "print(df.isna().sum())"
   ]
  },
  {
   "cell_type": "code",
   "execution_count": null,
   "id": "3a75f63b",
   "metadata": {
    "_cell_guid": "614eaad9-40c6-41d1-a640-3ae7c36979d4",
    "_uuid": "c9d1bdfb-99e2-44c2-8677-49fae7bf89d7",
    "collapsed": false,
    "execution": {
     "iopub.execute_input": "2025-04-28T10:28:56.952969Z",
     "iopub.status.busy": "2025-04-28T10:28:56.952590Z",
     "iopub.status.idle": "2025-04-28T10:28:57.333949Z",
     "shell.execute_reply": "2025-04-28T10:28:57.332832Z"
    },
    "jupyter": {
     "outputs_hidden": false
    },
    "papermill": {
     "duration": 0.417061,
     "end_time": "2025-04-28T10:28:57.335663",
     "exception": false,
     "start_time": "2025-04-28T10:28:56.918602",
     "status": "completed"
    },
    "tags": []
   },
   "outputs": [],
   "source": [
    "df['name'] = df['name'].fillna('Unknown Game') \n",
    "df['name'] = df['name'].str.replace(r'[^a-zA-Z0-9\\s]', '', regex=True)\n",
    "df['name'] = df['name'].str.lower()\n",
    "df['name'] = df['name'].str.strip()\n",
    "df['name_tokens'] = df['name'].str.split()\n",
    "df['name_length'] = df['name'].apply(len)\n",
    "df[['name', 'name_tokens', 'name_length']].head()"
   ]
  },
  {
   "cell_type": "markdown",
   "id": "fb74b81b",
   "metadata": {
    "_cell_guid": "d49f3ca2-366d-437e-b144-2bc68a9f7e6b",
    "_uuid": "dda3e727-8a02-4ced-b1b9-47230dd5147f",
    "collapsed": false,
    "jupyter": {
     "outputs_hidden": false
    },
    "papermill": {
     "duration": 0.033649,
     "end_time": "2025-04-28T10:28:57.402245",
     "exception": false,
     "start_time": "2025-04-28T10:28:57.368596",
     "status": "completed"
    },
    "tags": []
   },
   "source": [
    "## Date"
   ]
  },
  {
   "cell_type": "code",
   "execution_count": null,
   "id": "305551c1",
   "metadata": {
    "_cell_guid": "eaa3891d-4742-47bc-b66d-cb032e6a594d",
    "_uuid": "d2d77fc5-42a9-4b6d-9600-f2b29801a503",
    "collapsed": false,
    "execution": {
     "iopub.execute_input": "2025-04-28T10:28:57.469691Z",
     "iopub.status.busy": "2025-04-28T10:28:57.469313Z",
     "iopub.status.idle": "2025-04-28T10:28:58.632151Z",
     "shell.execute_reply": "2025-04-28T10:28:58.631054Z"
    },
    "jupyter": {
     "outputs_hidden": false
    },
    "papermill": {
     "duration": 1.198345,
     "end_time": "2025-04-28T10:28:58.633703",
     "exception": false,
     "start_time": "2025-04-28T10:28:57.435358",
     "status": "completed"
    },
    "tags": []
   },
   "outputs": [],
   "source": [
    "df['release_date'] = pd.to_datetime(df['release_date'], errors='coerce')\n",
    "\n",
    "df['year'] = df['release_date'].dt.year  \n",
    "df['month'] = df['release_date'].dt.month  \n",
    "df['day'] = df['release_date'].dt.day \n",
    "\n",
    "df['year'] = df['year'].fillna(df['year'].mode()[0])\n",
    "df['day'] = df['day'].fillna(df['day'].mode()[0])\n",
    "df['month'] = df['month'].fillna(df['month'].mode()[0])\n",
    "\n",
    "\n",
    "print(f\"Missing values in 'year': {df['year'].isnull().sum()}\")\n",
    "print(f\"Missing values in 'day': {df['day'].isnull().sum()}\")\n",
    "\n",
    "\n",
    "df = df.drop('release_date', axis=1)\n",
    "\n",
    "plt.figure(figsize=(10, 6))\n",
    "sns.histplot(df['year'], kde=False, bins=20, color='skyblue')\n",
    "plt.title('Distribution of Release Years')\n",
    "plt.xlabel('Year')\n",
    "plt.ylabel('Number of Games')\n",
    "plt.grid(True)\n",
    "plt.tight_layout()\n",
    "plt.show()\n",
    "\n",
    "plt.figure(figsize=(10, 6))\n",
    "sns.histplot(df['month'], kde=False, bins=12, color='lightgreen')\n",
    "plt.title('Distribution of Release Months')\n",
    "plt.xlabel('Month')\n",
    "plt.ylabel('Number of Games')\n",
    "plt.grid(True)\n",
    "plt.tight_layout()\n",
    "plt.show()\n",
    "\n",
    "plt.figure(figsize=(10, 6))\n",
    "sns.histplot(df['day'], kde=False, bins=31, color='salmon')\n",
    "plt.title('Distribution of Release Days')\n",
    "plt.xlabel('Day of the Month')\n",
    "plt.ylabel('Number of Games')\n",
    "plt.grid(True)\n",
    "plt.tight_layout()\n",
    "plt.show()"
   ]
  },
  {
   "cell_type": "markdown",
   "id": "79cff3d4",
   "metadata": {
    "_cell_guid": "ed086313-b1ae-4fe8-8aa2-1332e90d3fe6",
    "_uuid": "34b781a2-87e5-4fd1-aec8-851e922cc348",
    "collapsed": false,
    "jupyter": {
     "outputs_hidden": false
    },
    "papermill": {
     "duration": 0.044604,
     "end_time": "2025-04-28T10:28:58.715692",
     "exception": false,
     "start_time": "2025-04-28T10:28:58.671088",
     "status": "completed"
    },
    "tags": []
   },
   "source": [
    "## Encoding"
   ]
  },
  {
   "cell_type": "markdown",
   "id": "c3e17fd2",
   "metadata": {
    "_cell_guid": "40c8842d-1664-4007-875b-8059113d5e42",
    "_uuid": "0849e8cf-de33-4466-8150-47483f5f07e3",
    "collapsed": false,
    "jupyter": {
     "outputs_hidden": false
    },
    "papermill": {
     "duration": 0.033898,
     "end_time": "2025-04-28T10:28:58.785339",
     "exception": false,
     "start_time": "2025-04-28T10:28:58.751441",
     "status": "completed"
    },
    "tags": []
   },
   "source": [
    "### Boolean Features"
   ]
  },
  {
   "cell_type": "code",
   "execution_count": 33,
   "id": "5ddeb7d3",
   "metadata": {
    "_cell_guid": "d5a731f5-537b-4b2a-809d-8f1309339443",
    "_uuid": "90b772ef-2a98-4a10-a80b-ec07112b9f81",
    "collapsed": false,
    "execution": {
     "iopub.execute_input": "2025-04-28T10:28:58.855885Z",
     "iopub.status.busy": "2025-04-28T10:28:58.855535Z",
     "iopub.status.idle": "2025-04-28T10:28:58.862801Z",
     "shell.execute_reply": "2025-04-28T10:28:58.861666Z"
    },
    "jupyter": {
     "outputs_hidden": false
    },
    "papermill": {
     "duration": 0.044714,
     "end_time": "2025-04-28T10:28:58.864475",
     "exception": false,
     "start_time": "2025-04-28T10:28:58.819761",
     "status": "completed"
    },
    "tags": []
   },
   "outputs": [],
   "source": [
    " bool_features = ['steam_achievements', 'steam_trading_cards', 'workshop_support']\n",
    "for feature in bool_features:\n",
    "    df[feature] = df[feature].astype(int)"
   ]
  },
  {
   "cell_type": "markdown",
   "id": "09fa0100",
   "metadata": {
    "_cell_guid": "dc19410a-d954-4659-ac39-5384386e29b4",
    "_uuid": "1e7ce71f-f0f6-4028-a01a-d3583bd13090",
    "collapsed": false,
    "jupyter": {
     "outputs_hidden": false
    },
    "papermill": {
     "duration": 0.034027,
     "end_time": "2025-04-28T10:28:58.932544",
     "exception": false,
     "start_time": "2025-04-28T10:28:58.898517",
     "status": "completed"
    },
    "tags": []
   },
   "source": [
    "### Publisher Class"
   ]
  },
  {
   "cell_type": "code",
   "execution_count": null,
   "id": "63d3d500",
   "metadata": {
    "_cell_guid": "40c082d1-c2b6-4397-aa67-e71a4e2ea276",
    "_uuid": "df81284e-b74c-4396-8e96-936248ce0be5",
    "collapsed": false,
    "execution": {
     "iopub.execute_input": "2025-04-28T10:28:59.002369Z",
     "iopub.status.busy": "2025-04-28T10:28:59.002041Z",
     "iopub.status.idle": "2025-04-28T10:28:59.035073Z",
     "shell.execute_reply": "2025-04-28T10:28:59.033816Z"
    },
    "jupyter": {
     "outputs_hidden": false
    },
    "papermill": {
     "duration": 0.070924,
     "end_time": "2025-04-28T10:28:59.037177",
     "exception": false,
     "start_time": "2025-04-28T10:28:58.966253",
     "status": "completed"
    },
    "tags": []
   },
   "outputs": [],
   "source": [
    "label_encoder = LabelEncoder()\n",
    "df['publisher_class_encoded'] = label_encoder.fit_transform(df['publisherClass'])\n",
    "df[['publisherClass', 'publisher_class_encoded']].head()\n",
    "df.drop(columns='publisherClass',inplace=True)\n",
    "print(df.columns)"
   ]
  },
  {
   "cell_type": "markdown",
   "id": "79c1611d",
   "metadata": {
    "_cell_guid": "6db21a94-d01e-4ad6-b247-ce8034da7d0b",
    "_uuid": "938c0906-3ef0-4ebb-a14c-43be0e3d17aa",
    "collapsed": false,
    "jupyter": {
     "outputs_hidden": false
    },
    "papermill": {
     "duration": 0.034372,
     "end_time": "2025-04-28T10:28:59.106358",
     "exception": false,
     "start_time": "2025-04-28T10:28:59.071986",
     "status": "completed"
    },
    "tags": []
   },
   "source": [
    "### Genres"
   ]
  },
  {
   "cell_type": "code",
   "execution_count": null,
   "id": "41a9f816",
   "metadata": {
    "_cell_guid": "eaee74dd-b5a4-47b5-b7a1-a9d14b9116a9",
    "_uuid": "76d5c40a-c28d-4962-b495-f0c76615dff7",
    "collapsed": false,
    "execution": {
     "iopub.execute_input": "2025-04-28T10:28:59.185137Z",
     "iopub.status.busy": "2025-04-28T10:28:59.184810Z",
     "iopub.status.idle": "2025-04-28T10:29:35.480752Z",
     "shell.execute_reply": "2025-04-28T10:29:35.479791Z"
    },
    "jupyter": {
     "outputs_hidden": false
    },
    "papermill": {
     "duration": 36.375723,
     "end_time": "2025-04-28T10:29:35.516965",
     "exception": false,
     "start_time": "2025-04-28T10:28:59.141242",
     "status": "completed"
    },
    "tags": []
   },
   "outputs": [],
   "source": [
    "genres = df['genres'].str.split(',', expand=True)\n",
    "genre_columns = []\n",
    "\n",
    "unique_genres = pd.unique(genres.values.ravel())\n",
    "\n",
    "for genre in unique_genres:\n",
    "    df[genre] = genres.apply(lambda row: 1 if genre in row.values else 0, axis=1)\n",
    "    genre_columns.append(genre)\n",
    "\n",
    "df = df.drop('genres', axis=1)\n",
    "\n",
    "df.head()"
   ]
  },
  {
   "cell_type": "markdown",
   "id": "6bd2dbf3",
   "metadata": {
    "_cell_guid": "89bddfd9-e35b-41dc-b7da-51079bc8c1bf",
    "_uuid": "20efc6a3-e50c-4a2f-bab0-7acc2209eed6",
    "collapsed": false,
    "jupyter": {
     "outputs_hidden": false
    },
    "papermill": {
     "duration": 0.036333,
     "end_time": "2025-04-28T10:29:35.588717",
     "exception": false,
     "start_time": "2025-04-28T10:29:35.552384",
     "status": "completed"
    },
    "tags": []
   },
   "source": [
    "### Supported Platforms"
   ]
  },
  {
   "cell_type": "code",
   "execution_count": null,
   "id": "f00c431a",
   "metadata": {
    "_cell_guid": "4b9a3937-e94d-4916-a6d0-5de6aa0100bb",
    "_uuid": "bad4b092-3fa1-48f4-b32e-c7d671422468",
    "collapsed": false,
    "execution": {
     "iopub.execute_input": "2025-04-28T10:29:35.659569Z",
     "iopub.status.busy": "2025-04-28T10:29:35.659266Z",
     "iopub.status.idle": "2025-04-28T10:29:35.967110Z",
     "shell.execute_reply": "2025-04-28T10:29:35.965787Z"
    },
    "jupyter": {
     "outputs_hidden": false
    },
    "papermill": {
     "duration": 0.344956,
     "end_time": "2025-04-28T10:29:35.968927",
     "exception": false,
     "start_time": "2025-04-28T10:29:35.623971",
     "status": "completed"
    },
    "tags": []
   },
   "outputs": [],
   "source": [
    "platforms = df['supported_platforms'].str.split(',', expand=True)\n",
    "\n",
    "df['windows'] = platforms[0].apply(lambda x: 1 if pd.notna(x) and 'windows' in x.lower() else 0)\n",
    "df['linux'] = platforms[1].apply(lambda x: 1 if pd.notna(x) and 'linux' in x.lower() else 0)\n",
    "df['mac'] = platforms[2].apply(lambda x: 1 if pd.notna(x) and 'mac' in x.lower() else 0)\n",
    "\n",
    "df = df.drop('supported_platforms', axis=1)\n",
    "\n",
    "\n",
    "df.head()"
   ]
  },
  {
   "cell_type": "markdown",
   "id": "0dda14f5",
   "metadata": {
    "_cell_guid": "072680ef-246d-4918-8ea1-af92147b6445",
    "_uuid": "49af6875-a41a-407e-84d2-a4131d3c463a",
    "collapsed": false,
    "jupyter": {
     "outputs_hidden": false
    },
    "papermill": {
     "duration": 0.034903,
     "end_time": "2025-04-28T10:29:36.040098",
     "exception": false,
     "start_time": "2025-04-28T10:29:36.005195",
     "status": "completed"
    },
    "tags": []
   },
   "source": [
    "## Scaling"
   ]
  },
  {
   "cell_type": "code",
   "execution_count": 37,
   "id": "629eef39",
   "metadata": {
    "_cell_guid": "4d23b7bf-7093-4cd4-9043-f9f507d85573",
    "_uuid": "ba4b2771-c2b4-483a-ad3d-8b707001737d",
    "collapsed": false,
    "execution": {
     "iopub.execute_input": "2025-04-28T10:29:36.113077Z",
     "iopub.status.busy": "2025-04-28T10:29:36.112760Z",
     "iopub.status.idle": "2025-04-28T10:29:36.390657Z",
     "shell.execute_reply": "2025-04-28T10:29:36.389444Z"
    },
    "jupyter": {
     "outputs_hidden": false
    },
    "papermill": {
     "duration": 0.316355,
     "end_time": "2025-04-28T10:29:36.392517",
     "exception": false,
     "start_time": "2025-04-28T10:29:36.076162",
     "status": "completed"
    },
    "tags": []
   },
   "outputs": [],
   "source": [
    "columns_to_scale = [col for col in numeric_columns if col not in genre_columns]\n",
    "columns_to_scale.remove('metacritic')\n",
    "\n",
    "X_numeric = df[columns_to_scale]\n",
    "\n",
    "scaler = StandardScaler()\n",
    "X_scaled = scaler.fit_transform(X_numeric)\n",
    "y = df['reviewScore']\n",
    "\n",
    "X_scaled_df = pd.DataFrame(X_scaled, columns=X_numeric.columns)\n",
    "\n",
    "X_final = pd.concat([X_scaled_df, df[genre_columns]], axis=1)\n",
    "\n",
    "\n",
    "df_scaled = pd.concat([X_final, y], axis=1)\n",
    "\n",
    "\n",
    "df_scaled.head()\n",
    "df[df_scaled.columns] = df_scaled"
   ]
  },
  {
   "cell_type": "code",
   "execution_count": null,
   "id": "0674438d",
   "metadata": {
    "_cell_guid": "f36dff94-10f5-4bb0-9027-7aa621d5ea88",
    "_uuid": "e5d35022-2ee5-4698-9cf5-6e96c9feeb9f",
    "collapsed": false,
    "execution": {
     "iopub.execute_input": "2025-04-28T10:29:36.464676Z",
     "iopub.status.busy": "2025-04-28T10:29:36.464379Z",
     "iopub.status.idle": "2025-04-28T10:29:36.732282Z",
     "shell.execute_reply": "2025-04-28T10:29:36.731315Z"
    },
    "jupyter": {
     "outputs_hidden": false
    },
    "papermill": {
     "duration": 0.30649,
     "end_time": "2025-04-28T10:29:36.733975",
     "exception": false,
     "start_time": "2025-04-28T10:29:36.427485",
     "status": "completed"
    },
    "tags": []
   },
   "outputs": [],
   "source": [
    "df_scaled.describe()"
   ]
  },
  {
   "cell_type": "code",
   "execution_count": null,
   "id": "214cb357",
   "metadata": {
    "_cell_guid": "638c1260-e460-4e1a-95e5-cd1b62a74591",
    "_uuid": "c34e5d5a-bba3-4b8a-91ad-b0961b4ab633",
    "collapsed": false,
    "execution": {
     "iopub.execute_input": "2025-04-28T10:29:36.805869Z",
     "iopub.status.busy": "2025-04-28T10:29:36.805536Z",
     "iopub.status.idle": "2025-04-28T10:29:36.831779Z",
     "shell.execute_reply": "2025-04-28T10:29:36.830804Z"
    },
    "jupyter": {
     "outputs_hidden": false
    },
    "papermill": {
     "duration": 0.06425,
     "end_time": "2025-04-28T10:29:36.833524",
     "exception": false,
     "start_time": "2025-04-28T10:29:36.769274",
     "status": "completed"
    },
    "tags": []
   },
   "outputs": [],
   "source": [
    "df.head()"
   ]
  },
  {
   "cell_type": "markdown",
   "id": "34d2039c",
   "metadata": {
    "_cell_guid": "047738f5-6c7e-4e91-9071-881330297cd2",
    "_uuid": "4c34bc77-810b-4cf1-9dc3-25f63cc9f0eb",
    "collapsed": false,
    "jupyter": {
     "outputs_hidden": false
    },
    "papermill": {
     "duration": 0.035579,
     "end_time": "2025-04-28T10:29:36.904970",
     "exception": false,
     "start_time": "2025-04-28T10:29:36.869391",
     "status": "completed"
    },
    "tags": []
   },
   "source": [
    "# Feature Engineering and Selection"
   ]
  },
  {
   "cell_type": "markdown",
   "id": "8d8e4910",
   "metadata": {
    "_cell_guid": "1b00b11f-013d-4a5f-9019-771f26857c11",
    "_uuid": "2ab97e9d-bdf0-4d85-b603-73799f16f11b",
    "collapsed": false,
    "jupyter": {
     "outputs_hidden": false
    },
    "papermill": {
     "duration": 0.035778,
     "end_time": "2025-04-28T10:29:36.977959",
     "exception": false,
     "start_time": "2025-04-28T10:29:36.942181",
     "status": "completed"
    },
    "tags": []
   },
   "source": [
    "## Total genres Feature"
   ]
  },
  {
   "cell_type": "code",
   "execution_count": null,
   "id": "886b0adf",
   "metadata": {
    "_cell_guid": "2c9e4a0f-3996-47ae-bd96-7b2019bb1baf",
    "_uuid": "fb8659cc-4bc5-441b-a7fd-667adb351924",
    "collapsed": false,
    "execution": {
     "iopub.execute_input": "2025-04-28T10:29:37.053381Z",
     "iopub.status.busy": "2025-04-28T10:29:37.053016Z",
     "iopub.status.idle": "2025-04-28T10:29:37.138900Z",
     "shell.execute_reply": "2025-04-28T10:29:37.137473Z"
    },
    "jupyter": {
     "outputs_hidden": false
    },
    "papermill": {
     "duration": 0.125554,
     "end_time": "2025-04-28T10:29:37.140506",
     "exception": false,
     "start_time": "2025-04-28T10:29:37.014952",
     "status": "completed"
    },
    "tags": []
   },
   "outputs": [],
   "source": [
    "df['Total_Genres'] = df[genre_columns].sum(axis=1)\n",
    "df.head()"
   ]
  },
  {
   "cell_type": "code",
   "execution_count": null,
   "id": "85a15bcb",
   "metadata": {
    "_cell_guid": "34b4bf6d-94af-4e49-93b5-c650f8f54729",
    "_uuid": "8a6d49d3-70fd-496f-9c5f-8eb8c7101aa8",
    "collapsed": false,
    "execution": {
     "iopub.execute_input": "2025-04-28T10:29:37.215888Z",
     "iopub.status.busy": "2025-04-28T10:29:37.215410Z",
     "iopub.status.idle": "2025-04-28T10:29:37.222913Z",
     "shell.execute_reply": "2025-04-28T10:29:37.221963Z"
    },
    "jupyter": {
     "outputs_hidden": false
    },
    "papermill": {
     "duration": 0.04667,
     "end_time": "2025-04-28T10:29:37.224446",
     "exception": false,
     "start_time": "2025-04-28T10:29:37.177776",
     "status": "completed"
    },
    "tags": []
   },
   "outputs": [],
   "source": [
    "zero_genres = (df['Total_Genres']==0).sum()\n",
    "print(zero_genres)"
   ]
  },
  {
   "cell_type": "markdown",
   "id": "bc9a34b4",
   "metadata": {
    "_cell_guid": "a4a6759f-742e-4609-89c4-598253fd9640",
    "_uuid": "08e09069-ad6a-4ae2-af07-a7dc358ecdd7",
    "collapsed": false,
    "jupyter": {
     "outputs_hidden": false
    },
    "papermill": {
     "duration": 0.036319,
     "end_time": "2025-04-28T10:29:37.297030",
     "exception": false,
     "start_time": "2025-04-28T10:29:37.260711",
     "status": "completed"
    },
    "tags": []
   },
   "source": [
    "## Number of Platforms Feature"
   ]
  },
  {
   "cell_type": "code",
   "execution_count": 42,
   "id": "e51f6a08",
   "metadata": {
    "_cell_guid": "0052a590-6461-450f-b489-dccbd1d51c34",
    "_uuid": "1d455798-4490-48f5-83d3-f47ea1e165e2",
    "collapsed": false,
    "execution": {
     "iopub.execute_input": "2025-04-28T10:29:37.373130Z",
     "iopub.status.busy": "2025-04-28T10:29:37.372707Z",
     "iopub.status.idle": "2025-04-28T10:29:37.393166Z",
     "shell.execute_reply": "2025-04-28T10:29:37.391882Z"
    },
    "jupyter": {
     "outputs_hidden": false
    },
    "papermill": {
     "duration": 0.06066,
     "end_time": "2025-04-28T10:29:37.395318",
     "exception": false,
     "start_time": "2025-04-28T10:29:37.334658",
     "status": "completed"
    },
    "tags": []
   },
   "outputs": [],
   "source": [
    "platforms_columns = ['windows','linux','mac']\n",
    "df['Total_Platforms'] = df[platforms_columns].sum(axis=1)"
   ]
  },
  {
   "cell_type": "code",
   "execution_count": null,
   "id": "2270e890",
   "metadata": {
    "_cell_guid": "c84fa7e0-c5cc-4d06-b137-6848e6d61e97",
    "_uuid": "bee5087d-17a2-4413-9d6a-f7eef62ca1cc",
    "collapsed": false,
    "execution": {
     "iopub.execute_input": "2025-04-28T10:29:37.471271Z",
     "iopub.status.busy": "2025-04-28T10:29:37.469865Z",
     "iopub.status.idle": "2025-04-28T10:29:37.532123Z",
     "shell.execute_reply": "2025-04-28T10:29:37.531049Z"
    },
    "jupyter": {
     "outputs_hidden": false
    },
    "papermill": {
     "duration": 0.101276,
     "end_time": "2025-04-28T10:29:37.533831",
     "exception": false,
     "start_time": "2025-04-28T10:29:37.432555",
     "status": "completed"
    },
    "tags": []
   },
   "outputs": [],
   "source": [
    "zero_platforms = (df['Total_Platforms']== 0 ).sum()\n",
    "print(zero_platforms)\n",
    "df = df[df['Total_Platforms']!=0]\n",
    "zero_platforms_after = (df['Total_Platforms']== 0 ).sum()\n",
    "print(zero_platforms_after)"
   ]
  },
  {
   "cell_type": "markdown",
   "id": "5f871887",
   "metadata": {
    "_cell_guid": "b3fe31b4-6e00-4c1b-ae71-589cd2be8d1d",
    "_uuid": "354e3107-b87b-4b22-a02a-279487d1b6dc",
    "collapsed": false,
    "jupyter": {
     "outputs_hidden": false
    },
    "papermill": {
     "duration": 0.038122,
     "end_time": "2025-04-28T10:29:37.608422",
     "exception": false,
     "start_time": "2025-04-28T10:29:37.570300",
     "status": "completed"
    },
    "tags": []
   },
   "source": [
    "## Columns With Too much nulls"
   ]
  },
  {
   "cell_type": "code",
   "execution_count": null,
   "id": "3a7a5a97",
   "metadata": {
    "_cell_guid": "bee60ab5-bbf7-4adb-ad91-94c4d9a78f15",
    "_uuid": "4fed21ea-a0be-424c-9632-b68140a49fbc",
    "collapsed": false,
    "execution": {
     "iopub.execute_input": "2025-04-28T10:29:37.683760Z",
     "iopub.status.busy": "2025-04-28T10:29:37.683413Z",
     "iopub.status.idle": "2025-04-28T10:29:37.746285Z",
     "shell.execute_reply": "2025-04-28T10:29:37.744871Z"
    },
    "jupyter": {
     "outputs_hidden": false
    },
    "papermill": {
     "duration": 0.10313,
     "end_time": "2025-04-28T10:29:37.748277",
     "exception": false,
     "start_time": "2025-04-28T10:29:37.645147",
     "status": "completed"
    },
    "tags": []
   },
   "outputs": [],
   "source": [
    "df.drop(columns=['name_x','name_y','aiContent'],inplace=True)\n",
    "print(df.columns)"
   ]
  },
  {
   "cell_type": "markdown",
   "id": "95da43c8",
   "metadata": {
    "_cell_guid": "dd2e8111-316e-4ae9-9cc0-60610caa8878",
    "_uuid": "ed826719-98d2-4ba7-9cb5-7f46432e771a",
    "collapsed": false,
    "jupyter": {
     "outputs_hidden": false
    },
    "papermill": {
     "duration": 0.036497,
     "end_time": "2025-04-28T10:29:37.823950",
     "exception": false,
     "start_time": "2025-04-28T10:29:37.787453",
     "status": "completed"
    },
    "tags": []
   },
   "source": [
    "## Useless features"
   ]
  },
  {
   "cell_type": "code",
   "execution_count": null,
   "id": "95a2eb74",
   "metadata": {
    "_cell_guid": "b3f07c14-5d34-4680-98be-5fb090da79e5",
    "_uuid": "5fee3536-41eb-4871-a44f-78cac8b1644c",
    "collapsed": false,
    "execution": {
     "iopub.execute_input": "2025-04-28T10:29:37.898474Z",
     "iopub.status.busy": "2025-04-28T10:29:37.898117Z",
     "iopub.status.idle": "2025-04-28T10:29:37.923709Z",
     "shell.execute_reply": "2025-04-28T10:29:37.922740Z"
    },
    "jupyter": {
     "outputs_hidden": false
    },
    "papermill": {
     "duration": 0.065201,
     "end_time": "2025-04-28T10:29:37.925561",
     "exception": false,
     "start_time": "2025-04-28T10:29:37.860360",
     "status": "completed"
    },
    "tags": []
   },
   "outputs": [],
   "source": [
    "df.drop(columns=['name','name_tokens','name_length'],inplace=True)\n",
    "print(df.columns)"
   ]
  },
  {
   "cell_type": "code",
   "execution_count": null,
   "id": "9b87c006",
   "metadata": {
    "_cell_guid": "7e63b4dd-bcbb-4fd6-a03a-577a2cc9b813",
    "_uuid": "682cd0ba-7ae4-4260-88b2-aa5baac4f173",
    "collapsed": false,
    "execution": {
     "iopub.execute_input": "2025-04-28T10:29:38.001355Z",
     "iopub.status.busy": "2025-04-28T10:29:38.001013Z",
     "iopub.status.idle": "2025-04-28T10:29:38.176775Z",
     "shell.execute_reply": "2025-04-28T10:29:38.175819Z"
    },
    "jupyter": {
     "outputs_hidden": false
    },
    "papermill": {
     "duration": 0.21593,
     "end_time": "2025-04-28T10:29:38.178641",
     "exception": false,
     "start_time": "2025-04-28T10:29:37.962711",
     "status": "completed"
    },
    "tags": []
   },
   "outputs": [],
   "source": [
    "ones_count = df['windows'].sum()\n",
    "zeros_count = len(df) - ones_count\n",
    "\n",
    "\n",
    "sizes = [ones_count, zeros_count]\n",
    "labels = ['Ones', 'Zeros']\n",
    "\n",
    "\n",
    "explode = (0.1, 0) \n",
    "patches, texts, autotexts = plt.pie(\n",
    "    sizes,\n",
    "    labels=None, \n",
    "    autopct='%1.1f%%',\n",
    "    startangle=90,\n",
    "    textprops={\"fontweight\": \"bold\"},\n",
    "    explode=explode,\n",
    "    shadow=True,\n",
    "    wedgeprops={'edgecolor': 'black', 'linewidth': 1.5},\n",
    "    colors=plt.cm.Paired.colors\n",
    ")\n",
    "\n",
    "\n",
    "plt.legend(patches, labels, loc=\"best\", fontsize='large', frameon=True)\n",
    "plt.title('Distribution of Windows Column', fontweight='bold')\n",
    "plt.axis('equal')  \n",
    "plt.show()\n",
    "df.drop(columns='windows',inplace=True)"
   ]
  },
  {
   "cell_type": "code",
   "execution_count": null,
   "id": "d31115e5",
   "metadata": {
    "_cell_guid": "d0f534e7-db18-4be8-904f-f364de8e4644",
    "_uuid": "81362223-84f8-4ac3-8139-85e98354cace",
    "collapsed": false,
    "execution": {
     "iopub.execute_input": "2025-04-28T10:29:38.257888Z",
     "iopub.status.busy": "2025-04-28T10:29:38.257433Z",
     "iopub.status.idle": "2025-04-28T10:29:38.424128Z",
     "shell.execute_reply": "2025-04-28T10:29:38.423184Z"
    },
    "jupyter": {
     "outputs_hidden": false
    },
    "papermill": {
     "duration": 0.207717,
     "end_time": "2025-04-28T10:29:38.425961",
     "exception": false,
     "start_time": "2025-04-28T10:29:38.218244",
     "status": "completed"
    },
    "tags": []
   },
   "outputs": [],
   "source": [
    "ones_count = df['linux'].sum()\n",
    "zeros_count = len(df) - ones_count\n",
    "\n",
    "\n",
    "sizes = [ones_count, zeros_count]\n",
    "labels = ['Ones', 'Zeros']\n",
    "\n",
    "\n",
    "explode = (0.1, 0) \n",
    "patches, texts, autotexts = plt.pie(\n",
    "    sizes,\n",
    "    labels=None,  \n",
    "    autopct='%1.1f%%',\n",
    "    startangle=90,\n",
    "    textprops={\"fontweight\": \"bold\"},\n",
    "    explode=explode,\n",
    "    shadow=True,\n",
    "    wedgeprops={'edgecolor': 'black', 'linewidth': 1.5},\n",
    "    colors=plt.cm.Paired.colors\n",
    ")\n",
    "\n",
    "plt.legend(patches, labels, loc=\"best\", fontsize='large', frameon=True)\n",
    "plt.title('Distribution of Linux Column', fontweight='bold')\n",
    "plt.axis('equal')"
   ]
  },
  {
   "cell_type": "code",
   "execution_count": null,
   "id": "ad0b99fc",
   "metadata": {
    "_cell_guid": "404540ae-f2d0-4701-bdb1-39aee4521b45",
    "_uuid": "62fb860b-8239-4359-a346-ff2df0fd5667",
    "collapsed": false,
    "execution": {
     "iopub.execute_input": "2025-04-28T10:29:38.508798Z",
     "iopub.status.busy": "2025-04-28T10:29:38.508420Z",
     "iopub.status.idle": "2025-04-28T10:29:38.684692Z",
     "shell.execute_reply": "2025-04-28T10:29:38.683818Z"
    },
    "jupyter": {
     "outputs_hidden": false
    },
    "papermill": {
     "duration": 0.22011,
     "end_time": "2025-04-28T10:29:38.686535",
     "exception": false,
     "start_time": "2025-04-28T10:29:38.466425",
     "status": "completed"
    },
    "tags": []
   },
   "outputs": [],
   "source": [
    "ones_count = df['mac'].sum()\n",
    "zeros_count = len(df) - ones_count\n",
    "\n",
    "\n",
    "sizes = [ones_count, zeros_count]\n",
    "labels = ['Ones', 'Zeros']\n",
    "\n",
    "\n",
    "explode = (0.1, 0)  \n",
    "patches, texts, autotexts = plt.pie(\n",
    "    sizes,\n",
    "    labels=None,  \n",
    "    autopct='%1.1f%%',\n",
    "    startangle=90,\n",
    "    textprops={\"fontweight\": \"bold\"},\n",
    "    explode=explode,\n",
    "    shadow=True,\n",
    "    wedgeprops={'edgecolor': 'black', 'linewidth': 1.5},\n",
    "    colors=plt.cm.Paired.colors\n",
    ")\n",
    "\n",
    "# Add a legend instead of labels\n",
    "plt.legend(patches, labels, loc=\"best\", fontsize='large', frameon=True)\n",
    "plt.title('Distribution of Windows Column', fontweight='bold')\n",
    "plt.axis('equal')  # Make it a circle\n",
    "df.drop(columns='mac',inplace=True)"
   ]
  },
  {
   "cell_type": "markdown",
   "id": "f497935c",
   "metadata": {
    "_cell_guid": "660c4c5c-500f-41d1-884c-300b25f427b5",
    "_uuid": "d0bc7833-7dc6-4ccc-bec2-5613a00e5dde",
    "collapsed": false,
    "jupyter": {
     "outputs_hidden": false
    },
    "papermill": {
     "duration": 0.038428,
     "end_time": "2025-04-28T10:29:38.764929",
     "exception": false,
     "start_time": "2025-04-28T10:29:38.726501",
     "status": "completed"
    },
    "tags": []
   },
   "source": [
    "## Correlation"
   ]
  },
  {
   "cell_type": "code",
   "execution_count": null,
   "id": "64dd0449",
   "metadata": {
    "_cell_guid": "ebacea62-a901-4d0d-bf26-f5399130dfdd",
    "_uuid": "79c0f3e6-1783-4105-ae90-3f4d333ae373",
    "collapsed": false,
    "execution": {
     "iopub.execute_input": "2025-04-28T10:29:38.845012Z",
     "iopub.status.busy": "2025-04-28T10:29:38.844651Z",
     "iopub.status.idle": "2025-04-28T10:29:39.717967Z",
     "shell.execute_reply": "2025-04-28T10:29:39.716717Z"
    },
    "jupyter": {
     "outputs_hidden": false
    },
    "papermill": {
     "duration": 0.915866,
     "end_time": "2025-04-28T10:29:39.719931",
     "exception": false,
     "start_time": "2025-04-28T10:29:38.804065",
     "status": "completed"
    },
    "tags": []
   },
   "outputs": [],
   "source": [
    "numeric_columns = df.select_dtypes(include=['number']).columns\n",
    "print(df.columns)\n",
    "df_numeric = df[numeric_columns]\n",
    "df_numeric = df_numeric.apply(pd.to_numeric, errors='coerce')\n",
    "corr_matrix = df_numeric.corr()\n",
    "threshold = 0.5\n",
    "target = 'reviewScore'\n",
    "if target in corr_matrix.columns:\n",
    "    \n",
    "    target_correlations = corr_matrix[target].drop(target).sort_values(key=abs, ascending=False)\n",
    "    \n",
    "    target_report = pd.DataFrame({\n",
    "        'Feature': target_correlations.index,\n",
    "        'Correlation': target_correlations.values,\n",
    "        'Absolute_Correlation': target_correlations.abs().values,\n",
    "        'Significant': target_correlations.abs() >= threshold\n",
    "    })\n",
    "    \n",
    "    print(f\"TARGET-ORIENTED FEATURE ANALYSIS (for '{target}')\\n\")\n",
    "    print(\"=\"*70)\n",
    "    print(target_report.to_string(index=False))\n",
    "    \n",
    "    significant_target_features = target_correlations[target_correlations.abs() >= threshold].index.tolist()\n",
    "    print(f\"Significant features for prediction (|r| ≥ {threshold}):\")\n",
    "    print(significant_target_features)\n",
    "    print(\"\\n\\n\")\n",
    "\n",
    "print(\"CROSS-FEATURE CORRELATION ANALYSIS\")\n",
    "print(\"=\"*70)\n",
    "\n",
    "significant_corrs = []\n",
    "for i in range(len(corr_matrix.columns)):\n",
    "    for j in range(i+1, len(corr_matrix.columns)):\n",
    "        val = corr_matrix.iloc[i, j]\n",
    "        if abs(val) >= threshold:\n",
    "            significant_corrs.append({\n",
    "                'Feature 1': corr_matrix.columns[i],\n",
    "                'Feature 2': corr_matrix.columns[j],\n",
    "                'Correlation': val\n",
    "            })\n",
    "\n",
    "results_df = pd.DataFrame(significant_corrs)\n",
    "results_df['abs_corr'] = results_df['Correlation'].abs()\n",
    "results_df = results_df.sort_values('abs_corr', ascending=False).drop('abs_corr', axis=1)\n",
    "\n",
    "print(f\"Significant Correlations Between Features (|r| ≥ {threshold}):\\n\")\n",
    "print(\"=\"*70)\n",
    "print(results_df.to_string(index=False))\n",
    "\n",
    "if target in corr_matrix.columns:\n",
    "    print(\"FEATURE SELECTION RECOMMENDATIONS\\n\\n\")\n",
    "    print(\"=\"*70)\n",
    "    print(\"HIGH-VALUE FEATURES (keep these):\\n\")\n",
    "    high_value = target_report[target_report['Significant']].sort_values('Absolute_Correlation', ascending=False)\n",
    "    print(high_value[['Feature', 'Correlation']].to_string(index=False))\n",
    "    \n",
    "    print(\"LOW-VALUE FEATURES (consider removing):\\n\")\n",
    "    low_value = target_report[~target_report['Significant']].sort_values('Absolute_Correlation', ascending=False)\n",
    "    print(low_value[['Feature', 'Correlation']].to_string(index=False))\n",
    "    \n",
    "    redundant_features = set()\n",
    "    for _, row in results_df.iterrows():\n",
    "        if target not in [row['Feature 1'], row['Feature 2']]:\n",
    "            if row['Feature 1'] in high_value['Feature'].values and row['Feature 2'] in high_value['Feature'].values:\n",
    "                redundant_features.add(row['Feature 2']) \n",
    "    \n",
    "    if redundant_features:\n",
    "        print(\"POTENTIALLY REDUNDANT FEATURES (consider removing one of each pair):\\n\")\n",
    "        print(list(redundant_features))\n",
    "\n",
    "print(\"SUMMARY STATISTICS\\n\")\n",
    "print(\"=\"*70)\n",
    "print(f\"- Total features analyzed: {len(corr_matrix.columns)}\")\n",
    "if target in corr_matrix.columns:\n",
    "    print(f\"- Features strongly correlated with target ({threshold}+): {len(high_value)}\")\n",
    "    print(f\"- Features weakly correlated with target: {len(low_value)}\")\n",
    "print(f\"- Significant cross-feature correlations found: {len(results_df)}\")"
   ]
  },
  {
   "cell_type": "markdown",
   "id": "ef941621",
   "metadata": {
    "_cell_guid": "c1f38baa-7d3b-4da7-8b99-48626e6346e5",
    "_uuid": "529853dc-1ab1-4c1e-9950-a20725445b6c",
    "collapsed": false,
    "jupyter": {
     "outputs_hidden": false
    },
    "papermill": {
     "duration": 0.03922,
     "end_time": "2025-04-28T10:29:39.801312",
     "exception": false,
     "start_time": "2025-04-28T10:29:39.762092",
     "status": "completed"
    },
    "tags": []
   },
   "source": [
    "## Redundant"
   ]
  },
  {
   "cell_type": "code",
   "execution_count": null,
   "id": "b2211f42",
   "metadata": {
    "_cell_guid": "7647cb75-ab14-47ad-87c1-cda180a58344",
    "_uuid": "a9d9aa7c-1b8b-4b33-ae5e-d8089259c4fc",
    "collapsed": false,
    "execution": {
     "iopub.execute_input": "2025-04-28T10:29:39.882185Z",
     "iopub.status.busy": "2025-04-28T10:29:39.881331Z",
     "iopub.status.idle": "2025-04-28T10:29:39.904085Z",
     "shell.execute_reply": "2025-04-28T10:29:39.902847Z"
    },
    "jupyter": {
     "outputs_hidden": false
    },
    "papermill": {
     "duration": 0.06499,
     "end_time": "2025-04-28T10:29:39.905762",
     "exception": false,
     "start_time": "2025-04-28T10:29:39.840772",
     "status": "completed"
    },
    "tags": []
   },
   "outputs": [],
   "source": [
    "df.drop(columns=['Violent', 'Nudity', 'Gore', 'workshop_support', 'Adventure', 'linux'], inplace=True)\n",
    "print(df.columns)"
   ]
  },
  {
   "cell_type": "markdown",
   "id": "3d8e831d",
   "metadata": {
    "_cell_guid": "51ed06c7-daae-43a5-a432-87b7b6db9a7a",
    "_uuid": "cb99e125-3454-4a44-a834-df3597846ec4",
    "collapsed": false,
    "jupyter": {
     "outputs_hidden": false
    },
    "papermill": {
     "duration": 0.039089,
     "end_time": "2025-04-28T10:29:39.984153",
     "exception": false,
     "start_time": "2025-04-28T10:29:39.945064",
     "status": "completed"
    },
    "tags": []
   },
   "source": [
    "## PCA"
   ]
  },
  {
   "cell_type": "code",
   "execution_count": null,
   "id": "6183ae05",
   "metadata": {
    "_cell_guid": "0e861bf5-1869-4ff4-821b-8e08958e05a5",
    "_uuid": "1aa98a87-85bb-457c-ae02-b3978e86e6e0",
    "collapsed": false,
    "execution": {
     "iopub.execute_input": "2025-04-28T10:29:40.065407Z",
     "iopub.status.busy": "2025-04-28T10:29:40.065084Z",
     "iopub.status.idle": "2025-04-28T10:29:41.130687Z",
     "shell.execute_reply": "2025-04-28T10:29:41.129617Z"
    },
    "jupyter": {
     "outputs_hidden": false
    },
    "papermill": {
     "duration": 1.10902,
     "end_time": "2025-04-28T10:29:41.132379",
     "exception": false,
     "start_time": "2025-04-28T10:29:40.023359",
     "status": "completed"
    },
    "tags": []
   },
   "outputs": [],
   "source": [
    "apply_pca = True  \n",
    "print(\"\\nChecking for missing values in the selected features:\")\n",
    "print(df.isna().sum())\n",
    "\n",
    "\n",
    "if 'reviewScore' in df.columns:\n",
    "    df = df.dropna(subset=['reviewScore'])  \n",
    "print(\"\\nFilling missing values for categorical columns...\")\n",
    "for col in tqdm(df.columns[df.dtypes == 'object'], desc=\"Categorical columns\", leave=False):\n",
    "    df[col] = df[col].fillna(df[col].mode()[0])\n",
    "\n",
    "\n",
    "print(\"\\nFilling missing values for numeric columns...\")\n",
    "for col in tqdm(df.select_dtypes(include=['number']).columns, desc=\"Numeric columns\", leave=False):\n",
    "    df[col] = df[col].fillna(df[col].mean())\n",
    "\n",
    "\n",
    "df_selected = df.select_dtypes(include=['number'])  \n",
    "\n",
    "\n",
    "print(\"\\nTotal NaN after filling missing values:\")\n",
    "print(df_selected.isnull().sum().sum())\n",
    "df_selected.columns = df_selected.columns.astype(str)\n",
    "\n",
    "\n",
    "if apply_pca:\n",
    "    print(\"\\nApplying PCA...\")\n",
    "    pca = PCA(n_components=3)\n",
    "\n",
    "    \n",
    "    with tqdm(total=1, desc=\"PCA fitting\", leave=False) as pbar:\n",
    "        df_pca = pca.fit_transform(df_selected)\n",
    "        pbar.update(1)\n",
    "\n",
    " \n",
    "    df_pca_df = pd.DataFrame(df_pca, columns=[f'PCA_{i+1}' for i in range(df_pca.shape[1])])\n",
    "\n",
    "\n",
    "    print(\"\\nVariance Ratio per PCA Component:\")\n",
    "    for i, var_ratio in enumerate(pca.explained_variance_ratio_):\n",
    "        print(f\"PCA_{i+1}: {var_ratio:.4f}\")\n",
    "\n",
    "   \n",
    "    feature_loadings = pd.DataFrame(\n",
    "        pca.components_.T,  \n",
    "        columns=[f'PCA_{i+1}' for i in range(pca.n_components_)],\n",
    "        index=df_selected.columns\n",
    "    )\n",
    "abs_loadings = abs(df.corr())\n",
    "pca_top_3_features = abs_loadings.sum(axis=1).nlargest(3).index.tolist()\n",
    "\n",
    "\n",
    "if 'reviewScore' in pca_top_3_features:\n",
    "    pca_top_3_features.remove('reviewScore')\n",
    "\n",
    "\n",
    "if len(pca_top_3_features) < 3:\n",
    "    additional_feature = abs_loadings.sum(axis=1).nlargest(3 + len(pca_top_3_features)).index[-1]\n",
    "    pca_top_3_features.append(additional_feature)\n",
    "\n",
    "\n",
    "print(\"Top 3 features PCA selected: \", pca_top_3_features)"
   ]
  },
  {
   "cell_type": "markdown",
   "id": "652def54",
   "metadata": {
    "_cell_guid": "3cac51ff-9dd3-41f0-9189-1f4bc9d99fa2",
    "_uuid": "a65286e7-b82a-4690-840c-f748d29c7fe9",
    "collapsed": false,
    "jupyter": {
     "outputs_hidden": false
    },
    "papermill": {
     "duration": 0.046618,
     "end_time": "2025-04-28T10:29:41.223889",
     "exception": false,
     "start_time": "2025-04-28T10:29:41.177271",
     "status": "completed"
    },
    "tags": []
   },
   "source": [
    "## Recursive Feature Elimination (RFE)"
   ]
  },
  {
   "cell_type": "code",
   "execution_count": null,
   "id": "e91f3fb6",
   "metadata": {
    "_cell_guid": "0efedd4f-d91e-4755-a70f-8a7d0ee40f99",
    "_uuid": "dc31c7f5-401f-41e2-bae5-c03af8f70fc2",
    "collapsed": false,
    "execution": {
     "iopub.execute_input": "2025-04-28T10:29:41.316576Z",
     "iopub.status.busy": "2025-04-28T10:29:41.316155Z",
     "iopub.status.idle": "2025-04-28T10:42:22.448897Z",
     "shell.execute_reply": "2025-04-28T10:42:22.447696Z"
    },
    "jupyter": {
     "outputs_hidden": false
    },
    "papermill": {
     "duration": 761.22687,
     "end_time": "2025-04-28T10:42:22.492423",
     "exception": false,
     "start_time": "2025-04-28T10:29:41.265553",
     "status": "completed"
    },
    "tags": []
   },
   "outputs": [],
   "source": [
    "X = df.select_dtypes(include=['number']) \n",
    "y = df['reviewScore']\n",
    "\n",
    "X.columns = X.columns.astype(str)  \n",
    "\n",
    "imputer = SimpleImputer(strategy='median')\n",
    "X_imputed = imputer.fit_transform(X)\n",
    "\n",
    "model = RandomForestRegressor(random_state=42)\n",
    "selector = RFE(estimator=model, n_features_to_select=5)\n",
    "\n",
    "\n",
    "with tqdm(total=1, desc=\"RFE Feature Selection Progress\", unit=\"step\") as pbar:\n",
    "    selector.fit(X_imputed, y)  \n",
    "    pbar.update(1)  \n",
    "\n",
    "\n",
    "rfe_selected_features = X.columns[selector.support_]\n",
    "print(f\"Top 5 features selected by RFE: {rfe_selected_features}\")"
   ]
  },
  {
   "cell_type": "code",
   "execution_count": 53,
   "id": "9b648e3a",
   "metadata": {
    "_cell_guid": "7d31671c-d070-46eb-be3e-85cf5dba06dd",
    "_uuid": "e313ad9d-29ff-4adb-a983-42e1af37a7ef",
    "collapsed": false,
    "execution": {
     "iopub.execute_input": "2025-04-28T10:42:22.574652Z",
     "iopub.status.busy": "2025-04-28T10:42:22.574365Z",
     "iopub.status.idle": "2025-04-28T10:42:22.963622Z",
     "shell.execute_reply": "2025-04-28T10:42:22.962565Z"
    },
    "jupyter": {
     "outputs_hidden": false
    },
    "papermill": {
     "duration": 0.432327,
     "end_time": "2025-04-28T10:42:22.965403",
     "exception": false,
     "start_time": "2025-04-28T10:42:22.533076",
     "status": "completed"
    },
    "tags": []
   },
   "outputs": [],
   "source": [
    "final_df = df[['Total_Genres', 'Action',' Indie','copiesSold', 'year', 'reviewScore']]\n",
    "final_df.to_csv('/kaggle/working/preprocessed.csv', index=False)"
   ]
  },
  {
   "cell_type": "markdown",
   "id": "7f4c452e",
   "metadata": {
    "_cell_guid": "0f30acf2-ad5a-4ab9-b5d3-acc4a29ebc5f",
    "_uuid": "b5dbcbb5-fc5a-4e91-a32b-64e20cf17e87",
    "collapsed": false,
    "jupyter": {
     "outputs_hidden": false
    },
    "papermill": {
     "duration": 0.041077,
     "end_time": "2025-04-28T10:42:23.050843",
     "exception": false,
     "start_time": "2025-04-28T10:42:23.009766",
     "status": "completed"
    },
    "tags": []
   },
   "source": [
    "# Data Splitting"
   ]
  },
  {
   "cell_type": "code",
   "execution_count": 54,
   "id": "193ce766",
   "metadata": {
    "_cell_guid": "2f6cf81e-8fb0-44d6-89e1-9e1bfb9ecafb",
    "_uuid": "c86b509c-3109-4a18-b1d9-bbb730142512",
    "collapsed": false,
    "execution": {
     "iopub.execute_input": "2025-04-28T10:42:23.132888Z",
     "iopub.status.busy": "2025-04-28T10:42:23.132550Z",
     "iopub.status.idle": "2025-04-28T10:42:23.162483Z",
     "shell.execute_reply": "2025-04-28T10:42:23.161257Z"
    },
    "jupyter": {
     "outputs_hidden": false
    },
    "papermill": {
     "duration": 0.073334,
     "end_time": "2025-04-28T10:42:23.164422",
     "exception": false,
     "start_time": "2025-04-28T10:42:23.091088",
     "status": "completed"
    },
    "tags": []
   },
   "outputs": [],
   "source": [
    "X = df[['Total_Genres', 'Action',' Indie','copiesSold', 'year', ' Sports']]\n",
    "X = X.fillna(X.median())\n",
    "y = df['reviewScore'] \n",
    "X_train, X_test, y_train, y_test = train_test_split(X, y, test_size=0.2, random_state=42)"
   ]
  },
  {
   "cell_type": "markdown",
   "id": "eb938c24",
   "metadata": {
    "_cell_guid": "e824ccab-a51b-42a8-b79e-ae17ec29a1c1",
    "_uuid": "158bae2f-68a0-4c6d-8347-2b65f688a856",
    "collapsed": false,
    "jupyter": {
     "outputs_hidden": false
    },
    "papermill": {
     "duration": 0.040013,
     "end_time": "2025-04-28T10:42:23.245924",
     "exception": false,
     "start_time": "2025-04-28T10:42:23.205911",
     "status": "completed"
    },
    "tags": []
   },
   "source": [
    "# ML Models"
   ]
  },
  {
   "cell_type": "markdown",
   "id": "b89f3ee0",
   "metadata": {
    "_cell_guid": "34471980-918c-48e0-b016-db771e33d65f",
    "_uuid": "be3acae5-7ec6-4b03-9ff7-2088f59ef333",
    "collapsed": false,
    "jupyter": {
     "outputs_hidden": false
    },
    "papermill": {
     "duration": 0.040207,
     "end_time": "2025-04-28T10:42:23.326538",
     "exception": false,
     "start_time": "2025-04-28T10:42:23.286331",
     "status": "completed"
    },
    "tags": []
   },
   "source": [
    "## XGBoost"
   ]
  },
  {
   "cell_type": "code",
   "execution_count": null,
   "id": "2cacdde6",
   "metadata": {
    "_cell_guid": "48990f39-ada7-4f70-bbc6-dc082155fe32",
    "_uuid": "8101c7b9-be9a-4d7e-ad53-f19b4b546c5c",
    "collapsed": false,
    "execution": {
     "iopub.execute_input": "2025-04-28T10:42:23.410927Z",
     "iopub.status.busy": "2025-04-28T10:42:23.410538Z",
     "iopub.status.idle": "2025-04-28T10:42:23.970856Z",
     "shell.execute_reply": "2025-04-28T10:42:23.969881Z"
    },
    "jupyter": {
     "outputs_hidden": false
    },
    "papermill": {
     "duration": 0.60754,
     "end_time": "2025-04-28T10:42:23.975099",
     "exception": false,
     "start_time": "2025-04-28T10:42:23.367559",
     "status": "completed"
    },
    "tags": []
   },
   "outputs": [],
   "source": [
    "# xgb_model = xgb.XGBRegressor()\n",
    "# xgb_model.fit(X_train, y_train)\n",
    "# y_pred_xgb = xgb_model.predict(X_test)\n",
    "\n",
    "# mse_xgb = mean_squared_error(y_test, y_pred_xgb)\n",
    "# mae_xgb = mean_absolute_error(y_test, y_pred_xgb)\n",
    "# r2_xgb = r2_score(y_test, y_pred_xgb)\n",
    "\n",
    "# print(f\"XGBoost MSE: {mse_xgb}\")\n",
    "# print(f\"XGBoost MAE: {mae_xgb}\")\n",
    "# print(f\"XGBoost R²: {r2_xgb}\")\n",
    "\n",
    "# plt.figure(figsize=(8, 6))\n",
    "# plt.scatter(y_test, y_pred_xgb, color='darkorange', edgecolor='k', alpha=0.7)\n",
    "# plt.plot([y_test.min(), y_test.max()], [y_test.min(), y_test.max()], color='navy', linestyle='--', linewidth=2)\n",
    "# plt.xlabel('Actual Values')\n",
    "# plt.ylabel('Predicted Values')\n",
    "# plt.title('Random Forest: Actual vs Predicted')\n",
    "# plt.grid(True)\n",
    "# plt.show()"
   ]
  },
  {
   "cell_type": "markdown",
   "id": "1177dca2",
   "metadata": {
    "_cell_guid": "23ff4d66-6422-46c4-94b3-e06d2c134606",
    "_uuid": "b89ac003-ac9b-4254-a5c2-3ccc7c891482",
    "collapsed": false,
    "jupyter": {
     "outputs_hidden": false
    },
    "papermill": {
     "duration": 0.045732,
     "end_time": "2025-04-28T10:42:24.069193",
     "exception": false,
     "start_time": "2025-04-28T10:42:24.023461",
     "status": "completed"
    },
    "tags": []
   },
   "source": [
    "## Random Forest"
   ]
  },
  {
   "cell_type": "code",
   "execution_count": null,
   "id": "7b26dafa",
   "metadata": {
    "_cell_guid": "8d05f7eb-03dc-4757-b8f6-fc8388104120",
    "_uuid": "9dfd179e-3844-434d-ae12-de4cd701aa22",
    "collapsed": false,
    "execution": {
     "iopub.execute_input": "2025-04-28T10:42:24.161025Z",
     "iopub.status.busy": "2025-04-28T10:42:24.160665Z",
     "iopub.status.idle": "2025-04-28T10:42:29.636954Z",
     "shell.execute_reply": "2025-04-28T10:42:29.635835Z"
    },
    "jupyter": {
     "outputs_hidden": false
    },
    "papermill": {
     "duration": 5.527983,
     "end_time": "2025-04-28T10:42:29.642096",
     "exception": false,
     "start_time": "2025-04-28T10:42:24.114113",
     "status": "completed"
    },
    "tags": []
   },
   "outputs": [],
   "source": [
    "# rf_model = RandomForestRegressor(\n",
    "#     n_estimators=100,\n",
    "#     random_state=42,\n",
    "#     n_jobs=-1\n",
    "# )\n",
    "# rf_model.fit(X_train, y_train)\n",
    "\n",
    "# y_pred_rf = rf_model.predict(X_test)\n",
    "\n",
    "# mse_rf = mean_squared_error(y_test, y_pred_rf)\n",
    "# mae_rf = mean_absolute_error(y_test, y_pred_rf)\n",
    "# r2_rf = r2_score(y_test, y_pred_rf)\n",
    "\n",
    "# print(f\"Random Forest MSE: {mse_rf:.4f}\")\n",
    "# print(f\"Random Forest MAE: {mae_rf:.4f}\")\n",
    "# print(f\"Random Forest R²: {r2_rf:.4f}\")\n",
    "\n",
    "# plt.figure(figsize=(8, 6))\n",
    "# plt.scatter(y_test, y_pred_rf, color='darkorange', edgecolor='k', alpha=0.7)\n",
    "# plt.plot([y_test.min(), y_test.max()], [y_test.min(), y_test.max()], color='navy', linestyle='--', linewidth=2)\n",
    "# plt.xlabel('Actual Values')\n",
    "# plt.ylabel('Predicted Values')\n",
    "# plt.title('Random Forest: Actual vs Predicted')\n",
    "# plt.grid(True)\n",
    "# plt.show()"
   ]
  },
  {
   "cell_type": "markdown",
   "id": "236465e0",
   "metadata": {
    "_cell_guid": "b444907b-5574-4eb3-bc19-926bb992766c",
    "_uuid": "bf02373b-3d38-4251-b6d0-035f7de5922e",
    "collapsed": false,
    "jupyter": {
     "outputs_hidden": false
    },
    "papermill": {
     "duration": 0.050206,
     "end_time": "2025-04-28T10:42:29.747765",
     "exception": false,
     "start_time": "2025-04-28T10:42:29.697559",
     "status": "completed"
    },
    "tags": []
   },
   "source": [
    "## Multilayer Perceptron (MLP) Regressor"
   ]
  },
  {
   "cell_type": "code",
   "execution_count": null,
   "id": "7a3fdcd9",
   "metadata": {
    "_cell_guid": "5b3cb58c-1b40-4b1f-93ce-c3e556204c9c",
    "_uuid": "95ff178b-95b1-4aaf-bc5f-35b0208e8664",
    "collapsed": false,
    "execution": {
     "iopub.execute_input": "2025-04-28T10:42:29.847140Z",
     "iopub.status.busy": "2025-04-28T10:42:29.846833Z",
     "iopub.status.idle": "2025-04-28T10:42:33.045774Z",
     "shell.execute_reply": "2025-04-28T10:42:33.044661Z"
    },
    "jupyter": {
     "outputs_hidden": false
    },
    "papermill": {
     "duration": 3.25079,
     "end_time": "2025-04-28T10:42:33.047419",
     "exception": false,
     "start_time": "2025-04-28T10:42:29.796629",
     "status": "completed"
    },
    "tags": []
   },
   "outputs": [],
   "source": [
    "# mlp_model = MLPRegressor(random_state=42)\n",
    "# mlp_model.fit(X_train, y_train)\n",
    "# y_pred_mlp = mlp_model.predict(X_test)\n",
    "\n",
    "# mse_mlp = mean_squared_error(y_test, y_pred_mlp)\n",
    "# mae_mlp = mean_absolute_error(y_test, y_pred_mlp)\n",
    "# r2_mlp = r2_score(y_test, y_pred_mlp)\n",
    "\n",
    "# print(f\"MLP MSE: {mse_mlp:.4f}\")\n",
    "# print(f\"MLP MAE: {mae_mlp:.4f}\")\n",
    "# print(f\"MLP R²: {r2_mlp:.4f}\")\n",
    "\n",
    "# plt.figure(figsize=(8, 6))\n",
    "# plt.scatter(y_test, y_pred_mlp, color='mediumslateblue', edgecolor='k', alpha=0.7)\n",
    "# plt.plot([y_test.min(), y_test.max()], [y_test.min(), y_test.max()], color='darkred', linestyle='--', linewidth=2)\n",
    "# plt.xlabel('Actual Values')\n",
    "# plt.ylabel('Predicted Values')\n",
    "# plt.title('MLP Regressor: Actual vs Predicted')\n",
    "# plt.grid(True)\n",
    "# plt.show()"
   ]
  },
  {
   "cell_type": "markdown",
   "id": "964b107b",
   "metadata": {
    "_cell_guid": "70b88393-3e81-4a7b-9bbc-029930fc6d34",
    "_uuid": "7974f538-01d0-4a34-ac0c-56328712e7e4",
    "collapsed": false,
    "jupyter": {
     "outputs_hidden": false
    },
    "papermill": {
     "duration": 0.050704,
     "end_time": "2025-04-28T10:42:33.154037",
     "exception": false,
     "start_time": "2025-04-28T10:42:33.103333",
     "status": "completed"
    },
    "tags": []
   },
   "source": [
    "## KNN Regressor"
   ]
  },
  {
   "cell_type": "code",
   "execution_count": null,
   "id": "9b022d8c",
   "metadata": {
    "_cell_guid": "5abfe70e-e23c-4c5e-8968-869ab0f7d910",
    "_uuid": "0b37ea93-3619-4065-9c4e-73d3d38e4331",
    "collapsed": false,
    "execution": {
     "iopub.execute_input": "2025-04-28T10:42:33.256630Z",
     "iopub.status.busy": "2025-04-28T10:42:33.256292Z",
     "iopub.status.idle": "2025-04-28T10:42:33.883053Z",
     "shell.execute_reply": "2025-04-28T10:42:33.881953Z"
    },
    "jupyter": {
     "outputs_hidden": false
    },
    "papermill": {
     "duration": 0.683945,
     "end_time": "2025-04-28T10:42:33.888313",
     "exception": false,
     "start_time": "2025-04-28T10:42:33.204368",
     "status": "completed"
    },
    "tags": []
   },
   "outputs": [],
   "source": [
    "# knn_model = KNeighborsRegressor()\n",
    "# knn_model.fit(X_train, y_train)\n",
    "# y_pred_knn = knn_model.predict(X_test)\n",
    "# mse_knn = mean_squared_error(y_test, y_pred_knn)\n",
    "# mae_knn = mean_absolute_error(y_test, y_pred_knn)\n",
    "# r2 = r2_score(y_test, y_pred_knn)\n",
    "# print(f\"KNN MSE: {mse_knn}\")\n",
    "# print(f\"KNN MAE: {mae_knn}\")\n",
    "# print(f\"R² KNN: {r2}\")\n",
    "\n",
    "# plt.figure(figsize=(8, 6))\n",
    "# plt.scatter(y_test, y_pred_knn, color='seagreen', edgecolor='k', alpha=0.7)\n",
    "# plt.plot([y_test.min(), y_test.max()], [y_test.min(), y_test.max()], color='black', linestyle='--', linewidth=2)\n",
    "# plt.xlabel('Actual Values')\n",
    "# plt.ylabel('Predicted Values')\n",
    "# plt.title('KNN Regressor: Actual vs Predicted')\n",
    "# plt.grid(True)\n",
    "# plt.show()"
   ]
  },
  {
   "cell_type": "markdown",
   "id": "fc9c1c2f",
   "metadata": {
    "_cell_guid": "c290a58f-f155-4036-9d5f-de4cd7fdad6f",
    "_uuid": "d9823f8b-e0d3-409c-9ee0-d4b20290c76a",
    "collapsed": false,
    "jupyter": {
     "outputs_hidden": false
    },
    "papermill": {
     "duration": 0.057296,
     "end_time": "2025-04-28T10:42:34.005994",
     "exception": false,
     "start_time": "2025-04-28T10:42:33.948698",
     "status": "completed"
    },
    "tags": []
   },
   "source": [
    "## Polynomial Regression"
   ]
  },
  {
   "cell_type": "code",
   "execution_count": null,
   "id": "744255f5",
   "metadata": {
    "_cell_guid": "ec0e2ff2-e2bc-4b72-b9aa-dbfb6c73fdc3",
    "_uuid": "23ecdb5f-bb27-41b7-a095-0c4442a2abe4",
    "collapsed": false,
    "execution": {
     "iopub.execute_input": "2025-04-28T10:42:34.122867Z",
     "iopub.status.busy": "2025-04-28T10:42:34.122457Z",
     "iopub.status.idle": "2025-04-28T10:42:34.494601Z",
     "shell.execute_reply": "2025-04-28T10:42:34.493580Z"
    },
    "jupyter": {
     "outputs_hidden": false
    },
    "papermill": {
     "duration": 0.434157,
     "end_time": "2025-04-28T10:42:34.498074",
     "exception": false,
     "start_time": "2025-04-28T10:42:34.063917",
     "status": "completed"
    },
    "tags": []
   },
   "outputs": [],
   "source": [
    "# poly = PolynomialFeatures(degree=2)\n",
    "# X_train_poly = poly.fit_transform(X_train)\n",
    "# poly_model = LinearRegression()\n",
    "# poly_model.fit(X_train_poly, y_train)\n",
    "# X_test_poly = poly.transform(X_test)\n",
    "# y_pred_poly = poly_model.predict(X_test_poly)\n",
    "# mse_poly = mean_squared_error(y_test, y_pred_poly)\n",
    "# mae_poly = mean_squared_error(y_test, y_pred_poly)\n",
    "# r2 = r2_score(y_test, y_pred_poly)\n",
    "# print(f\"Polynomial Regression MSE: {mse_poly}\")\n",
    "# print(f\"Polynomial Regression MAE: {mae_poly}\")\n",
    "# print(f\"R²: {r2}\")\n",
    "\n",
    "# plt.figure(figsize=(8, 6))\n",
    "# plt.scatter(y_test, y_pred_poly, color='goldenrod', edgecolor='k', alpha=0.7)\n",
    "# plt.plot([y_test.min(), y_test.max()], [y_test.min(), y_test.max()], color='darkblue', linestyle='--', linewidth=2)\n",
    "# plt.xlabel('Actual Values')\n",
    "# plt.ylabel('Predicted Values')\n",
    "# plt.title('Polynomial Regression (Degree=2): Actual vs Predicted')\n",
    "# plt.grid(True)\n",
    "# plt.show()"
   ]
  },
  {
   "cell_type": "markdown",
   "id": "f3e3d816",
   "metadata": {
    "_cell_guid": "5195369e-0328-4a30-a20d-cb311e9df6ac",
    "_uuid": "88c4142f-9c70-40c4-939b-484616eecb30",
    "collapsed": false,
    "jupyter": {
     "outputs_hidden": false
    },
    "papermill": {
     "duration": 0.060076,
     "end_time": "2025-04-28T10:42:34.624086",
     "exception": false,
     "start_time": "2025-04-28T10:42:34.564010",
     "status": "completed"
    },
    "tags": []
   },
   "source": [
    "## Lasso Regression"
   ]
  },
  {
   "cell_type": "code",
   "execution_count": null,
   "id": "b702da30",
   "metadata": {
    "_cell_guid": "0a754064-aedf-478c-a669-0e8dd683a152",
    "_uuid": "1710bf4a-4a59-452f-b6f2-b4088bda8869",
    "collapsed": false,
    "execution": {
     "iopub.execute_input": "2025-04-28T10:42:34.748321Z",
     "iopub.status.busy": "2025-04-28T10:42:34.747986Z",
     "iopub.status.idle": "2025-04-28T10:42:35.028356Z",
     "shell.execute_reply": "2025-04-28T10:42:35.027139Z"
    },
    "jupyter": {
     "outputs_hidden": false
    },
    "papermill": {
     "duration": 0.346414,
     "end_time": "2025-04-28T10:42:35.030933",
     "exception": false,
     "start_time": "2025-04-28T10:42:34.684519",
     "status": "completed"
    },
    "tags": []
   },
   "outputs": [],
   "source": [
    "# lasso_model = Lasso(random_state=42)\n",
    "# lasso_model.fit(X_train, y_train)\n",
    "# y_pred_lasso = lasso_model.predict(X_test)\n",
    "# mse_lasso = mean_squared_error(y_test, y_pred_lasso)\n",
    "# mae_lasso = mean_absolute_error(y_test, y_pred_lasso)\n",
    "# r2 = r2_score(y_test, y_pred_lasso)\n",
    "# print(f\"Lasso MSE: {mse_lasso}\")\n",
    "# print(f\"Lasso MAE: {mae_lasso}\")\n",
    "# print(f\"R²: {r2}\")\n",
    "\n",
    "# plt.figure(figsize=(8, 6))\n",
    "# plt.scatter(y_test, y_pred_lasso, color='orangered', edgecolor='k', alpha=0.7)\n",
    "# plt.plot([y_test.min(), y_test.max()], [y_test.min(), y_test.max()], color='forestgreen', linestyle='--', linewidth=2)\n",
    "# plt.xlabel('Actual Values')\n",
    "# plt.ylabel('Predicted Values')\n",
    "# plt.title('Lasso Regression: Actual vs Predicted')\n",
    "# plt.grid(True)\n",
    "# plt.show()"
   ]
  },
  {
   "cell_type": "markdown",
   "id": "27915fee",
   "metadata": {
    "_cell_guid": "801494ab-6608-4d2d-9bc7-11aa59c94108",
    "_uuid": "11b06ec0-6391-4cf1-b581-1a7f4554e87c",
    "collapsed": false,
    "jupyter": {
     "outputs_hidden": false
    },
    "papermill": {
     "duration": 0.063278,
     "end_time": "2025-04-28T10:42:35.164260",
     "exception": false,
     "start_time": "2025-04-28T10:42:35.100982",
     "status": "completed"
    },
    "tags": []
   },
   "source": [
    "## Ridge"
   ]
  },
  {
   "cell_type": "code",
   "execution_count": null,
   "id": "1020910b",
   "metadata": {
    "_cell_guid": "19e55e43-8fb3-4ce0-97b6-30fe03b59c2c",
    "_uuid": "2f4d3d1e-2231-4e10-a5cc-73c48a1c41ae",
    "collapsed": false,
    "execution": {
     "iopub.execute_input": "2025-04-28T10:42:35.291795Z",
     "iopub.status.busy": "2025-04-28T10:42:35.291293Z",
     "iopub.status.idle": "2025-04-28T10:42:35.537130Z",
     "shell.execute_reply": "2025-04-28T10:42:35.536154Z"
    },
    "jupyter": {
     "outputs_hidden": false
    },
    "papermill": {
     "duration": 0.31428,
     "end_time": "2025-04-28T10:42:35.541287",
     "exception": false,
     "start_time": "2025-04-28T10:42:35.227007",
     "status": "completed"
    },
    "tags": []
   },
   "outputs": [],
   "source": [
    "# ridge_model = Ridge(random_state=42)\n",
    "# ridge_model.fit(X_train, y_train)\n",
    "# y_pred_ridge = ridge_model.predict(X_test)\n",
    "# mse_ridge = mean_squared_error(y_test, y_pred_ridge)\n",
    "# mae_ridge = mean_absolute_error(y_test, y_pred_ridge)\n",
    "# r2 = r2_score(y_test, y_pred_ridge)\n",
    "# print(f\"Ridge MSE: {mse_ridge}\")\n",
    "# print(f\"Ridge MAE: {mae_ridge}\")\n",
    "# print(f\"R²: {r2}\")\n",
    "\n",
    "# plt.figure(figsize=(8, 6))\n",
    "# plt.scatter(y_test, y_pred_ridge, color='slateblue', edgecolor='k', alpha=0.7)\n",
    "# plt.plot([y_test.min(), y_test.max()], [y_test.min(), y_test.max()], color='darkviolet', linestyle='--', linewidth=2)\n",
    "# plt.xlabel('Actual Values')\n",
    "# plt.ylabel('Predicted Values')\n",
    "# plt.title('Ridge Regression: Actual vs Predicted')\n",
    "# plt.grid(True)\n",
    "# plt.show()"
   ]
  },
  {
   "cell_type": "markdown",
   "id": "560545df",
   "metadata": {
    "_cell_guid": "7dee5808-90ae-48d8-9174-ab1f38be6f6e",
    "_uuid": "7b0afd1a-063b-4405-b478-b97dc7155618",
    "collapsed": false,
    "jupyter": {
     "outputs_hidden": false
    },
    "papermill": {
     "duration": 0.066421,
     "end_time": "2025-04-28T10:42:35.678168",
     "exception": false,
     "start_time": "2025-04-28T10:42:35.611747",
     "status": "completed"
    },
    "tags": []
   },
   "source": [
    "## Decsion Trees"
   ]
  },
  {
   "cell_type": "code",
   "execution_count": null,
   "id": "c281efcf",
   "metadata": {
    "_cell_guid": "1bf45768-bdcd-490e-81cb-651e710795f2",
    "_uuid": "ce7dd78f-bca7-4490-b395-ba0b90a8ff34",
    "collapsed": false,
    "execution": {
     "iopub.execute_input": "2025-04-28T10:42:35.816768Z",
     "iopub.status.busy": "2025-04-28T10:42:35.816269Z",
     "iopub.status.idle": "2025-04-28T10:42:36.253907Z",
     "shell.execute_reply": "2025-04-28T10:42:36.252754Z"
    },
    "jupyter": {
     "outputs_hidden": false
    },
    "papermill": {
     "duration": 0.510374,
     "end_time": "2025-04-28T10:42:36.259636",
     "exception": false,
     "start_time": "2025-04-28T10:42:35.749262",
     "status": "completed"
    },
    "tags": []
   },
   "outputs": [],
   "source": [
    "# tree_model = DecisionTreeRegressor(random_state=42)\n",
    "# tree_model.fit(X_train, y_train)\n",
    "# y_pred_tree = tree_model.predict(X_test)\n",
    "# mse_tree = mean_squared_error(y_test, y_pred_tree)\n",
    "# mae_tree = mean_absolute_error(y_test, y_pred_tree)\n",
    "\n",
    "# r2_tree = r2_score(y_test, y_pred_tree)\n",
    "# print(f\"Decision Tree MSE: {mse_tree}\")\n",
    "# print(f\"Decision Tree MAE: {mae_tree}\")\n",
    "# print(f\"R²: {r2_tree}\")\n",
    "\n",
    "# plt.figure(figsize=(8, 6))\n",
    "# plt.scatter(y_test, y_pred_tree, color='darkcyan', edgecolor='k', alpha=0.7)\n",
    "# plt.plot([y_test.min(), y_test.max()], [y_test.min(), y_test.max()], color='darkorange', linestyle='--', linewidth=2)\n",
    "# plt.xlabel('Actual Values')\n",
    "# plt.ylabel('Predicted Values')\n",
    "# plt.title('Decision Tree Regressor: Actual vs Predicted')\n",
    "# plt.grid(True)\n",
    "# plt.show()"
   ]
  },
  {
   "cell_type": "markdown",
   "id": "c38ec482",
   "metadata": {
    "papermill": {
     "duration": 0.070406,
     "end_time": "2025-04-28T10:42:36.406329",
     "exception": false,
     "start_time": "2025-04-28T10:42:36.335923",
     "status": "completed"
    },
    "tags": []
   },
   "source": [
    "## Linear"
   ]
  },
  {
   "cell_type": "code",
   "execution_count": null,
   "id": "9e1303f1",
   "metadata": {
    "_cell_guid": "4a28ba0d-74f5-40c0-a10b-356e24f42a09",
    "_uuid": "7d1bfc79-82ea-4b25-a6f9-4fa333bf5a00",
    "collapsed": false,
    "execution": {
     "iopub.execute_input": "2025-04-28T10:42:36.549784Z",
     "iopub.status.busy": "2025-04-28T10:42:36.548755Z",
     "iopub.status.idle": "2025-04-28T10:42:37.038847Z",
     "shell.execute_reply": "2025-04-28T10:42:37.037794Z"
    },
    "jupyter": {
     "outputs_hidden": false
    },
    "papermill": {
     "duration": 0.566473,
     "end_time": "2025-04-28T10:42:37.043307",
     "exception": false,
     "start_time": "2025-04-28T10:42:36.476834",
     "status": "completed"
    },
    "tags": []
   },
   "outputs": [],
   "source": [
    "# linear_model = LinearRegression(fit_intercept=True)  \n",
    "# linear_model.fit(X_train, y_train)\n",
    "\n",
    "# y_pred_linear = linear_model.predict(X_test)\n",
    "\n",
    "# mse_linear = mean_squared_error(y_test, y_pred_linear)\n",
    "# mae_linear = mean_absolute_error(y_test, y_pred_linear)\n",
    "# r2_linear = r2_score(y_test, y_pred_linear)\n",
    "\n",
    "# print(f\"Linear Regression MSE: {mse_linear}\")\n",
    "# print(f\"Linear Regression MAE: {mae_linear}\")\n",
    "# print(f\"Linear Regression R²: {r2_linear}\")\n",
    "\n",
    "# plt.figure(figsize=(8, 6))\n",
    "# plt.scatter(y_test, y_pred_linear, color='green', edgecolor='k', alpha=0.7)\n",
    "# plt.axhline(y=y_pred_linear.mean(), color='darkviolet', linestyle='--', linewidth=2)  \n",
    "# plt.xlabel('Actual Values')\n",
    "# plt.ylabel('Predicted Values')\n",
    "# plt.title('Linear Regression: Actual vs Predicted (Horizontal Line with Slope 0)')\n",
    "# plt.grid(True)\n",
    "# plt.show()"
   ]
  },
  {
   "cell_type": "markdown",
   "id": "335a5c9b",
   "metadata": {},
   "source": [
    "# Classification Ms2"
   ]
  },
  {
   "cell_type": "code",
   "execution_count": 588,
   "id": "dba222a2",
   "metadata": {},
   "outputs": [
    {
     "name": "stdout",
     "output_type": "stream",
     "text": [
      "Index(['name_x', 'name_y', 'price', 'copiesSold', 'publisherClass',\n",
      "       'reviewScore', 'aiContent', 'name', 'metacritic', 'steam_achievements',\n",
      "       'steam_trading_cards', 'workshop_support', 'genres',\n",
      "       'achievements_total', 'release_date', 'supported_platforms'],\n",
      "      dtype='object')\n",
      "Demos: (15449, 4)\n",
      "DLCs: (5445, 3)\n",
      "Gamalytic: (93338, 6)\n",
      "Merged shape: (69428, 16)\n",
      "0        Very Positive\n",
      "1        Very Positive\n",
      "2                Mixed\n",
      "3        Very Positive\n",
      "4                Mixed\n",
      "             ...      \n",
      "69423         Negative\n",
      "69424         Negative\n",
      "69425         Negative\n",
      "69426         Negative\n",
      "69427         Negative\n",
      "Name: reviewScore, Length: 69428, dtype: object\n"
     ]
    }
   ],
   "source": [
    "Classification_df = MergeDatasets(demos,dlcs,gamalyticMS2,info,\"Classification_combined_games\")\n",
    "Classification_df.head()\n",
    "df = Classification_df\n",
    "print(df['reviewScore'])"
   ]
  },
  {
   "cell_type": "markdown",
   "id": "073492f4",
   "metadata": {},
   "source": [
    "# Data Inspection"
   ]
  },
  {
   "cell_type": "code",
   "execution_count": 589,
   "id": "a0fcc772",
   "metadata": {},
   "outputs": [
    {
     "name": "stdout",
     "output_type": "stream",
     "text": [
      "<class 'pandas.core.frame.DataFrame'>\n",
      "RangeIndex: 69428 entries, 0 to 69427\n",
      "Data columns (total 16 columns):\n",
      " #   Column               Non-Null Count  Dtype  \n",
      "---  ------               --------------  -----  \n",
      " 0   name_x               520 non-null    object \n",
      " 1   name_y               520 non-null    object \n",
      " 2   price                69428 non-null  float64\n",
      " 3   copiesSold           69428 non-null  int64  \n",
      " 4   publisherClass       69428 non-null  object \n",
      " 5   aiContent            0 non-null      float64\n",
      " 6   name                 69428 non-null  object \n",
      " 7   metacritic           2933 non-null   object \n",
      " 8   steam_achievements   69428 non-null  bool   \n",
      " 9   steam_trading_cards  69428 non-null  bool   \n",
      " 10  workshop_support     69428 non-null  bool   \n",
      " 11  genres               69324 non-null  object \n",
      " 12  achievements_total   37295 non-null  object \n",
      " 13  release_date         69426 non-null  object \n",
      " 14  supported_platforms  69428 non-null  object \n",
      " 15  reviewScore          69428 non-null  object \n",
      "dtypes: bool(3), float64(2), int64(1), object(10)\n",
      "memory usage: 7.1+ MB\n"
     ]
    },
    {
     "data": {
      "text/html": [
       "<div>\n",
       "<style scoped>\n",
       "    .dataframe tbody tr th:only-of-type {\n",
       "        vertical-align: middle;\n",
       "    }\n",
       "\n",
       "    .dataframe tbody tr th {\n",
       "        vertical-align: top;\n",
       "    }\n",
       "\n",
       "    .dataframe thead th {\n",
       "        text-align: right;\n",
       "    }\n",
       "</style>\n",
       "<table border=\"1\" class=\"dataframe\">\n",
       "  <thead>\n",
       "    <tr style=\"text-align: right;\">\n",
       "      <th></th>\n",
       "      <th>name_x</th>\n",
       "      <th>name_y</th>\n",
       "      <th>price</th>\n",
       "      <th>copiesSold</th>\n",
       "      <th>publisherClass</th>\n",
       "      <th>aiContent</th>\n",
       "      <th>name</th>\n",
       "      <th>metacritic</th>\n",
       "      <th>steam_achievements</th>\n",
       "      <th>steam_trading_cards</th>\n",
       "      <th>workshop_support</th>\n",
       "      <th>genres</th>\n",
       "      <th>achievements_total</th>\n",
       "      <th>release_date</th>\n",
       "      <th>supported_platforms</th>\n",
       "      <th>reviewScore</th>\n",
       "    </tr>\n",
       "  </thead>\n",
       "  <tbody>\n",
       "    <tr>\n",
       "      <th>0</th>\n",
       "      <td>NaN</td>\n",
       "      <td>NaN</td>\n",
       "      <td>0.0</td>\n",
       "      <td>302158048</td>\n",
       "      <td>AAA</td>\n",
       "      <td>NaN</td>\n",
       "      <td>Counter-Strike 2</td>\n",
       "      <td>NaN</td>\n",
       "      <td>False</td>\n",
       "      <td>True</td>\n",
       "      <td>True</td>\n",
       "      <td>Action, Free To Play</td>\n",
       "      <td>1.0</td>\n",
       "      <td>Aug 21, 2012</td>\n",
       "      <td>['windows', 'linux']</td>\n",
       "      <td>Very Positive</td>\n",
       "    </tr>\n",
       "    <tr>\n",
       "      <th>1</th>\n",
       "      <td>NaN</td>\n",
       "      <td>NaN</td>\n",
       "      <td>0.0</td>\n",
       "      <td>212896574</td>\n",
       "      <td>AAA</td>\n",
       "      <td>NaN</td>\n",
       "      <td>Dota 2</td>\n",
       "      <td>90.0</td>\n",
       "      <td>False</td>\n",
       "      <td>True</td>\n",
       "      <td>True</td>\n",
       "      <td>Action, Strategy, Free To Play</td>\n",
       "      <td>NaN</td>\n",
       "      <td>Jul 9, 2013</td>\n",
       "      <td>['windows', 'mac', 'linux']</td>\n",
       "      <td>Very Positive</td>\n",
       "    </tr>\n",
       "    <tr>\n",
       "      <th>2</th>\n",
       "      <td>NaN</td>\n",
       "      <td>NaN</td>\n",
       "      <td>0.0</td>\n",
       "      <td>161971233</td>\n",
       "      <td>AAA</td>\n",
       "      <td>NaN</td>\n",
       "      <td>PUBG: BATTLEGROUNDS</td>\n",
       "      <td>NaN</td>\n",
       "      <td>False</td>\n",
       "      <td>False</td>\n",
       "      <td>False</td>\n",
       "      <td>Action, Adventure, Massively Multiplayer, Free...</td>\n",
       "      <td>37.0</td>\n",
       "      <td>Dec 21, 2017</td>\n",
       "      <td>['windows']</td>\n",
       "      <td>Mixed</td>\n",
       "    </tr>\n",
       "    <tr>\n",
       "      <th>3</th>\n",
       "      <td>NaN</td>\n",
       "      <td>NaN</td>\n",
       "      <td>0.0</td>\n",
       "      <td>99060457</td>\n",
       "      <td>AAA</td>\n",
       "      <td>NaN</td>\n",
       "      <td>Team Fortress 2</td>\n",
       "      <td>92.0</td>\n",
       "      <td>True</td>\n",
       "      <td>True</td>\n",
       "      <td>True</td>\n",
       "      <td>Action, Free To Play</td>\n",
       "      <td>520.0</td>\n",
       "      <td>Oct 10, 2007</td>\n",
       "      <td>['windows', 'linux']</td>\n",
       "      <td>Very Positive</td>\n",
       "    </tr>\n",
       "    <tr>\n",
       "      <th>4</th>\n",
       "      <td>NaN</td>\n",
       "      <td>NaN</td>\n",
       "      <td>0.0</td>\n",
       "      <td>67554185</td>\n",
       "      <td>AAA</td>\n",
       "      <td>NaN</td>\n",
       "      <td>Apex Legends™</td>\n",
       "      <td>88.0</td>\n",
       "      <td>True</td>\n",
       "      <td>True</td>\n",
       "      <td>False</td>\n",
       "      <td>Action, Adventure, Free To Play</td>\n",
       "      <td>12.0</td>\n",
       "      <td>Nov 4, 2020</td>\n",
       "      <td>['windows']</td>\n",
       "      <td>Mixed</td>\n",
       "    </tr>\n",
       "  </tbody>\n",
       "</table>\n",
       "</div>"
      ],
      "text/plain": [
       "  name_x name_y  price  copiesSold publisherClass  aiContent  \\\n",
       "0    NaN    NaN    0.0   302158048            AAA        NaN   \n",
       "1    NaN    NaN    0.0   212896574            AAA        NaN   \n",
       "2    NaN    NaN    0.0   161971233            AAA        NaN   \n",
       "3    NaN    NaN    0.0    99060457            AAA        NaN   \n",
       "4    NaN    NaN    0.0    67554185            AAA        NaN   \n",
       "\n",
       "                  name metacritic  steam_achievements  steam_trading_cards  \\\n",
       "0     Counter-Strike 2        NaN               False                 True   \n",
       "1               Dota 2       90.0               False                 True   \n",
       "2  PUBG: BATTLEGROUNDS        NaN               False                False   \n",
       "3      Team Fortress 2       92.0                True                 True   \n",
       "4        Apex Legends™       88.0                True                 True   \n",
       "\n",
       "   workshop_support                                             genres  \\\n",
       "0              True                               Action, Free To Play   \n",
       "1              True                     Action, Strategy, Free To Play   \n",
       "2             False  Action, Adventure, Massively Multiplayer, Free...   \n",
       "3              True                               Action, Free To Play   \n",
       "4             False                    Action, Adventure, Free To Play   \n",
       "\n",
       "  achievements_total  release_date          supported_platforms    reviewScore  \n",
       "0                1.0  Aug 21, 2012         ['windows', 'linux']  Very Positive  \n",
       "1                NaN   Jul 9, 2013  ['windows', 'mac', 'linux']  Very Positive  \n",
       "2               37.0  Dec 21, 2017                  ['windows']          Mixed  \n",
       "3              520.0  Oct 10, 2007         ['windows', 'linux']  Very Positive  \n",
       "4               12.0   Nov 4, 2020                  ['windows']          Mixed  "
      ]
     },
     "execution_count": 589,
     "metadata": {},
     "output_type": "execute_result"
    }
   ],
   "source": [
    "df.shape\n",
    "df.info()\n",
    "df.describe(include='all')  # See summary for all columns\n",
    "df.head()\n"
   ]
  },
  {
   "cell_type": "code",
   "execution_count": 590,
   "id": "052370f3",
   "metadata": {},
   "outputs": [
    {
     "name": "stdout",
     "output_type": "stream",
     "text": [
      "Combined shape: (69428, 16)\n",
      "<class 'pandas.core.frame.DataFrame'>\n",
      "RangeIndex: 69428 entries, 0 to 69427\n",
      "Data columns (total 16 columns):\n",
      " #   Column               Non-Null Count  Dtype  \n",
      "---  ------               --------------  -----  \n",
      " 0   name_x               520 non-null    object \n",
      " 1   name_y               520 non-null    object \n",
      " 2   price                69428 non-null  float64\n",
      " 3   copiesSold           69428 non-null  int64  \n",
      " 4   publisherClass       69428 non-null  object \n",
      " 5   aiContent            0 non-null      float64\n",
      " 6   name                 69428 non-null  object \n",
      " 7   metacritic           2933 non-null   object \n",
      " 8   steam_achievements   69428 non-null  bool   \n",
      " 9   steam_trading_cards  69428 non-null  bool   \n",
      " 10  workshop_support     69428 non-null  bool   \n",
      " 11  genres               69324 non-null  object \n",
      " 12  achievements_total   37295 non-null  object \n",
      " 13  release_date         69426 non-null  object \n",
      " 14  supported_platforms  69428 non-null  object \n",
      " 15  reviewScore          69428 non-null  object \n",
      "dtypes: bool(3), float64(2), int64(1), object(10)\n",
      "memory usage: 7.1+ MB\n"
     ]
    }
   ],
   "source": [
    "df = Classification_df\n",
    "print(\"Combined shape:\", df.shape)\n",
    "df.info()"
   ]
  },
  {
   "cell_type": "code",
   "execution_count": 591,
   "id": "7b0a5d77",
   "metadata": {},
   "outputs": [
    {
     "data": {
      "text/html": [
       "<div>\n",
       "<style scoped>\n",
       "    .dataframe tbody tr th:only-of-type {\n",
       "        vertical-align: middle;\n",
       "    }\n",
       "\n",
       "    .dataframe tbody tr th {\n",
       "        vertical-align: top;\n",
       "    }\n",
       "\n",
       "    .dataframe thead th {\n",
       "        text-align: right;\n",
       "    }\n",
       "</style>\n",
       "<table border=\"1\" class=\"dataframe\">\n",
       "  <thead>\n",
       "    <tr style=\"text-align: right;\">\n",
       "      <th></th>\n",
       "      <th>price</th>\n",
       "      <th>copiesSold</th>\n",
       "      <th>aiContent</th>\n",
       "    </tr>\n",
       "  </thead>\n",
       "  <tbody>\n",
       "    <tr>\n",
       "      <th>count</th>\n",
       "      <td>69428.000000</td>\n",
       "      <td>6.942800e+04</td>\n",
       "      <td>0.0</td>\n",
       "    </tr>\n",
       "    <tr>\n",
       "      <th>mean</th>\n",
       "      <td>7.940826</td>\n",
       "      <td>8.584933e+04</td>\n",
       "      <td>NaN</td>\n",
       "    </tr>\n",
       "    <tr>\n",
       "      <th>std</th>\n",
       "      <td>15.533680</td>\n",
       "      <td>1.820168e+06</td>\n",
       "      <td>NaN</td>\n",
       "    </tr>\n",
       "    <tr>\n",
       "      <th>min</th>\n",
       "      <td>0.000000</td>\n",
       "      <td>0.000000e+00</td>\n",
       "      <td>NaN</td>\n",
       "    </tr>\n",
       "    <tr>\n",
       "      <th>25%</th>\n",
       "      <td>0.990000</td>\n",
       "      <td>6.000000e+01</td>\n",
       "      <td>NaN</td>\n",
       "    </tr>\n",
       "    <tr>\n",
       "      <th>50%</th>\n",
       "      <td>4.990000</td>\n",
       "      <td>4.570000e+02</td>\n",
       "      <td>NaN</td>\n",
       "    </tr>\n",
       "    <tr>\n",
       "      <th>75%</th>\n",
       "      <td>9.990000</td>\n",
       "      <td>3.955000e+03</td>\n",
       "      <td>NaN</td>\n",
       "    </tr>\n",
       "    <tr>\n",
       "      <th>max</th>\n",
       "      <td>1900.000000</td>\n",
       "      <td>3.021580e+08</td>\n",
       "      <td>NaN</td>\n",
       "    </tr>\n",
       "  </tbody>\n",
       "</table>\n",
       "</div>"
      ],
      "text/plain": [
       "              price    copiesSold  aiContent\n",
       "count  69428.000000  6.942800e+04        0.0\n",
       "mean       7.940826  8.584933e+04        NaN\n",
       "std       15.533680  1.820168e+06        NaN\n",
       "min        0.000000  0.000000e+00        NaN\n",
       "25%        0.990000  6.000000e+01        NaN\n",
       "50%        4.990000  4.570000e+02        NaN\n",
       "75%        9.990000  3.955000e+03        NaN\n",
       "max     1900.000000  3.021580e+08        NaN"
      ]
     },
     "execution_count": 591,
     "metadata": {},
     "output_type": "execute_result"
    }
   ],
   "source": [
    "df.describe()"
   ]
  },
  {
   "cell_type": "code",
   "execution_count": 592,
   "id": "33cbacf0",
   "metadata": {},
   "outputs": [
    {
     "data": {
      "text/html": [
       "<div>\n",
       "<style scoped>\n",
       "    .dataframe tbody tr th:only-of-type {\n",
       "        vertical-align: middle;\n",
       "    }\n",
       "\n",
       "    .dataframe tbody tr th {\n",
       "        vertical-align: top;\n",
       "    }\n",
       "\n",
       "    .dataframe thead th {\n",
       "        text-align: right;\n",
       "    }\n",
       "</style>\n",
       "<table border=\"1\" class=\"dataframe\">\n",
       "  <thead>\n",
       "    <tr style=\"text-align: right;\">\n",
       "      <th></th>\n",
       "      <th>name_x</th>\n",
       "      <th>name_y</th>\n",
       "      <th>price</th>\n",
       "      <th>copiesSold</th>\n",
       "      <th>publisherClass</th>\n",
       "      <th>aiContent</th>\n",
       "      <th>name</th>\n",
       "      <th>metacritic</th>\n",
       "      <th>steam_achievements</th>\n",
       "      <th>steam_trading_cards</th>\n",
       "      <th>workshop_support</th>\n",
       "      <th>genres</th>\n",
       "      <th>achievements_total</th>\n",
       "      <th>release_date</th>\n",
       "      <th>supported_platforms</th>\n",
       "      <th>reviewScore</th>\n",
       "    </tr>\n",
       "  </thead>\n",
       "  <tbody>\n",
       "    <tr>\n",
       "      <th>0</th>\n",
       "      <td>NaN</td>\n",
       "      <td>NaN</td>\n",
       "      <td>0.0</td>\n",
       "      <td>302158048</td>\n",
       "      <td>AAA</td>\n",
       "      <td>NaN</td>\n",
       "      <td>Counter-Strike 2</td>\n",
       "      <td>NaN</td>\n",
       "      <td>False</td>\n",
       "      <td>True</td>\n",
       "      <td>True</td>\n",
       "      <td>Action, Free To Play</td>\n",
       "      <td>1.0</td>\n",
       "      <td>Aug 21, 2012</td>\n",
       "      <td>['windows', 'linux']</td>\n",
       "      <td>Very Positive</td>\n",
       "    </tr>\n",
       "    <tr>\n",
       "      <th>1</th>\n",
       "      <td>NaN</td>\n",
       "      <td>NaN</td>\n",
       "      <td>0.0</td>\n",
       "      <td>212896574</td>\n",
       "      <td>AAA</td>\n",
       "      <td>NaN</td>\n",
       "      <td>Dota 2</td>\n",
       "      <td>90.0</td>\n",
       "      <td>False</td>\n",
       "      <td>True</td>\n",
       "      <td>True</td>\n",
       "      <td>Action, Strategy, Free To Play</td>\n",
       "      <td>NaN</td>\n",
       "      <td>Jul 9, 2013</td>\n",
       "      <td>['windows', 'mac', 'linux']</td>\n",
       "      <td>Very Positive</td>\n",
       "    </tr>\n",
       "    <tr>\n",
       "      <th>2</th>\n",
       "      <td>NaN</td>\n",
       "      <td>NaN</td>\n",
       "      <td>0.0</td>\n",
       "      <td>161971233</td>\n",
       "      <td>AAA</td>\n",
       "      <td>NaN</td>\n",
       "      <td>PUBG: BATTLEGROUNDS</td>\n",
       "      <td>NaN</td>\n",
       "      <td>False</td>\n",
       "      <td>False</td>\n",
       "      <td>False</td>\n",
       "      <td>Action, Adventure, Massively Multiplayer, Free...</td>\n",
       "      <td>37.0</td>\n",
       "      <td>Dec 21, 2017</td>\n",
       "      <td>['windows']</td>\n",
       "      <td>Mixed</td>\n",
       "    </tr>\n",
       "    <tr>\n",
       "      <th>3</th>\n",
       "      <td>NaN</td>\n",
       "      <td>NaN</td>\n",
       "      <td>0.0</td>\n",
       "      <td>99060457</td>\n",
       "      <td>AAA</td>\n",
       "      <td>NaN</td>\n",
       "      <td>Team Fortress 2</td>\n",
       "      <td>92.0</td>\n",
       "      <td>True</td>\n",
       "      <td>True</td>\n",
       "      <td>True</td>\n",
       "      <td>Action, Free To Play</td>\n",
       "      <td>520.0</td>\n",
       "      <td>Oct 10, 2007</td>\n",
       "      <td>['windows', 'linux']</td>\n",
       "      <td>Very Positive</td>\n",
       "    </tr>\n",
       "    <tr>\n",
       "      <th>4</th>\n",
       "      <td>NaN</td>\n",
       "      <td>NaN</td>\n",
       "      <td>0.0</td>\n",
       "      <td>67554185</td>\n",
       "      <td>AAA</td>\n",
       "      <td>NaN</td>\n",
       "      <td>Apex Legends™</td>\n",
       "      <td>88.0</td>\n",
       "      <td>True</td>\n",
       "      <td>True</td>\n",
       "      <td>False</td>\n",
       "      <td>Action, Adventure, Free To Play</td>\n",
       "      <td>12.0</td>\n",
       "      <td>Nov 4, 2020</td>\n",
       "      <td>['windows']</td>\n",
       "      <td>Mixed</td>\n",
       "    </tr>\n",
       "  </tbody>\n",
       "</table>\n",
       "</div>"
      ],
      "text/plain": [
       "  name_x name_y  price  copiesSold publisherClass  aiContent  \\\n",
       "0    NaN    NaN    0.0   302158048            AAA        NaN   \n",
       "1    NaN    NaN    0.0   212896574            AAA        NaN   \n",
       "2    NaN    NaN    0.0   161971233            AAA        NaN   \n",
       "3    NaN    NaN    0.0    99060457            AAA        NaN   \n",
       "4    NaN    NaN    0.0    67554185            AAA        NaN   \n",
       "\n",
       "                  name metacritic  steam_achievements  steam_trading_cards  \\\n",
       "0     Counter-Strike 2        NaN               False                 True   \n",
       "1               Dota 2       90.0               False                 True   \n",
       "2  PUBG: BATTLEGROUNDS        NaN               False                False   \n",
       "3      Team Fortress 2       92.0                True                 True   \n",
       "4        Apex Legends™       88.0                True                 True   \n",
       "\n",
       "   workshop_support                                             genres  \\\n",
       "0              True                               Action, Free To Play   \n",
       "1              True                     Action, Strategy, Free To Play   \n",
       "2             False  Action, Adventure, Massively Multiplayer, Free...   \n",
       "3              True                               Action, Free To Play   \n",
       "4             False                    Action, Adventure, Free To Play   \n",
       "\n",
       "  achievements_total  release_date          supported_platforms    reviewScore  \n",
       "0                1.0  Aug 21, 2012         ['windows', 'linux']  Very Positive  \n",
       "1                NaN   Jul 9, 2013  ['windows', 'mac', 'linux']  Very Positive  \n",
       "2               37.0  Dec 21, 2017                  ['windows']          Mixed  \n",
       "3              520.0  Oct 10, 2007         ['windows', 'linux']  Very Positive  \n",
       "4               12.0   Nov 4, 2020                  ['windows']          Mixed  "
      ]
     },
     "execution_count": 592,
     "metadata": {},
     "output_type": "execute_result"
    }
   ],
   "source": [
    "df.head()"
   ]
  },
  {
   "cell_type": "code",
   "execution_count": 593,
   "id": "e1a48508",
   "metadata": {},
   "outputs": [
    {
     "data": {
      "text/html": [
       "<div>\n",
       "<style scoped>\n",
       "    .dataframe tbody tr th:only-of-type {\n",
       "        vertical-align: middle;\n",
       "    }\n",
       "\n",
       "    .dataframe tbody tr th {\n",
       "        vertical-align: top;\n",
       "    }\n",
       "\n",
       "    .dataframe thead th {\n",
       "        text-align: right;\n",
       "    }\n",
       "</style>\n",
       "<table border=\"1\" class=\"dataframe\">\n",
       "  <thead>\n",
       "    <tr style=\"text-align: right;\">\n",
       "      <th></th>\n",
       "      <th>name_x</th>\n",
       "      <th>name_y</th>\n",
       "      <th>price</th>\n",
       "      <th>copiesSold</th>\n",
       "      <th>publisherClass</th>\n",
       "      <th>aiContent</th>\n",
       "      <th>name</th>\n",
       "      <th>metacritic</th>\n",
       "      <th>steam_achievements</th>\n",
       "      <th>steam_trading_cards</th>\n",
       "      <th>workshop_support</th>\n",
       "      <th>genres</th>\n",
       "      <th>achievements_total</th>\n",
       "      <th>release_date</th>\n",
       "      <th>supported_platforms</th>\n",
       "      <th>reviewScore</th>\n",
       "    </tr>\n",
       "  </thead>\n",
       "  <tbody>\n",
       "    <tr>\n",
       "      <th>69423</th>\n",
       "      <td>NaN</td>\n",
       "      <td>NaN</td>\n",
       "      <td>4.99</td>\n",
       "      <td>0</td>\n",
       "      <td>Hobbyist</td>\n",
       "      <td>NaN</td>\n",
       "      <td>High Noon</td>\n",
       "      <td>NaN</td>\n",
       "      <td>False</td>\n",
       "      <td>False</td>\n",
       "      <td>False</td>\n",
       "      <td>Action, Simulation, Early Access</td>\n",
       "      <td>NaN</td>\n",
       "      <td>Nov 6, 2017</td>\n",
       "      <td>['windows']</td>\n",
       "      <td>Negative</td>\n",
       "    </tr>\n",
       "    <tr>\n",
       "      <th>69424</th>\n",
       "      <td>NaN</td>\n",
       "      <td>NaN</td>\n",
       "      <td>4.99</td>\n",
       "      <td>0</td>\n",
       "      <td>Hobbyist</td>\n",
       "      <td>NaN</td>\n",
       "      <td>Hikaru's Cube</td>\n",
       "      <td>NaN</td>\n",
       "      <td>False</td>\n",
       "      <td>False</td>\n",
       "      <td>False</td>\n",
       "      <td>Action, Casual, Indie, Early Access</td>\n",
       "      <td>NaN</td>\n",
       "      <td>Sep 15, 2017</td>\n",
       "      <td>['windows']</td>\n",
       "      <td>Negative</td>\n",
       "    </tr>\n",
       "    <tr>\n",
       "      <th>69425</th>\n",
       "      <td>NaN</td>\n",
       "      <td>NaN</td>\n",
       "      <td>0.99</td>\n",
       "      <td>0</td>\n",
       "      <td>Hobbyist</td>\n",
       "      <td>NaN</td>\n",
       "      <td>Bees Knees</td>\n",
       "      <td>NaN</td>\n",
       "      <td>True</td>\n",
       "      <td>False</td>\n",
       "      <td>False</td>\n",
       "      <td>Action, Casual, Indie</td>\n",
       "      <td>11</td>\n",
       "      <td>Sep 4, 2017</td>\n",
       "      <td>['windows']</td>\n",
       "      <td>Negative</td>\n",
       "    </tr>\n",
       "    <tr>\n",
       "      <th>69426</th>\n",
       "      <td>NaN</td>\n",
       "      <td>NaN</td>\n",
       "      <td>0.99</td>\n",
       "      <td>0</td>\n",
       "      <td>Hobbyist</td>\n",
       "      <td>NaN</td>\n",
       "      <td>Brain Crush</td>\n",
       "      <td>NaN</td>\n",
       "      <td>False</td>\n",
       "      <td>False</td>\n",
       "      <td>False</td>\n",
       "      <td>Indie</td>\n",
       "      <td>NaN</td>\n",
       "      <td>Aug 18, 2017</td>\n",
       "      <td>['windows']</td>\n",
       "      <td>Negative</td>\n",
       "    </tr>\n",
       "    <tr>\n",
       "      <th>69427</th>\n",
       "      <td>NaN</td>\n",
       "      <td>NaN</td>\n",
       "      <td>4.99</td>\n",
       "      <td>0</td>\n",
       "      <td>Hobbyist</td>\n",
       "      <td>NaN</td>\n",
       "      <td>DUNGEON WALK3－奇妙な狂闘－</td>\n",
       "      <td>NaN</td>\n",
       "      <td>True</td>\n",
       "      <td>False</td>\n",
       "      <td>False</td>\n",
       "      <td>Indie</td>\n",
       "      <td>2.0</td>\n",
       "      <td>Jan 26, 2025</td>\n",
       "      <td>['windows']</td>\n",
       "      <td>Negative</td>\n",
       "    </tr>\n",
       "  </tbody>\n",
       "</table>\n",
       "</div>"
      ],
      "text/plain": [
       "      name_x name_y  price  copiesSold publisherClass  aiContent  \\\n",
       "69423    NaN    NaN   4.99           0       Hobbyist        NaN   \n",
       "69424    NaN    NaN   4.99           0       Hobbyist        NaN   \n",
       "69425    NaN    NaN   0.99           0       Hobbyist        NaN   \n",
       "69426    NaN    NaN   0.99           0       Hobbyist        NaN   \n",
       "69427    NaN    NaN   4.99           0       Hobbyist        NaN   \n",
       "\n",
       "                       name metacritic  steam_achievements  \\\n",
       "69423             High Noon        NaN               False   \n",
       "69424         Hikaru's Cube        NaN               False   \n",
       "69425            Bees Knees        NaN                True   \n",
       "69426           Brain Crush        NaN               False   \n",
       "69427  DUNGEON WALK3－奇妙な狂闘－        NaN                True   \n",
       "\n",
       "       steam_trading_cards  workshop_support  \\\n",
       "69423                False             False   \n",
       "69424                False             False   \n",
       "69425                False             False   \n",
       "69426                False             False   \n",
       "69427                False             False   \n",
       "\n",
       "                                    genres achievements_total  release_date  \\\n",
       "69423     Action, Simulation, Early Access                NaN   Nov 6, 2017   \n",
       "69424  Action, Casual, Indie, Early Access                NaN  Sep 15, 2017   \n",
       "69425                Action, Casual, Indie                 11   Sep 4, 2017   \n",
       "69426                                Indie                NaN  Aug 18, 2017   \n",
       "69427                                Indie                2.0  Jan 26, 2025   \n",
       "\n",
       "      supported_platforms reviewScore  \n",
       "69423         ['windows']    Negative  \n",
       "69424         ['windows']    Negative  \n",
       "69425         ['windows']    Negative  \n",
       "69426         ['windows']    Negative  \n",
       "69427         ['windows']    Negative  "
      ]
     },
     "execution_count": 593,
     "metadata": {},
     "output_type": "execute_result"
    }
   ],
   "source": [
    "df.tail()"
   ]
  },
  {
   "cell_type": "code",
   "execution_count": 594,
   "id": "8d63e0c5",
   "metadata": {},
   "outputs": [
    {
     "data": {
      "text/plain": [
       "name_x                 68908\n",
       "name_y                 68908\n",
       "price                      0\n",
       "copiesSold                 0\n",
       "publisherClass             0\n",
       "aiContent              69428\n",
       "name                       0\n",
       "metacritic             66495\n",
       "steam_achievements         0\n",
       "steam_trading_cards        0\n",
       "workshop_support           0\n",
       "genres                   104\n",
       "achievements_total     32133\n",
       "release_date               2\n",
       "supported_platforms        0\n",
       "reviewScore                0\n",
       "dtype: int64"
      ]
     },
     "execution_count": 594,
     "metadata": {},
     "output_type": "execute_result"
    }
   ],
   "source": [
    "df.isna().sum()"
   ]
  },
  {
   "cell_type": "code",
   "execution_count": 595,
   "id": "52b4642e",
   "metadata": {},
   "outputs": [
    {
     "data": {
      "text/plain": [
       "name_x                 68908\n",
       "name_y                 68908\n",
       "price                      0\n",
       "copiesSold                 0\n",
       "publisherClass             0\n",
       "aiContent              69428\n",
       "name                       0\n",
       "metacritic             66495\n",
       "steam_achievements         0\n",
       "steam_trading_cards        0\n",
       "workshop_support           0\n",
       "genres                   104\n",
       "achievements_total     32133\n",
       "release_date               2\n",
       "supported_platforms        0\n",
       "reviewScore                0\n",
       "dtype: int64"
      ]
     },
     "execution_count": 595,
     "metadata": {},
     "output_type": "execute_result"
    }
   ],
   "source": [
    "df.isnull().sum()"
   ]
  },
  {
   "cell_type": "code",
   "execution_count": 596,
   "id": "28ce2cb5",
   "metadata": {},
   "outputs": [],
   "source": [
    "# df.duplicated().sum()\n",
    "# print(df['reviewScore'].isna().sum())\n",
    "# print(df.shape)\n",
    "# print"
   ]
  },
  {
   "cell_type": "code",
   "execution_count": 597,
   "id": "7125a089",
   "metadata": {},
   "outputs": [
    {
     "name": "stdout",
     "output_type": "stream",
     "text": [
      "\n",
      "=== Detailed Column Analysis ===\n",
      "\n",
      "1. Metacritic Analysis:\n",
      "Missing values: 66495\n",
      "Percentage missing: 95.77547963357723\n",
      "\n",
      "Correlation with reviewScore: nan\n",
      "\n",
      "Metacritic statistics:\n",
      "count    2933.000000\n",
      "mean       73.669622\n",
      "std        10.233509\n",
      "min        20.000000\n",
      "25%        68.000000\n",
      "50%        75.000000\n",
      "75%        81.000000\n",
      "max        97.000000\n",
      "Name: metacritic, dtype: float64\n",
      "\n",
      "2. Achievements Analysis:\n",
      "Missing values: 32133\n",
      "Percentage missing: 46.28247969119087\n",
      "\n",
      "Games with achievements:\n",
      "count    36585.000000\n",
      "mean        40.287003\n",
      "std        241.426147\n",
      "min          1.000000\n",
      "25%         10.000000\n",
      "50%         18.000000\n",
      "75%         33.000000\n",
      "max       5394.000000\n",
      "Name: achievements_total, dtype: float64\n",
      "\n",
      "Correlation with reviewScore: nan\n",
      "\n",
      "3. Genres Analysis:\n",
      "Missing values: 104\n",
      "Percentage missing: 0.1497954715676672\n",
      "\n",
      "Top 10 most common genres:\n",
      "genres\n",
      "Casual, Indie               4139\n",
      "Action, Indie               3470\n",
      "Action, Adventure, Indie    3164\n",
      "Adventure, Indie            2696\n",
      "Adventure, Casual, Indie    2228\n",
      "Action, Casual, Indie       2144\n",
      "Casual                      2144\n",
      "Indie                       1938\n",
      "Action                      1866\n",
      "Casual, Indie, Strategy     1391\n",
      "Name: count, dtype: int64\n",
      "\n",
      "4. Release Date Analysis:\n",
      "Missing values: 2\n",
      "Percentage missing: 0.002880682145532062\n",
      "\n",
      "Release date distribution:\n",
      "release_date\n",
      "Coming soon     636\n",
      "Q1 2025         190\n",
      "Oct 31, 2024    132\n",
      "Dec 5, 2024     131\n",
      "Nov 15, 2024    131\n",
      "Name: count, dtype: int64\n",
      "\n",
      "5. High Missing Value Columns Analysis:\n",
      "\n",
      "aiContent missing values: 69428\n",
      "Percentage missing: 100.0\n",
      "\n",
      "name_x missing values: 68908\n",
      "Percentage missing: 99.25102264216167\n",
      "\n",
      "name_y missing values: 68908\n",
      "Percentage missing: 99.25102264216167\n",
      "\n",
      "6. Duplicate Analysis:\n"
     ]
    },
    {
     "name": "stdout",
     "output_type": "stream",
     "text": [
      "Number of duplicate rows: 0\n",
      "\n",
      "Sample of duplicate rows:\n"
     ]
    },
    {
     "data": {
      "text/html": [
       "<div>\n",
       "<style scoped>\n",
       "    .dataframe tbody tr th:only-of-type {\n",
       "        vertical-align: middle;\n",
       "    }\n",
       "\n",
       "    .dataframe tbody tr th {\n",
       "        vertical-align: top;\n",
       "    }\n",
       "\n",
       "    .dataframe thead th {\n",
       "        text-align: right;\n",
       "    }\n",
       "</style>\n",
       "<table border=\"1\" class=\"dataframe\">\n",
       "  <thead>\n",
       "    <tr style=\"text-align: right;\">\n",
       "      <th></th>\n",
       "      <th>name_x</th>\n",
       "      <th>name_y</th>\n",
       "      <th>price</th>\n",
       "      <th>copiesSold</th>\n",
       "      <th>publisherClass</th>\n",
       "      <th>aiContent</th>\n",
       "      <th>name</th>\n",
       "      <th>metacritic</th>\n",
       "      <th>steam_achievements</th>\n",
       "      <th>steam_trading_cards</th>\n",
       "      <th>workshop_support</th>\n",
       "      <th>genres</th>\n",
       "      <th>achievements_total</th>\n",
       "      <th>release_date</th>\n",
       "      <th>supported_platforms</th>\n",
       "      <th>reviewScore</th>\n",
       "    </tr>\n",
       "  </thead>\n",
       "  <tbody>\n",
       "  </tbody>\n",
       "</table>\n",
       "</div>"
      ],
      "text/plain": [
       "Empty DataFrame\n",
       "Columns: [name_x, name_y, price, copiesSold, publisherClass, aiContent, name, metacritic, steam_achievements, steam_trading_cards, workshop_support, genres, achievements_total, release_date, supported_platforms, reviewScore]\n",
       "Index: []"
      ]
     },
     "execution_count": 597,
     "metadata": {},
     "output_type": "execute_result"
    }
   ],
   "source": [
    "print(\"\\n=== Detailed Column Analysis ===\")\n",
    "\n",
    "print(\"\\n1. Metacritic Analysis:\")\n",
    "print(\"Missing values:\", df['metacritic'].isna().sum())\n",
    "print(\"Percentage missing:\", (df['metacritic'].isna().sum() / len(df)) * 100)\n",
    "\n",
    "df['metacritic'] = pd.to_numeric(df['metacritic'], errors='coerce')\n",
    "if 'reviewScore' in df.columns:\n",
    "    df['reviewScore'] = pd.to_numeric(df['reviewScore'], errors='coerce')\n",
    "    \n",
    "    print(\"\\nCorrelation with reviewScore:\", df['metacritic'].corr(df['reviewScore']))\n",
    "\n",
    "print(\"\\nMetacritic statistics:\")\n",
    "print(df['metacritic'].describe())\n",
    "\n",
    "print(\"\\n2. Achievements Analysis:\")\n",
    "\n",
    "df['achievements_total'] = pd.to_numeric(df['achievements_total'], errors='coerce')\n",
    "\n",
    "print(\"Missing values:\", df['achievements_total'].isna().sum())\n",
    "print(\"Percentage missing:\", (df['achievements_total'].isna().sum() / len(df)) * 100)\n",
    "\n",
    "print(\"\\nGames with achievements:\")\n",
    "print(df[df['achievements_total'] > 0]['achievements_total'].describe())\n",
    "\n",
    "if 'reviewScore' in df.columns:\n",
    "    print(\"\\nCorrelation with reviewScore:\", df['achievements_total'].corr(df['reviewScore']))\n",
    "\n",
    "print(\"\\n3. Genres Analysis:\")\n",
    "print(\"Missing values:\", df['genres'].isna().sum())\n",
    "print(\"Percentage missing:\", (df['genres'].isna().sum() / len(df)) * 100)\n",
    "print(\"\\nTop 10 most common genres:\")\n",
    "print(df['genres'].value_counts().head(10))\n",
    "\n",
    "print(\"\\n4. Release Date Analysis:\")\n",
    "print(\"Missing values:\", df['release_date'].isna().sum())\n",
    "print(\"Percentage missing:\", (df['release_date'].isna().sum() / len(df)) * 100)\n",
    "print(\"\\nRelease date distribution:\")\n",
    "print(df['release_date'].value_counts().head())\n",
    "\n",
    "print(\"\\n5. High Missing Value Columns Analysis:\")\n",
    "columns_to_check = ['aiContent','name_x', 'name_y']\n",
    "for col in columns_to_check:\n",
    "    print(f\"\\n{col} missing values:\", df[col].isna().sum())\n",
    "    print(f\"Percentage missing:\", (df[col].isna().sum() / len(df)) * 100)\n",
    "\n",
    "print(\"\\n6. Duplicate Analysis:\")\n",
    "print(\"Number of duplicate rows:\", df.duplicated().sum())\n",
    "print(\"\\nSample of duplicate rows:\")\n",
    "df[df.duplicated()].head()\n"
   ]
  },
  {
   "cell_type": "code",
   "execution_count": 598,
   "id": "40d63e94",
   "metadata": {},
   "outputs": [
    {
     "name": "stdout",
     "output_type": "stream",
     "text": [
      "0       NaN\n",
      "1       NaN\n",
      "2       NaN\n",
      "3       NaN\n",
      "4       NaN\n",
      "         ..\n",
      "69423   NaN\n",
      "69424   NaN\n",
      "69425   NaN\n",
      "69426   NaN\n",
      "69427   NaN\n",
      "Name: reviewScore, Length: 69428, dtype: float64\n"
     ]
    }
   ],
   "source": [
    "print(df['reviewScore'])"
   ]
  },
  {
   "cell_type": "markdown",
   "id": "e5e61d41",
   "metadata": {},
   "source": [
    "# Preprocessing"
   ]
  },
  {
   "cell_type": "markdown",
   "id": "93239e42",
   "metadata": {},
   "source": [
    "### Drop Operations"
   ]
  },
  {
   "cell_type": "code",
   "execution_count": 599,
   "id": "38c640a9",
   "metadata": {},
   "outputs": [
    {
     "name": "stdout",
     "output_type": "stream",
     "text": [
      "0       NaN\n",
      "1       NaN\n",
      "2       NaN\n",
      "3       NaN\n",
      "4       NaN\n",
      "         ..\n",
      "69423   NaN\n",
      "69424   NaN\n",
      "69425   NaN\n",
      "69426   NaN\n",
      "69427   NaN\n",
      "Name: reviewScore, Length: 69428, dtype: float64\n"
     ]
    }
   ],
   "source": [
    "df = df.drop(columns=['name_x', 'name_y', 'name', 'aiContent','metacritic'], errors='ignore')\n",
    "print(df['reviewScore'])"
   ]
  },
  {
   "cell_type": "markdown",
   "id": "8912d547",
   "metadata": {},
   "source": [
    "### Fill Rows"
   ]
  },
  {
   "cell_type": "code",
   "execution_count": 600,
   "id": "1555335e",
   "metadata": {},
   "outputs": [],
   "source": [
    "df['achievements_total'] = df['achievements_total'].fillna(0)"
   ]
  },
  {
   "cell_type": "markdown",
   "id": "77a009d0",
   "metadata": {},
   "source": [
    "### Feature Extraction"
   ]
  },
  {
   "cell_type": "code",
   "execution_count": 601,
   "id": "38e1fc20",
   "metadata": {},
   "outputs": [
    {
     "name": "stdout",
     "output_type": "stream",
     "text": [
      "Missing values in 'year': 0\n",
      "Missing values in 'day': 0\n"
     ]
    },
    {
     "data": {
      "text/html": [
       "<div>\n",
       "<style scoped>\n",
       "    .dataframe tbody tr th:only-of-type {\n",
       "        vertical-align: middle;\n",
       "    }\n",
       "\n",
       "    .dataframe tbody tr th {\n",
       "        vertical-align: top;\n",
       "    }\n",
       "\n",
       "    .dataframe thead th {\n",
       "        text-align: right;\n",
       "    }\n",
       "</style>\n",
       "<table border=\"1\" class=\"dataframe\">\n",
       "  <thead>\n",
       "    <tr style=\"text-align: right;\">\n",
       "      <th></th>\n",
       "      <th>price</th>\n",
       "      <th>copiesSold</th>\n",
       "      <th>publisherClass</th>\n",
       "      <th>steam_achievements</th>\n",
       "      <th>steam_trading_cards</th>\n",
       "      <th>workshop_support</th>\n",
       "      <th>achievements_total</th>\n",
       "      <th>supported_platforms</th>\n",
       "      <th>reviewScore</th>\n",
       "      <th>year</th>\n",
       "      <th>...</th>\n",
       "      <th>Nudity</th>\n",
       "      <th>Audio Production</th>\n",
       "      <th>Game Development</th>\n",
       "      <th>Early Access</th>\n",
       "      <th>Accounting</th>\n",
       "      <th>Video Production</th>\n",
       "      <th>Education</th>\n",
       "      <th>Animation &amp; Modeling</th>\n",
       "      <th>Photo Editing</th>\n",
       "      <th>Design &amp; Illustration</th>\n",
       "    </tr>\n",
       "  </thead>\n",
       "  <tbody>\n",
       "    <tr>\n",
       "      <th>0</th>\n",
       "      <td>0.0</td>\n",
       "      <td>302158048</td>\n",
       "      <td>AAA</td>\n",
       "      <td>False</td>\n",
       "      <td>True</td>\n",
       "      <td>True</td>\n",
       "      <td>1.0</td>\n",
       "      <td>['windows', 'linux']</td>\n",
       "      <td>NaN</td>\n",
       "      <td>2012.0</td>\n",
       "      <td>...</td>\n",
       "      <td>0</td>\n",
       "      <td>0</td>\n",
       "      <td>0</td>\n",
       "      <td>0</td>\n",
       "      <td>0</td>\n",
       "      <td>0</td>\n",
       "      <td>0</td>\n",
       "      <td>0</td>\n",
       "      <td>0</td>\n",
       "      <td>0</td>\n",
       "    </tr>\n",
       "    <tr>\n",
       "      <th>1</th>\n",
       "      <td>0.0</td>\n",
       "      <td>212896574</td>\n",
       "      <td>AAA</td>\n",
       "      <td>False</td>\n",
       "      <td>True</td>\n",
       "      <td>True</td>\n",
       "      <td>0.0</td>\n",
       "      <td>['windows', 'mac', 'linux']</td>\n",
       "      <td>NaN</td>\n",
       "      <td>2013.0</td>\n",
       "      <td>...</td>\n",
       "      <td>0</td>\n",
       "      <td>0</td>\n",
       "      <td>0</td>\n",
       "      <td>0</td>\n",
       "      <td>0</td>\n",
       "      <td>0</td>\n",
       "      <td>0</td>\n",
       "      <td>0</td>\n",
       "      <td>0</td>\n",
       "      <td>0</td>\n",
       "    </tr>\n",
       "    <tr>\n",
       "      <th>2</th>\n",
       "      <td>0.0</td>\n",
       "      <td>161971233</td>\n",
       "      <td>AAA</td>\n",
       "      <td>False</td>\n",
       "      <td>False</td>\n",
       "      <td>False</td>\n",
       "      <td>37.0</td>\n",
       "      <td>['windows']</td>\n",
       "      <td>NaN</td>\n",
       "      <td>2017.0</td>\n",
       "      <td>...</td>\n",
       "      <td>0</td>\n",
       "      <td>0</td>\n",
       "      <td>0</td>\n",
       "      <td>0</td>\n",
       "      <td>0</td>\n",
       "      <td>0</td>\n",
       "      <td>0</td>\n",
       "      <td>0</td>\n",
       "      <td>0</td>\n",
       "      <td>0</td>\n",
       "    </tr>\n",
       "    <tr>\n",
       "      <th>3</th>\n",
       "      <td>0.0</td>\n",
       "      <td>99060457</td>\n",
       "      <td>AAA</td>\n",
       "      <td>True</td>\n",
       "      <td>True</td>\n",
       "      <td>True</td>\n",
       "      <td>520.0</td>\n",
       "      <td>['windows', 'linux']</td>\n",
       "      <td>NaN</td>\n",
       "      <td>2007.0</td>\n",
       "      <td>...</td>\n",
       "      <td>0</td>\n",
       "      <td>0</td>\n",
       "      <td>0</td>\n",
       "      <td>0</td>\n",
       "      <td>0</td>\n",
       "      <td>0</td>\n",
       "      <td>0</td>\n",
       "      <td>0</td>\n",
       "      <td>0</td>\n",
       "      <td>0</td>\n",
       "    </tr>\n",
       "    <tr>\n",
       "      <th>4</th>\n",
       "      <td>0.0</td>\n",
       "      <td>67554185</td>\n",
       "      <td>AAA</td>\n",
       "      <td>True</td>\n",
       "      <td>True</td>\n",
       "      <td>False</td>\n",
       "      <td>12.0</td>\n",
       "      <td>['windows']</td>\n",
       "      <td>NaN</td>\n",
       "      <td>2020.0</td>\n",
       "      <td>...</td>\n",
       "      <td>0</td>\n",
       "      <td>0</td>\n",
       "      <td>0</td>\n",
       "      <td>0</td>\n",
       "      <td>0</td>\n",
       "      <td>0</td>\n",
       "      <td>0</td>\n",
       "      <td>0</td>\n",
       "      <td>0</td>\n",
       "      <td>0</td>\n",
       "    </tr>\n",
       "  </tbody>\n",
       "</table>\n",
       "<p>5 rows × 59 columns</p>\n",
       "</div>"
      ],
      "text/plain": [
       "   price  copiesSold publisherClass  steam_achievements  steam_trading_cards  \\\n",
       "0    0.0   302158048            AAA               False                 True   \n",
       "1    0.0   212896574            AAA               False                 True   \n",
       "2    0.0   161971233            AAA               False                False   \n",
       "3    0.0    99060457            AAA                True                 True   \n",
       "4    0.0    67554185            AAA                True                 True   \n",
       "\n",
       "   workshop_support  achievements_total          supported_platforms  \\\n",
       "0              True                 1.0         ['windows', 'linux']   \n",
       "1              True                 0.0  ['windows', 'mac', 'linux']   \n",
       "2             False                37.0                  ['windows']   \n",
       "3              True               520.0         ['windows', 'linux']   \n",
       "4             False                12.0                  ['windows']   \n",
       "\n",
       "   reviewScore    year  ...   Nudity   Audio Production   Game Development  \\\n",
       "0          NaN  2012.0  ...        0                  0                  0   \n",
       "1          NaN  2013.0  ...        0                  0                  0   \n",
       "2          NaN  2017.0  ...        0                  0                  0   \n",
       "3          NaN  2007.0  ...        0                  0                  0   \n",
       "4          NaN  2020.0  ...        0                  0                  0   \n",
       "\n",
       "   Early Access   Accounting   Video Production  Education  \\\n",
       "0             0            0                  0          0   \n",
       "1             0            0                  0          0   \n",
       "2             0            0                  0          0   \n",
       "3             0            0                  0          0   \n",
       "4             0            0                  0          0   \n",
       "\n",
       "   Animation & Modeling   Photo Editing  Design & Illustration  \n",
       "0                     0               0                      0  \n",
       "1                     0               0                      0  \n",
       "2                     0               0                      0  \n",
       "3                     0               0                      0  \n",
       "4                     0               0                      0  \n",
       "\n",
       "[5 rows x 59 columns]"
      ]
     },
     "execution_count": 601,
     "metadata": {},
     "output_type": "execute_result"
    }
   ],
   "source": [
    "df['release_date'] = pd.to_datetime(df['release_date'], errors='coerce')\n",
    "\n",
    "df['year'] = df['release_date'].dt.year  \n",
    "df['month'] = df['release_date'].dt.month  \n",
    "df['day'] = df['release_date'].dt.day \n",
    "\n",
    "df['year'] = df['year'].fillna(df['year'].mode()[0])\n",
    "df['day'] = df['day'].fillna(df['day'].mode()[0])\n",
    "df['month'] = df['month'].fillna(df['month'].mode()[0])\n",
    "\n",
    "\n",
    "print(f\"Missing values in 'year': {df['year'].isnull().sum()}\")\n",
    "print(f\"Missing values in 'day': {df['day'].isnull().sum()}\")\n",
    "\n",
    "\n",
    "df = df.drop('release_date', axis=1)\n",
    "\n",
    "\n",
    "\n",
    "genres = df['genres'].str.split(',', expand=True)\n",
    "genre_columns = []\n",
    "\n",
    "unique_genres = pd.unique(genres.values.ravel())\n",
    "\n",
    "for genre in unique_genres:\n",
    "    df[genre] = genres.apply(lambda row: 1 if genre in row.values else 0, axis=1)\n",
    "    genre_columns.append(genre)\n",
    "\n",
    "df = df.drop('genres', axis=1)\n",
    "\n",
    "df.head()"
   ]
  },
  {
   "cell_type": "markdown",
   "id": "eb03c119",
   "metadata": {},
   "source": [
    "## Encoding"
   ]
  },
  {
   "cell_type": "code",
   "execution_count": 602,
   "id": "9ca8907f",
   "metadata": {},
   "outputs": [],
   "source": [
    "\n",
    "# 1. Encode publisherClass\n",
    "label_encoder_pub = LabelEncoder()\n",
    "df['publisher_class_encoded'] = label_encoder_pub.fit_transform(df['publisherClass'])\n",
    "df.drop(columns='publisherClass', inplace=True)\n",
    "\n",
    "# 2. Convert booleans to int\n",
    "bool_cols = ['steam_achievements', 'steam_trading_cards', 'workshop_support']\n",
    "df[bool_cols] = df[bool_cols].astype(int)\n",
    "\n",
    "# 3. Handle supported_platforms safely:\n",
    "# Assuming 'supported_platforms' is a string of comma-separated platforms, convert to list\n",
    "df['supported_platforms'] = df['supported_platforms'].fillna('').apply(lambda x: x.split(',') if x else [])\n",
    "mlb = MultiLabelBinarizer()\n",
    "platforms_encoded = pd.DataFrame(mlb.fit_transform(df['supported_platforms']), columns=mlb.classes_)\n",
    "df = pd.concat([df, platforms_encoded], axis=1)\n",
    "df.drop(columns='supported_platforms', inplace=True)\n",
    "\n",
    "le = LabelEncoder()\n",
    "\n",
    "# Encode reviewScore to numeric labels\n",
    "df['reviewScore_label'] = le.fit_transform(df['reviewScore'])\n",
    "# Optional: show the mapping\n",
    "label_mapping = dict(zip(le.classes_, le.transform(le.classes_)))\n",
    "\n",
    "# 5. Prepare features and target\n",
    "X = df.drop(columns=['reviewScore'])\n",
    "y = df['reviewScore_label']\n",
    "\n",
    "\n"
   ]
  },
  {
   "cell_type": "code",
   "execution_count": 603,
   "id": "ce5cb421",
   "metadata": {},
   "outputs": [
    {
     "name": "stdout",
     "output_type": "stream",
     "text": [
      "0        0\n",
      "1        0\n",
      "2        0\n",
      "3        0\n",
      "4        0\n",
      "        ..\n",
      "69423    0\n",
      "69424    0\n",
      "69425    0\n",
      "69426    0\n",
      "69427    0\n",
      "Name: reviewScore_label, Length: 69428, dtype: int64\n"
     ]
    }
   ],
   "source": [
    "print(y)"
   ]
  },
  {
   "cell_type": "markdown",
   "id": "814979f0",
   "metadata": {},
   "source": [
    "## Scaling"
   ]
  },
  {
   "cell_type": "code",
   "execution_count": 604,
   "id": "276ae5bf",
   "metadata": {},
   "outputs": [],
   "source": [
    "\n",
    "numeric_cols = ['price', 'copiesSold', 'achievements_total']\n",
    "scaler = StandardScaler()\n",
    "df[numeric_cols] = scaler.fit_transform(df[numeric_cols])\n"
   ]
  },
  {
   "cell_type": "markdown",
   "id": "b2d5696f",
   "metadata": {},
   "source": [
    "## Feature and Target Identification"
   ]
  },
  {
   "cell_type": "markdown",
   "id": "8cf760d5",
   "metadata": {},
   "source": [
    "## Data Splitting"
   ]
  },
  {
   "cell_type": "code",
   "execution_count": 605,
   "id": "32bd0808",
   "metadata": {},
   "outputs": [
    {
     "name": "stdout",
     "output_type": "stream",
     "text": [
      "(0, 2037)\n",
      "(0,)\n"
     ]
    }
   ],
   "source": [
    "X_train, X_test, y_train, y_test = train_test_split(X, y, test_size=0.2, random_state=42)\n",
    "print(X_train_clean.shape)\n",
    "print(y_train_clean.shape)\n"
   ]
  },
  {
   "cell_type": "markdown",
   "id": "479cb5f7",
   "metadata": {},
   "source": [
    "# Feature Engineering "
   ]
  },
  {
   "cell_type": "markdown",
   "id": "85ed48c8",
   "metadata": {},
   "source": [
    "#### SMOTE"
   ]
  },
  {
   "cell_type": "code",
   "execution_count": 606,
   "id": "d2159543",
   "metadata": {},
   "outputs": [
    {
     "ename": "ValueError",
     "evalue": "Found array with 0 sample(s) (shape=(0, 2037)) while a minimum of 1 is required by SMOTE.",
     "output_type": "error",
     "traceback": [
      "\u001b[31m---------------------------------------------------------------------------\u001b[39m",
      "\u001b[31mValueError\u001b[39m                                Traceback (most recent call last)",
      "\u001b[36mCell\u001b[39m\u001b[36m \u001b[39m\u001b[32mIn[606]\u001b[39m\u001b[32m, line 7\u001b[39m\n\u001b[32m      4\u001b[39m smote = SMOTE(random_state=\u001b[32m42\u001b[39m)\n\u001b[32m      6\u001b[39m \u001b[38;5;66;03m# Fit and resample only the training set\u001b[39;00m\n\u001b[32m----> \u001b[39m\u001b[32m7\u001b[39m X_train_smote, y_train_smote = \u001b[43msmote\u001b[49m\u001b[43m.\u001b[49m\u001b[43mfit_resample\u001b[49m\u001b[43m(\u001b[49m\u001b[43mX_train_clean\u001b[49m\u001b[43m,\u001b[49m\u001b[43m \u001b[49m\u001b[43my_train_clean\u001b[49m\u001b[43m)\u001b[49m\n\u001b[32m      9\u001b[39m \u001b[38;5;66;03m# Check new class distribution\u001b[39;00m\n\u001b[32m     10\u001b[39m \u001b[38;5;28mprint\u001b[39m(\u001b[33m\"\u001b[39m\u001b[33mBefore SMOTE:\u001b[39m\u001b[33m\"\u001b[39m, Counter(y_train))\n",
      "\u001b[36mFile \u001b[39m\u001b[32mc:\\Users\\MalakAmr740\\AppData\\Local\\Programs\\Python\\Python313\\Lib\\site-packages\\imblearn\\base.py:202\u001b[39m, in \u001b[36mBaseSampler.fit_resample\u001b[39m\u001b[34m(self, X, y, **params)\u001b[39m\n\u001b[32m    181\u001b[39m \u001b[38;5;28;01mdef\u001b[39;00m\u001b[38;5;250m \u001b[39m\u001b[34mfit_resample\u001b[39m(\u001b[38;5;28mself\u001b[39m, X, y, **params):\n\u001b[32m    182\u001b[39m \u001b[38;5;250m    \u001b[39m\u001b[33;03m\"\"\"Resample the dataset.\u001b[39;00m\n\u001b[32m    183\u001b[39m \n\u001b[32m    184\u001b[39m \u001b[33;03m    Parameters\u001b[39;00m\n\u001b[32m   (...)\u001b[39m\u001b[32m    200\u001b[39m \u001b[33;03m        The corresponding label of `X_resampled`.\u001b[39;00m\n\u001b[32m    201\u001b[39m \u001b[33;03m    \"\"\"\u001b[39;00m\n\u001b[32m--> \u001b[39m\u001b[32m202\u001b[39m     \u001b[38;5;28;01mreturn\u001b[39;00m \u001b[38;5;28;43msuper\u001b[39;49m\u001b[43m(\u001b[49m\u001b[43m)\u001b[49m\u001b[43m.\u001b[49m\u001b[43mfit_resample\u001b[49m\u001b[43m(\u001b[49m\u001b[43mX\u001b[49m\u001b[43m,\u001b[49m\u001b[43m \u001b[49m\u001b[43my\u001b[49m\u001b[43m,\u001b[49m\u001b[43m \u001b[49m\u001b[43m*\u001b[49m\u001b[43m*\u001b[49m\u001b[43mparams\u001b[49m\u001b[43m)\u001b[49m\n",
      "\u001b[36mFile \u001b[39m\u001b[32mc:\\Users\\MalakAmr740\\AppData\\Local\\Programs\\Python\\Python313\\Lib\\site-packages\\sklearn\\base.py:1389\u001b[39m, in \u001b[36m_fit_context.<locals>.decorator.<locals>.wrapper\u001b[39m\u001b[34m(estimator, *args, **kwargs)\u001b[39m\n\u001b[32m   1382\u001b[39m     estimator._validate_params()\n\u001b[32m   1384\u001b[39m \u001b[38;5;28;01mwith\u001b[39;00m config_context(\n\u001b[32m   1385\u001b[39m     skip_parameter_validation=(\n\u001b[32m   1386\u001b[39m         prefer_skip_nested_validation \u001b[38;5;129;01mor\u001b[39;00m global_skip_validation\n\u001b[32m   1387\u001b[39m     )\n\u001b[32m   1388\u001b[39m ):\n\u001b[32m-> \u001b[39m\u001b[32m1389\u001b[39m     \u001b[38;5;28;01mreturn\u001b[39;00m \u001b[43mfit_method\u001b[49m\u001b[43m(\u001b[49m\u001b[43mestimator\u001b[49m\u001b[43m,\u001b[49m\u001b[43m \u001b[49m\u001b[43m*\u001b[49m\u001b[43margs\u001b[49m\u001b[43m,\u001b[49m\u001b[43m \u001b[49m\u001b[43m*\u001b[49m\u001b[43m*\u001b[49m\u001b[43mkwargs\u001b[49m\u001b[43m)\u001b[49m\n",
      "\u001b[36mFile \u001b[39m\u001b[32mc:\\Users\\MalakAmr740\\AppData\\Local\\Programs\\Python\\Python313\\Lib\\site-packages\\imblearn\\base.py:99\u001b[39m, in \u001b[36mSamplerMixin.fit_resample\u001b[39m\u001b[34m(self, X, y, **params)\u001b[39m\n\u001b[32m     97\u001b[39m check_classification_targets(y)\n\u001b[32m     98\u001b[39m arrays_transformer = ArraysTransformer(X, y)\n\u001b[32m---> \u001b[39m\u001b[32m99\u001b[39m X, y, binarize_y = \u001b[38;5;28;43mself\u001b[39;49m\u001b[43m.\u001b[49m\u001b[43m_check_X_y\u001b[49m\u001b[43m(\u001b[49m\u001b[43mX\u001b[49m\u001b[43m,\u001b[49m\u001b[43m \u001b[49m\u001b[43my\u001b[49m\u001b[43m)\u001b[49m\n\u001b[32m    101\u001b[39m \u001b[38;5;28mself\u001b[39m.sampling_strategy_ = check_sampling_strategy(\n\u001b[32m    102\u001b[39m     \u001b[38;5;28mself\u001b[39m.sampling_strategy, y, \u001b[38;5;28mself\u001b[39m._sampling_type\n\u001b[32m    103\u001b[39m )\n\u001b[32m    105\u001b[39m output = \u001b[38;5;28mself\u001b[39m._fit_resample(X, y, **params)\n",
      "\u001b[36mFile \u001b[39m\u001b[32mc:\\Users\\MalakAmr740\\AppData\\Local\\Programs\\Python\\Python313\\Lib\\site-packages\\imblearn\\base.py:157\u001b[39m, in \u001b[36mBaseSampler._check_X_y\u001b[39m\u001b[34m(self, X, y, accept_sparse)\u001b[39m\n\u001b[32m    155\u001b[39m     accept_sparse = [\u001b[33m\"\u001b[39m\u001b[33mcsr\u001b[39m\u001b[33m\"\u001b[39m, \u001b[33m\"\u001b[39m\u001b[33mcsc\u001b[39m\u001b[33m\"\u001b[39m]\n\u001b[32m    156\u001b[39m y, binarize_y = check_target_type(y, indicate_one_vs_all=\u001b[38;5;28;01mTrue\u001b[39;00m)\n\u001b[32m--> \u001b[39m\u001b[32m157\u001b[39m X, y = \u001b[43mvalidate_data\u001b[49m\u001b[43m(\u001b[49m\u001b[38;5;28;43mself\u001b[39;49m\u001b[43m,\u001b[49m\u001b[43m \u001b[49m\u001b[43mX\u001b[49m\u001b[43m=\u001b[49m\u001b[43mX\u001b[49m\u001b[43m,\u001b[49m\u001b[43m \u001b[49m\u001b[43my\u001b[49m\u001b[43m=\u001b[49m\u001b[43my\u001b[49m\u001b[43m,\u001b[49m\u001b[43m \u001b[49m\u001b[43mreset\u001b[49m\u001b[43m=\u001b[49m\u001b[38;5;28;43;01mTrue\u001b[39;49;00m\u001b[43m,\u001b[49m\u001b[43m \u001b[49m\u001b[43maccept_sparse\u001b[49m\u001b[43m=\u001b[49m\u001b[43maccept_sparse\u001b[49m\u001b[43m)\u001b[49m\n\u001b[32m    158\u001b[39m \u001b[38;5;28;01mreturn\u001b[39;00m X, y, binarize_y\n",
      "\u001b[36mFile \u001b[39m\u001b[32mc:\\Users\\MalakAmr740\\AppData\\Local\\Programs\\Python\\Python313\\Lib\\site-packages\\sklearn\\utils\\validation.py:2961\u001b[39m, in \u001b[36mvalidate_data\u001b[39m\u001b[34m(_estimator, X, y, reset, validate_separately, skip_check_array, **check_params)\u001b[39m\n\u001b[32m   2959\u001b[39m         y = check_array(y, input_name=\u001b[33m\"\u001b[39m\u001b[33my\u001b[39m\u001b[33m\"\u001b[39m, **check_y_params)\n\u001b[32m   2960\u001b[39m     \u001b[38;5;28;01melse\u001b[39;00m:\n\u001b[32m-> \u001b[39m\u001b[32m2961\u001b[39m         X, y = \u001b[43mcheck_X_y\u001b[49m\u001b[43m(\u001b[49m\u001b[43mX\u001b[49m\u001b[43m,\u001b[49m\u001b[43m \u001b[49m\u001b[43my\u001b[49m\u001b[43m,\u001b[49m\u001b[43m \u001b[49m\u001b[43m*\u001b[49m\u001b[43m*\u001b[49m\u001b[43mcheck_params\u001b[49m\u001b[43m)\u001b[49m\n\u001b[32m   2962\u001b[39m     out = X, y\n\u001b[32m   2964\u001b[39m \u001b[38;5;28;01mif\u001b[39;00m \u001b[38;5;129;01mnot\u001b[39;00m no_val_X \u001b[38;5;129;01mand\u001b[39;00m check_params.get(\u001b[33m\"\u001b[39m\u001b[33mensure_2d\u001b[39m\u001b[33m\"\u001b[39m, \u001b[38;5;28;01mTrue\u001b[39;00m):\n",
      "\u001b[36mFile \u001b[39m\u001b[32mc:\\Users\\MalakAmr740\\AppData\\Local\\Programs\\Python\\Python313\\Lib\\site-packages\\sklearn\\utils\\validation.py:1370\u001b[39m, in \u001b[36mcheck_X_y\u001b[39m\u001b[34m(X, y, accept_sparse, accept_large_sparse, dtype, order, copy, force_writeable, force_all_finite, ensure_all_finite, ensure_2d, allow_nd, multi_output, ensure_min_samples, ensure_min_features, y_numeric, estimator)\u001b[39m\n\u001b[32m   1364\u001b[39m     \u001b[38;5;28;01mraise\u001b[39;00m \u001b[38;5;167;01mValueError\u001b[39;00m(\n\u001b[32m   1365\u001b[39m         \u001b[33mf\u001b[39m\u001b[33m\"\u001b[39m\u001b[38;5;132;01m{\u001b[39;00mestimator_name\u001b[38;5;132;01m}\u001b[39;00m\u001b[33m requires y to be passed, but the target y is None\u001b[39m\u001b[33m\"\u001b[39m\n\u001b[32m   1366\u001b[39m     )\n\u001b[32m   1368\u001b[39m ensure_all_finite = _deprecate_force_all_finite(force_all_finite, ensure_all_finite)\n\u001b[32m-> \u001b[39m\u001b[32m1370\u001b[39m X = \u001b[43mcheck_array\u001b[49m\u001b[43m(\u001b[49m\n\u001b[32m   1371\u001b[39m \u001b[43m    \u001b[49m\u001b[43mX\u001b[49m\u001b[43m,\u001b[49m\n\u001b[32m   1372\u001b[39m \u001b[43m    \u001b[49m\u001b[43maccept_sparse\u001b[49m\u001b[43m=\u001b[49m\u001b[43maccept_sparse\u001b[49m\u001b[43m,\u001b[49m\n\u001b[32m   1373\u001b[39m \u001b[43m    \u001b[49m\u001b[43maccept_large_sparse\u001b[49m\u001b[43m=\u001b[49m\u001b[43maccept_large_sparse\u001b[49m\u001b[43m,\u001b[49m\n\u001b[32m   1374\u001b[39m \u001b[43m    \u001b[49m\u001b[43mdtype\u001b[49m\u001b[43m=\u001b[49m\u001b[43mdtype\u001b[49m\u001b[43m,\u001b[49m\n\u001b[32m   1375\u001b[39m \u001b[43m    \u001b[49m\u001b[43morder\u001b[49m\u001b[43m=\u001b[49m\u001b[43morder\u001b[49m\u001b[43m,\u001b[49m\n\u001b[32m   1376\u001b[39m \u001b[43m    \u001b[49m\u001b[43mcopy\u001b[49m\u001b[43m=\u001b[49m\u001b[43mcopy\u001b[49m\u001b[43m,\u001b[49m\n\u001b[32m   1377\u001b[39m \u001b[43m    \u001b[49m\u001b[43mforce_writeable\u001b[49m\u001b[43m=\u001b[49m\u001b[43mforce_writeable\u001b[49m\u001b[43m,\u001b[49m\n\u001b[32m   1378\u001b[39m \u001b[43m    \u001b[49m\u001b[43mensure_all_finite\u001b[49m\u001b[43m=\u001b[49m\u001b[43mensure_all_finite\u001b[49m\u001b[43m,\u001b[49m\n\u001b[32m   1379\u001b[39m \u001b[43m    \u001b[49m\u001b[43mensure_2d\u001b[49m\u001b[43m=\u001b[49m\u001b[43mensure_2d\u001b[49m\u001b[43m,\u001b[49m\n\u001b[32m   1380\u001b[39m \u001b[43m    \u001b[49m\u001b[43mallow_nd\u001b[49m\u001b[43m=\u001b[49m\u001b[43mallow_nd\u001b[49m\u001b[43m,\u001b[49m\n\u001b[32m   1381\u001b[39m \u001b[43m    \u001b[49m\u001b[43mensure_min_samples\u001b[49m\u001b[43m=\u001b[49m\u001b[43mensure_min_samples\u001b[49m\u001b[43m,\u001b[49m\n\u001b[32m   1382\u001b[39m \u001b[43m    \u001b[49m\u001b[43mensure_min_features\u001b[49m\u001b[43m=\u001b[49m\u001b[43mensure_min_features\u001b[49m\u001b[43m,\u001b[49m\n\u001b[32m   1383\u001b[39m \u001b[43m    \u001b[49m\u001b[43mestimator\u001b[49m\u001b[43m=\u001b[49m\u001b[43mestimator\u001b[49m\u001b[43m,\u001b[49m\n\u001b[32m   1384\u001b[39m \u001b[43m    \u001b[49m\u001b[43minput_name\u001b[49m\u001b[43m=\u001b[49m\u001b[33;43m\"\u001b[39;49m\u001b[33;43mX\u001b[39;49m\u001b[33;43m\"\u001b[39;49m\u001b[43m,\u001b[49m\n\u001b[32m   1385\u001b[39m \u001b[43m\u001b[49m\u001b[43m)\u001b[49m\n\u001b[32m   1387\u001b[39m y = _check_y(y, multi_output=multi_output, y_numeric=y_numeric, estimator=estimator)\n\u001b[32m   1389\u001b[39m check_consistent_length(X, y)\n",
      "\u001b[36mFile \u001b[39m\u001b[32mc:\\Users\\MalakAmr740\\AppData\\Local\\Programs\\Python\\Python313\\Lib\\site-packages\\sklearn\\utils\\validation.py:1130\u001b[39m, in \u001b[36mcheck_array\u001b[39m\u001b[34m(array, accept_sparse, accept_large_sparse, dtype, order, copy, force_writeable, force_all_finite, ensure_all_finite, ensure_non_negative, ensure_2d, allow_nd, ensure_min_samples, ensure_min_features, estimator, input_name)\u001b[39m\n\u001b[32m   1128\u001b[39m     n_samples = _num_samples(array)\n\u001b[32m   1129\u001b[39m     \u001b[38;5;28;01mif\u001b[39;00m n_samples < ensure_min_samples:\n\u001b[32m-> \u001b[39m\u001b[32m1130\u001b[39m         \u001b[38;5;28;01mraise\u001b[39;00m \u001b[38;5;167;01mValueError\u001b[39;00m(\n\u001b[32m   1131\u001b[39m             \u001b[33m\"\u001b[39m\u001b[33mFound array with \u001b[39m\u001b[38;5;132;01m%d\u001b[39;00m\u001b[33m sample(s) (shape=\u001b[39m\u001b[38;5;132;01m%s\u001b[39;00m\u001b[33m) while a\u001b[39m\u001b[33m\"\u001b[39m\n\u001b[32m   1132\u001b[39m             \u001b[33m\"\u001b[39m\u001b[33m minimum of \u001b[39m\u001b[38;5;132;01m%d\u001b[39;00m\u001b[33m is required\u001b[39m\u001b[38;5;132;01m%s\u001b[39;00m\u001b[33m.\u001b[39m\u001b[33m\"\u001b[39m\n\u001b[32m   1133\u001b[39m             % (n_samples, array.shape, ensure_min_samples, context)\n\u001b[32m   1134\u001b[39m         )\n\u001b[32m   1136\u001b[39m \u001b[38;5;28;01mif\u001b[39;00m ensure_min_features > \u001b[32m0\u001b[39m \u001b[38;5;129;01mand\u001b[39;00m array.ndim == \u001b[32m2\u001b[39m:\n\u001b[32m   1137\u001b[39m     n_features = array.shape[\u001b[32m1\u001b[39m]\n",
      "\u001b[31mValueError\u001b[39m: Found array with 0 sample(s) (shape=(0, 2037)) while a minimum of 1 is required by SMOTE."
     ]
    }
   ],
   "source": [
    "from imblearn.over_sampling import SMOTE\n",
    "\n",
    "# Initialize SMOTE\n",
    "smote = SMOTE(random_state=42)\n",
    "\n",
    "# Fit and resample only the training set\n",
    "X_train_smote, y_train_smote = smote.fit_resample(X_train_clean, y_train_clean)\n",
    "\n",
    "# Check new class distribution\n",
    "print(\"Before SMOTE:\", Counter(y_train))\n",
    "print(\"After SMOTE:\", Counter(y_train_smote))"
   ]
  },
  {
   "cell_type": "markdown",
   "id": "61afd579",
   "metadata": {},
   "source": [
    "#### RFE Recursive Feature Elimination"
   ]
  },
  {
   "cell_type": "markdown",
   "id": "33edfe2a",
   "metadata": {},
   "source": [
    "# Classification Models"
   ]
  },
  {
   "cell_type": "code",
   "execution_count": null,
   "id": "3d46a2f5",
   "metadata": {},
   "outputs": [],
   "source": [
    "X_final = X_resampled  # After SMOTE\n",
    "y_final = y_resampled\n",
    "# Train-test split\n",
    "X_train, X_test, y_train, y_test = train_test_split(X_final, y_final, test"
   ]
  },
  {
   "cell_type": "markdown",
   "id": "97ee2e26",
   "metadata": {},
   "source": [
    "## 1) Random Forest"
   ]
  },
  {
   "cell_type": "code",
   "execution_count": null,
   "id": "dd457bda",
   "metadata": {},
   "outputs": [],
   "source": [
    "# Initialize and train a Random Forest model\n",
    "rf_model = RandomForestClassifier(n_estimators=100, random_state=42)\n",
    "rf_model.fit(X_train, y_train)\n",
    "\n",
    "# Predict and evaluate\n",
    "y_pred = rf_model.predict(X_test)\n",
    "\n",
    "# Print results\n",
    "print(\"Accuracy:\", accuracy_score(y_test, y_pred))\n",
    "print(\"\\nClassification Report:\\n\", classification_report(y_test, y_pred))"
   ]
  }
 ],
 "metadata": {
  "kaggle": {
   "accelerator": "none",
   "dataSources": [
    {
     "datasetId": 7250279,
     "sourceId": 11563431,
     "sourceType": "datasetVersion"
    }
   ],
   "dockerImageVersionId": 31012,
   "isGpuEnabled": false,
   "isInternetEnabled": true,
   "language": "python",
   "sourceType": "notebook"
  },
  "kernelspec": {
   "display_name": "Python 3",
   "language": "python",
   "name": "python3"
  },
  "language_info": {
   "codemirror_mode": {
    "name": "ipython",
    "version": 3
   },
   "file_extension": ".py",
   "mimetype": "text/x-python",
   "name": "python",
   "nbconvert_exporter": "python",
   "pygments_lexer": "ipython3",
   "version": "3.13.3"
  },
  "papermill": {
   "default_parameters": {},
   "duration": 840.517439,
   "end_time": "2025-04-28T10:42:38.049654",
   "environment_variables": {},
   "exception": null,
   "input_path": "__notebook__.ipynb",
   "output_path": "__notebook__.ipynb",
   "parameters": {},
   "start_time": "2025-04-28T10:28:37.532215",
   "version": "2.6.0"
  },
  "widgets": {
   "application/vnd.jupyter.widget-state+json": {
    "state": {
     "096438335fb14906b638c15d76bd2514": {
      "model_module": "@jupyter-widgets/controls",
      "model_module_version": "2.0.0",
      "model_name": "HTMLStyleModel",
      "state": {
       "_model_module": "@jupyter-widgets/controls",
       "_model_module_version": "2.0.0",
       "_model_name": "HTMLStyleModel",
       "_view_count": null,
       "_view_module": "@jupyter-widgets/base",
       "_view_module_version": "2.0.0",
       "_view_name": "StyleView",
       "background": null,
       "description_width": "",
       "font_size": null,
       "text_color": null
      }
     },
     "0b7120dbee854ee486fd7d66ab23e443": {
      "model_module": "@jupyter-widgets/controls",
      "model_module_version": "2.0.0",
      "model_name": "ProgressStyleModel",
      "state": {
       "_model_module": "@jupyter-widgets/controls",
       "_model_module_version": "2.0.0",
       "_model_name": "ProgressStyleModel",
       "_view_count": null,
       "_view_module": "@jupyter-widgets/base",
       "_view_module_version": "2.0.0",
       "_view_name": "StyleView",
       "bar_color": null,
       "description_width": ""
      }
     },
     "1e5434cdc34045ec91082b042525719e": {
      "model_module": "@jupyter-widgets/controls",
      "model_module_version": "2.0.0",
      "model_name": "FloatProgressModel",
      "state": {
       "_dom_classes": [],
       "_model_module": "@jupyter-widgets/controls",
       "_model_module_version": "2.0.0",
       "_model_name": "FloatProgressModel",
       "_view_count": null,
       "_view_module": "@jupyter-widgets/controls",
       "_view_module_version": "2.0.0",
       "_view_name": "ProgressView",
       "bar_style": "success",
       "description": "",
       "description_allow_html": false,
       "layout": "IPY_MODEL_55efd040279b42bf9eeadd8bb7e56dac",
       "max": 1,
       "min": 0,
       "orientation": "horizontal",
       "style": "IPY_MODEL_0b7120dbee854ee486fd7d66ab23e443",
       "tabbable": null,
       "tooltip": null,
       "value": 1
      }
     },
     "1e643d95b9474e0a95a247b9114ab164": {
      "model_module": "@jupyter-widgets/controls",
      "model_module_version": "2.0.0",
      "model_name": "HTMLStyleModel",
      "state": {
       "_model_module": "@jupyter-widgets/controls",
       "_model_module_version": "2.0.0",
       "_model_name": "HTMLStyleModel",
       "_view_count": null,
       "_view_module": "@jupyter-widgets/base",
       "_view_module_version": "2.0.0",
       "_view_name": "StyleView",
       "background": null,
       "description_width": "",
       "font_size": null,
       "text_color": null
      }
     },
     "29d64c56256e4ecdbc1914e626b3c128": {
      "model_module": "@jupyter-widgets/base",
      "model_module_version": "2.0.0",
      "model_name": "LayoutModel",
      "state": {
       "_model_module": "@jupyter-widgets/base",
       "_model_module_version": "2.0.0",
       "_model_name": "LayoutModel",
       "_view_count": null,
       "_view_module": "@jupyter-widgets/base",
       "_view_module_version": "2.0.0",
       "_view_name": "LayoutView",
       "align_content": null,
       "align_items": null,
       "align_self": null,
       "border_bottom": null,
       "border_left": null,
       "border_right": null,
       "border_top": null,
       "bottom": null,
       "display": null,
       "flex": null,
       "flex_flow": null,
       "grid_area": null,
       "grid_auto_columns": null,
       "grid_auto_flow": null,
       "grid_auto_rows": null,
       "grid_column": null,
       "grid_gap": null,
       "grid_row": null,
       "grid_template_areas": null,
       "grid_template_columns": null,
       "grid_template_rows": null,
       "height": null,
       "justify_content": null,
       "justify_items": null,
       "left": null,
       "margin": null,
       "max_height": null,
       "max_width": null,
       "min_height": null,
       "min_width": null,
       "object_fit": null,
       "object_position": null,
       "order": null,
       "overflow": null,
       "padding": null,
       "right": null,
       "top": null,
       "visibility": null,
       "width": null
      }
     },
     "4210d1caee7f4ca8a43e6a14b4787c41": {
      "model_module": "@jupyter-widgets/controls",
      "model_module_version": "2.0.0",
      "model_name": "HBoxModel",
      "state": {
       "_dom_classes": [],
       "_model_module": "@jupyter-widgets/controls",
       "_model_module_version": "2.0.0",
       "_model_name": "HBoxModel",
       "_view_count": null,
       "_view_module": "@jupyter-widgets/controls",
       "_view_module_version": "2.0.0",
       "_view_name": "HBoxView",
       "box_style": "",
       "children": [
        "IPY_MODEL_fb9bdf068683494daf2bf99a057fce58",
        "IPY_MODEL_94aa7925a30543058c7ed850a8b1ace7",
        "IPY_MODEL_426a172229ff4621ad2ef2dccbdd76ee"
       ],
       "layout": "IPY_MODEL_beea9eff9b174f79b69ae062c0c90de0",
       "tabbable": null,
       "tooltip": null
      }
     },
     "426a172229ff4621ad2ef2dccbdd76ee": {
      "model_module": "@jupyter-widgets/controls",
      "model_module_version": "2.0.0",
      "model_name": "HTMLModel",
      "state": {
       "_dom_classes": [],
       "_model_module": "@jupyter-widgets/controls",
       "_model_module_version": "2.0.0",
       "_model_name": "HTMLModel",
       "_view_count": null,
       "_view_module": "@jupyter-widgets/controls",
       "_view_module_version": "2.0.0",
       "_view_name": "HTMLView",
       "description": "",
       "description_allow_html": false,
       "layout": "IPY_MODEL_ebf8cac18fbb4ae1b83082173d395894",
       "placeholder": "​",
       "style": "IPY_MODEL_c65b40da20784af8be302cdf7e6989e2",
       "tabbable": null,
       "tooltip": null,
       "value": " 0/0 [00:00&lt;?, ?it/s]"
      }
     },
     "4318ecbfa1f04cdbb94c629aaba0f42e": {
      "model_module": "@jupyter-widgets/base",
      "model_module_version": "2.0.0",
      "model_name": "LayoutModel",
      "state": {
       "_model_module": "@jupyter-widgets/base",
       "_model_module_version": "2.0.0",
       "_model_name": "LayoutModel",
       "_view_count": null,
       "_view_module": "@jupyter-widgets/base",
       "_view_module_version": "2.0.0",
       "_view_name": "LayoutView",
       "align_content": null,
       "align_items": null,
       "align_self": null,
       "border_bottom": null,
       "border_left": null,
       "border_right": null,
       "border_top": null,
       "bottom": null,
       "display": null,
       "flex": null,
       "flex_flow": null,
       "grid_area": null,
       "grid_auto_columns": null,
       "grid_auto_flow": null,
       "grid_auto_rows": null,
       "grid_column": null,
       "grid_gap": null,
       "grid_row": null,
       "grid_template_areas": null,
       "grid_template_columns": null,
       "grid_template_rows": null,
       "height": null,
       "justify_content": null,
       "justify_items": null,
       "left": null,
       "margin": null,
       "max_height": null,
       "max_width": null,
       "min_height": null,
       "min_width": null,
       "object_fit": null,
       "object_position": null,
       "order": null,
       "overflow": null,
       "padding": null,
       "right": null,
       "top": null,
       "visibility": "hidden",
       "width": null
      }
     },
     "54097866d2db4a7bb0d2fe73625ddecd": {
      "model_module": "@jupyter-widgets/base",
      "model_module_version": "2.0.0",
      "model_name": "LayoutModel",
      "state": {
       "_model_module": "@jupyter-widgets/base",
       "_model_module_version": "2.0.0",
       "_model_name": "LayoutModel",
       "_view_count": null,
       "_view_module": "@jupyter-widgets/base",
       "_view_module_version": "2.0.0",
       "_view_name": "LayoutView",
       "align_content": null,
       "align_items": null,
       "align_self": null,
       "border_bottom": null,
       "border_left": null,
       "border_right": null,
       "border_top": null,
       "bottom": null,
       "display": null,
       "flex": null,
       "flex_flow": null,
       "grid_area": null,
       "grid_auto_columns": null,
       "grid_auto_flow": null,
       "grid_auto_rows": null,
       "grid_column": null,
       "grid_gap": null,
       "grid_row": null,
       "grid_template_areas": null,
       "grid_template_columns": null,
       "grid_template_rows": null,
       "height": null,
       "justify_content": null,
       "justify_items": null,
       "left": null,
       "margin": null,
       "max_height": null,
       "max_width": null,
       "min_height": null,
       "min_width": null,
       "object_fit": null,
       "object_position": null,
       "order": null,
       "overflow": null,
       "padding": null,
       "right": null,
       "top": null,
       "visibility": null,
       "width": null
      }
     },
     "55efd040279b42bf9eeadd8bb7e56dac": {
      "model_module": "@jupyter-widgets/base",
      "model_module_version": "2.0.0",
      "model_name": "LayoutModel",
      "state": {
       "_model_module": "@jupyter-widgets/base",
       "_model_module_version": "2.0.0",
       "_model_name": "LayoutModel",
       "_view_count": null,
       "_view_module": "@jupyter-widgets/base",
       "_view_module_version": "2.0.0",
       "_view_name": "LayoutView",
       "align_content": null,
       "align_items": null,
       "align_self": null,
       "border_bottom": null,
       "border_left": null,
       "border_right": null,
       "border_top": null,
       "bottom": null,
       "display": null,
       "flex": null,
       "flex_flow": null,
       "grid_area": null,
       "grid_auto_columns": null,
       "grid_auto_flow": null,
       "grid_auto_rows": null,
       "grid_column": null,
       "grid_gap": null,
       "grid_row": null,
       "grid_template_areas": null,
       "grid_template_columns": null,
       "grid_template_rows": null,
       "height": null,
       "justify_content": null,
       "justify_items": null,
       "left": null,
       "margin": null,
       "max_height": null,
       "max_width": null,
       "min_height": null,
       "min_width": null,
       "object_fit": null,
       "object_position": null,
       "order": null,
       "overflow": null,
       "padding": null,
       "right": null,
       "top": null,
       "visibility": null,
       "width": null
      }
     },
     "565b18c6c8dd44f2bb0b4378585d0ba8": {
      "model_module": "@jupyter-widgets/controls",
      "model_module_version": "2.0.0",
      "model_name": "FloatProgressModel",
      "state": {
       "_dom_classes": [],
       "_model_module": "@jupyter-widgets/controls",
       "_model_module_version": "2.0.0",
       "_model_name": "FloatProgressModel",
       "_view_count": null,
       "_view_module": "@jupyter-widgets/controls",
       "_view_module_version": "2.0.0",
       "_view_name": "ProgressView",
       "bar_style": "",
       "description": "",
       "description_allow_html": false,
       "layout": "IPY_MODEL_68b7bbf6a64f42ffa345934c43d0e87b",
       "max": 54,
       "min": 0,
       "orientation": "horizontal",
       "style": "IPY_MODEL_f75c7249d0314457bbde9535f74b05fd",
       "tabbable": null,
       "tooltip": null,
       "value": 54
      }
     },
     "59dbd3f56c39411a965a24641988acfd": {
      "model_module": "@jupyter-widgets/controls",
      "model_module_version": "2.0.0",
      "model_name": "FloatProgressModel",
      "state": {
       "_dom_classes": [],
       "_model_module": "@jupyter-widgets/controls",
       "_model_module_version": "2.0.0",
       "_model_name": "FloatProgressModel",
       "_view_count": null,
       "_view_module": "@jupyter-widgets/controls",
       "_view_module_version": "2.0.0",
       "_view_name": "ProgressView",
       "bar_style": "",
       "description": "",
       "description_allow_html": false,
       "layout": "IPY_MODEL_29d64c56256e4ecdbc1914e626b3c128",
       "max": 1,
       "min": 0,
       "orientation": "horizontal",
       "style": "IPY_MODEL_fadb002457e3467a8c333ff079ed2ccf",
       "tabbable": null,
       "tooltip": null,
       "value": 1
      }
     },
     "63af4d9fcc2742b89175918cce65462c": {
      "model_module": "@jupyter-widgets/controls",
      "model_module_version": "2.0.0",
      "model_name": "HTMLStyleModel",
      "state": {
       "_model_module": "@jupyter-widgets/controls",
       "_model_module_version": "2.0.0",
       "_model_name": "HTMLStyleModel",
       "_view_count": null,
       "_view_module": "@jupyter-widgets/base",
       "_view_module_version": "2.0.0",
       "_view_name": "StyleView",
       "background": null,
       "description_width": "",
       "font_size": null,
       "text_color": null
      }
     },
     "6584bfa7b8c74d919871b7876801393b": {
      "model_module": "@jupyter-widgets/base",
      "model_module_version": "2.0.0",
      "model_name": "LayoutModel",
      "state": {
       "_model_module": "@jupyter-widgets/base",
       "_model_module_version": "2.0.0",
       "_model_name": "LayoutModel",
       "_view_count": null,
       "_view_module": "@jupyter-widgets/base",
       "_view_module_version": "2.0.0",
       "_view_name": "LayoutView",
       "align_content": null,
       "align_items": null,
       "align_self": null,
       "border_bottom": null,
       "border_left": null,
       "border_right": null,
       "border_top": null,
       "bottom": null,
       "display": null,
       "flex": null,
       "flex_flow": null,
       "grid_area": null,
       "grid_auto_columns": null,
       "grid_auto_flow": null,
       "grid_auto_rows": null,
       "grid_column": null,
       "grid_gap": null,
       "grid_row": null,
       "grid_template_areas": null,
       "grid_template_columns": null,
       "grid_template_rows": null,
       "height": null,
       "justify_content": null,
       "justify_items": null,
       "left": null,
       "margin": null,
       "max_height": null,
       "max_width": null,
       "min_height": null,
       "min_width": null,
       "object_fit": null,
       "object_position": null,
       "order": null,
       "overflow": null,
       "padding": null,
       "right": null,
       "top": null,
       "visibility": null,
       "width": null
      }
     },
     "66a1daf177704747ba5b6ad9c670463d": {
      "model_module": "@jupyter-widgets/base",
      "model_module_version": "2.0.0",
      "model_name": "LayoutModel",
      "state": {
       "_model_module": "@jupyter-widgets/base",
       "_model_module_version": "2.0.0",
       "_model_name": "LayoutModel",
       "_view_count": null,
       "_view_module": "@jupyter-widgets/base",
       "_view_module_version": "2.0.0",
       "_view_name": "LayoutView",
       "align_content": null,
       "align_items": null,
       "align_self": null,
       "border_bottom": null,
       "border_left": null,
       "border_right": null,
       "border_top": null,
       "bottom": null,
       "display": null,
       "flex": null,
       "flex_flow": null,
       "grid_area": null,
       "grid_auto_columns": null,
       "grid_auto_flow": null,
       "grid_auto_rows": null,
       "grid_column": null,
       "grid_gap": null,
       "grid_row": null,
       "grid_template_areas": null,
       "grid_template_columns": null,
       "grid_template_rows": null,
       "height": null,
       "justify_content": null,
       "justify_items": null,
       "left": null,
       "margin": null,
       "max_height": null,
       "max_width": null,
       "min_height": null,
       "min_width": null,
       "object_fit": null,
       "object_position": null,
       "order": null,
       "overflow": null,
       "padding": null,
       "right": null,
       "top": null,
       "visibility": null,
       "width": null
      }
     },
     "68b7bbf6a64f42ffa345934c43d0e87b": {
      "model_module": "@jupyter-widgets/base",
      "model_module_version": "2.0.0",
      "model_name": "LayoutModel",
      "state": {
       "_model_module": "@jupyter-widgets/base",
       "_model_module_version": "2.0.0",
       "_model_name": "LayoutModel",
       "_view_count": null,
       "_view_module": "@jupyter-widgets/base",
       "_view_module_version": "2.0.0",
       "_view_name": "LayoutView",
       "align_content": null,
       "align_items": null,
       "align_self": null,
       "border_bottom": null,
       "border_left": null,
       "border_right": null,
       "border_top": null,
       "bottom": null,
       "display": null,
       "flex": null,
       "flex_flow": null,
       "grid_area": null,
       "grid_auto_columns": null,
       "grid_auto_flow": null,
       "grid_auto_rows": null,
       "grid_column": null,
       "grid_gap": null,
       "grid_row": null,
       "grid_template_areas": null,
       "grid_template_columns": null,
       "grid_template_rows": null,
       "height": null,
       "justify_content": null,
       "justify_items": null,
       "left": null,
       "margin": null,
       "max_height": null,
       "max_width": null,
       "min_height": null,
       "min_width": null,
       "object_fit": null,
       "object_position": null,
       "order": null,
       "overflow": null,
       "padding": null,
       "right": null,
       "top": null,
       "visibility": null,
       "width": null
      }
     },
     "69c2a92021774ca69316c4c5d582af40": {
      "model_module": "@jupyter-widgets/controls",
      "model_module_version": "2.0.0",
      "model_name": "HBoxModel",
      "state": {
       "_dom_classes": [],
       "_model_module": "@jupyter-widgets/controls",
       "_model_module_version": "2.0.0",
       "_model_name": "HBoxModel",
       "_view_count": null,
       "_view_module": "@jupyter-widgets/controls",
       "_view_module_version": "2.0.0",
       "_view_name": "HBoxView",
       "box_style": "",
       "children": [
        "IPY_MODEL_d105bc9ea8de48e4a47ac3ce933b21a2",
        "IPY_MODEL_565b18c6c8dd44f2bb0b4378585d0ba8",
        "IPY_MODEL_86f41d84e5b84ed4929b292dcc60a22a"
       ],
       "layout": "IPY_MODEL_4318ecbfa1f04cdbb94c629aaba0f42e",
       "tabbable": null,
       "tooltip": null
      }
     },
     "75dfd98c75b64e7a9f2a646cb8014f5d": {
      "model_module": "@jupyter-widgets/controls",
      "model_module_version": "2.0.0",
      "model_name": "HBoxModel",
      "state": {
       "_dom_classes": [],
       "_model_module": "@jupyter-widgets/controls",
       "_model_module_version": "2.0.0",
       "_model_name": "HBoxModel",
       "_view_count": null,
       "_view_module": "@jupyter-widgets/controls",
       "_view_module_version": "2.0.0",
       "_view_name": "HBoxView",
       "box_style": "",
       "children": [
        "IPY_MODEL_8148ce7a2f8748a88fd2d97bbed93e8b",
        "IPY_MODEL_1e5434cdc34045ec91082b042525719e",
        "IPY_MODEL_bac85832b1dd4b69b7f7befdc8dafb7b"
       ],
       "layout": "IPY_MODEL_ea799b17ceb2456db34d247b70273ba9",
       "tabbable": null,
       "tooltip": null
      }
     },
     "8148ce7a2f8748a88fd2d97bbed93e8b": {
      "model_module": "@jupyter-widgets/controls",
      "model_module_version": "2.0.0",
      "model_name": "HTMLModel",
      "state": {
       "_dom_classes": [],
       "_model_module": "@jupyter-widgets/controls",
       "_model_module_version": "2.0.0",
       "_model_name": "HTMLModel",
       "_view_count": null,
       "_view_module": "@jupyter-widgets/controls",
       "_view_module_version": "2.0.0",
       "_view_name": "HTMLView",
       "description": "",
       "description_allow_html": false,
       "layout": "IPY_MODEL_54097866d2db4a7bb0d2fe73625ddecd",
       "placeholder": "​",
       "style": "IPY_MODEL_e089f6b7b66746ba87b769ad204cb194",
       "tabbable": null,
       "tooltip": null,
       "value": "RFE Feature Selection Progress: 100%"
      }
     },
     "86f41d84e5b84ed4929b292dcc60a22a": {
      "model_module": "@jupyter-widgets/controls",
      "model_module_version": "2.0.0",
      "model_name": "HTMLModel",
      "state": {
       "_dom_classes": [],
       "_model_module": "@jupyter-widgets/controls",
       "_model_module_version": "2.0.0",
       "_model_name": "HTMLModel",
       "_view_count": null,
       "_view_module": "@jupyter-widgets/controls",
       "_view_module_version": "2.0.0",
       "_view_name": "HTMLView",
       "description": "",
       "description_allow_html": false,
       "layout": "IPY_MODEL_6584bfa7b8c74d919871b7876801393b",
       "placeholder": "​",
       "style": "IPY_MODEL_096438335fb14906b638c15d76bd2514",
       "tabbable": null,
       "tooltip": null,
       "value": " 0/54 [00:00&lt;?, ?it/s]"
      }
     },
     "8963c4fc4f304eb5b61e424b653651dd": {
      "model_module": "@jupyter-widgets/controls",
      "model_module_version": "2.0.0",
      "model_name": "HTMLStyleModel",
      "state": {
       "_model_module": "@jupyter-widgets/controls",
       "_model_module_version": "2.0.0",
       "_model_name": "HTMLStyleModel",
       "_view_count": null,
       "_view_module": "@jupyter-widgets/base",
       "_view_module_version": "2.0.0",
       "_view_name": "StyleView",
       "background": null,
       "description_width": "",
       "font_size": null,
       "text_color": null
      }
     },
     "89cf2b56d49f44e0b70b2beac3da7477": {
      "model_module": "@jupyter-widgets/base",
      "model_module_version": "2.0.0",
      "model_name": "LayoutModel",
      "state": {
       "_model_module": "@jupyter-widgets/base",
       "_model_module_version": "2.0.0",
       "_model_name": "LayoutModel",
       "_view_count": null,
       "_view_module": "@jupyter-widgets/base",
       "_view_module_version": "2.0.0",
       "_view_name": "LayoutView",
       "align_content": null,
       "align_items": null,
       "align_self": null,
       "border_bottom": null,
       "border_left": null,
       "border_right": null,
       "border_top": null,
       "bottom": null,
       "display": null,
       "flex": null,
       "flex_flow": null,
       "grid_area": null,
       "grid_auto_columns": null,
       "grid_auto_flow": null,
       "grid_auto_rows": null,
       "grid_column": null,
       "grid_gap": null,
       "grid_row": null,
       "grid_template_areas": null,
       "grid_template_columns": null,
       "grid_template_rows": null,
       "height": null,
       "justify_content": null,
       "justify_items": null,
       "left": null,
       "margin": null,
       "max_height": null,
       "max_width": null,
       "min_height": null,
       "min_width": null,
       "object_fit": null,
       "object_position": null,
       "order": null,
       "overflow": null,
       "padding": null,
       "right": null,
       "top": null,
       "visibility": "hidden",
       "width": null
      }
     },
     "9063c31325b6446c97bf0ea8939f18fd": {
      "model_module": "@jupyter-widgets/controls",
      "model_module_version": "2.0.0",
      "model_name": "HTMLModel",
      "state": {
       "_dom_classes": [],
       "_model_module": "@jupyter-widgets/controls",
       "_model_module_version": "2.0.0",
       "_model_name": "HTMLModel",
       "_view_count": null,
       "_view_module": "@jupyter-widgets/controls",
       "_view_module_version": "2.0.0",
       "_view_name": "HTMLView",
       "description": "",
       "description_allow_html": false,
       "layout": "IPY_MODEL_f66210e3fd0a4729b65c4037a3f6c126",
       "placeholder": "​",
       "style": "IPY_MODEL_63af4d9fcc2742b89175918cce65462c",
       "tabbable": null,
       "tooltip": null,
       "value": "PCA fitting: 100%"
      }
     },
     "90b5f8f33197421da752e3ea34ea9fa3": {
      "model_module": "@jupyter-widgets/controls",
      "model_module_version": "2.0.0",
      "model_name": "HTMLModel",
      "state": {
       "_dom_classes": [],
       "_model_module": "@jupyter-widgets/controls",
       "_model_module_version": "2.0.0",
       "_model_name": "HTMLModel",
       "_view_count": null,
       "_view_module": "@jupyter-widgets/controls",
       "_view_module_version": "2.0.0",
       "_view_name": "HTMLView",
       "description": "",
       "description_allow_html": false,
       "layout": "IPY_MODEL_fc08b624b9a0487b85576e1f58141899",
       "placeholder": "​",
       "style": "IPY_MODEL_8963c4fc4f304eb5b61e424b653651dd",
       "tabbable": null,
       "tooltip": null,
       "value": " 1/1 [00:00&lt;00:00,  3.29it/s]"
      }
     },
     "94aa7925a30543058c7ed850a8b1ace7": {
      "model_module": "@jupyter-widgets/controls",
      "model_module_version": "2.0.0",
      "model_name": "FloatProgressModel",
      "state": {
       "_dom_classes": [],
       "_model_module": "@jupyter-widgets/controls",
       "_model_module_version": "2.0.0",
       "_model_name": "FloatProgressModel",
       "_view_count": null,
       "_view_module": "@jupyter-widgets/controls",
       "_view_module_version": "2.0.0",
       "_view_name": "ProgressView",
       "bar_style": "info",
       "description": "",
       "description_allow_html": false,
       "layout": "IPY_MODEL_f999c7cd785648c183fc4e35e1fcbb76",
       "max": 1,
       "min": 0,
       "orientation": "horizontal",
       "style": "IPY_MODEL_df68b79e550a42f6acd83bf29ed511ef",
       "tabbable": null,
       "tooltip": null,
       "value": 0
      }
     },
     "bac85832b1dd4b69b7f7befdc8dafb7b": {
      "model_module": "@jupyter-widgets/controls",
      "model_module_version": "2.0.0",
      "model_name": "HTMLModel",
      "state": {
       "_dom_classes": [],
       "_model_module": "@jupyter-widgets/controls",
       "_model_module_version": "2.0.0",
       "_model_name": "HTMLModel",
       "_view_count": null,
       "_view_module": "@jupyter-widgets/controls",
       "_view_module_version": "2.0.0",
       "_view_name": "HTMLView",
       "description": "",
       "description_allow_html": false,
       "layout": "IPY_MODEL_d523c5c94f7b4488b29e651fb2439eeb",
       "placeholder": "​",
       "style": "IPY_MODEL_fea47f9234034eae832db6f789af4088",
       "tabbable": null,
       "tooltip": null,
       "value": " 1/1 [12:40&lt;00:00, 760.68s/step]"
      }
     },
     "beea9eff9b174f79b69ae062c0c90de0": {
      "model_module": "@jupyter-widgets/base",
      "model_module_version": "2.0.0",
      "model_name": "LayoutModel",
      "state": {
       "_model_module": "@jupyter-widgets/base",
       "_model_module_version": "2.0.0",
       "_model_name": "LayoutModel",
       "_view_count": null,
       "_view_module": "@jupyter-widgets/base",
       "_view_module_version": "2.0.0",
       "_view_name": "LayoutView",
       "align_content": null,
       "align_items": null,
       "align_self": null,
       "border_bottom": null,
       "border_left": null,
       "border_right": null,
       "border_top": null,
       "bottom": null,
       "display": null,
       "flex": null,
       "flex_flow": null,
       "grid_area": null,
       "grid_auto_columns": null,
       "grid_auto_flow": null,
       "grid_auto_rows": null,
       "grid_column": null,
       "grid_gap": null,
       "grid_row": null,
       "grid_template_areas": null,
       "grid_template_columns": null,
       "grid_template_rows": null,
       "height": null,
       "justify_content": null,
       "justify_items": null,
       "left": null,
       "margin": null,
       "max_height": null,
       "max_width": null,
       "min_height": null,
       "min_width": null,
       "object_fit": null,
       "object_position": null,
       "order": null,
       "overflow": null,
       "padding": null,
       "right": null,
       "top": null,
       "visibility": "hidden",
       "width": null
      }
     },
     "c65b40da20784af8be302cdf7e6989e2": {
      "model_module": "@jupyter-widgets/controls",
      "model_module_version": "2.0.0",
      "model_name": "HTMLStyleModel",
      "state": {
       "_model_module": "@jupyter-widgets/controls",
       "_model_module_version": "2.0.0",
       "_model_name": "HTMLStyleModel",
       "_view_count": null,
       "_view_module": "@jupyter-widgets/base",
       "_view_module_version": "2.0.0",
       "_view_name": "StyleView",
       "background": null,
       "description_width": "",
       "font_size": null,
       "text_color": null
      }
     },
     "d105bc9ea8de48e4a47ac3ce933b21a2": {
      "model_module": "@jupyter-widgets/controls",
      "model_module_version": "2.0.0",
      "model_name": "HTMLModel",
      "state": {
       "_dom_classes": [],
       "_model_module": "@jupyter-widgets/controls",
       "_model_module_version": "2.0.0",
       "_model_name": "HTMLModel",
       "_view_count": null,
       "_view_module": "@jupyter-widgets/controls",
       "_view_module_version": "2.0.0",
       "_view_name": "HTMLView",
       "description": "",
       "description_allow_html": false,
       "layout": "IPY_MODEL_66a1daf177704747ba5b6ad9c670463d",
       "placeholder": "​",
       "style": "IPY_MODEL_e54a0092d10e4550b0081acff95bc326",
       "tabbable": null,
       "tooltip": null,
       "value": "Numeric columns:   0%"
      }
     },
     "d523c5c94f7b4488b29e651fb2439eeb": {
      "model_module": "@jupyter-widgets/base",
      "model_module_version": "2.0.0",
      "model_name": "LayoutModel",
      "state": {
       "_model_module": "@jupyter-widgets/base",
       "_model_module_version": "2.0.0",
       "_model_name": "LayoutModel",
       "_view_count": null,
       "_view_module": "@jupyter-widgets/base",
       "_view_module_version": "2.0.0",
       "_view_name": "LayoutView",
       "align_content": null,
       "align_items": null,
       "align_self": null,
       "border_bottom": null,
       "border_left": null,
       "border_right": null,
       "border_top": null,
       "bottom": null,
       "display": null,
       "flex": null,
       "flex_flow": null,
       "grid_area": null,
       "grid_auto_columns": null,
       "grid_auto_flow": null,
       "grid_auto_rows": null,
       "grid_column": null,
       "grid_gap": null,
       "grid_row": null,
       "grid_template_areas": null,
       "grid_template_columns": null,
       "grid_template_rows": null,
       "height": null,
       "justify_content": null,
       "justify_items": null,
       "left": null,
       "margin": null,
       "max_height": null,
       "max_width": null,
       "min_height": null,
       "min_width": null,
       "object_fit": null,
       "object_position": null,
       "order": null,
       "overflow": null,
       "padding": null,
       "right": null,
       "top": null,
       "visibility": null,
       "width": null
      }
     },
     "dd0d155d3439424aae7dd57792e32cad": {
      "model_module": "@jupyter-widgets/controls",
      "model_module_version": "2.0.0",
      "model_name": "HBoxModel",
      "state": {
       "_dom_classes": [],
       "_model_module": "@jupyter-widgets/controls",
       "_model_module_version": "2.0.0",
       "_model_name": "HBoxModel",
       "_view_count": null,
       "_view_module": "@jupyter-widgets/controls",
       "_view_module_version": "2.0.0",
       "_view_name": "HBoxView",
       "box_style": "",
       "children": [
        "IPY_MODEL_9063c31325b6446c97bf0ea8939f18fd",
        "IPY_MODEL_59dbd3f56c39411a965a24641988acfd",
        "IPY_MODEL_90b5f8f33197421da752e3ea34ea9fa3"
       ],
       "layout": "IPY_MODEL_89cf2b56d49f44e0b70b2beac3da7477",
       "tabbable": null,
       "tooltip": null
      }
     },
     "df68b79e550a42f6acd83bf29ed511ef": {
      "model_module": "@jupyter-widgets/controls",
      "model_module_version": "2.0.0",
      "model_name": "ProgressStyleModel",
      "state": {
       "_model_module": "@jupyter-widgets/controls",
       "_model_module_version": "2.0.0",
       "_model_name": "ProgressStyleModel",
       "_view_count": null,
       "_view_module": "@jupyter-widgets/base",
       "_view_module_version": "2.0.0",
       "_view_name": "StyleView",
       "bar_color": null,
       "description_width": ""
      }
     },
     "e089f6b7b66746ba87b769ad204cb194": {
      "model_module": "@jupyter-widgets/controls",
      "model_module_version": "2.0.0",
      "model_name": "HTMLStyleModel",
      "state": {
       "_model_module": "@jupyter-widgets/controls",
       "_model_module_version": "2.0.0",
       "_model_name": "HTMLStyleModel",
       "_view_count": null,
       "_view_module": "@jupyter-widgets/base",
       "_view_module_version": "2.0.0",
       "_view_name": "StyleView",
       "background": null,
       "description_width": "",
       "font_size": null,
       "text_color": null
      }
     },
     "e54a0092d10e4550b0081acff95bc326": {
      "model_module": "@jupyter-widgets/controls",
      "model_module_version": "2.0.0",
      "model_name": "HTMLStyleModel",
      "state": {
       "_model_module": "@jupyter-widgets/controls",
       "_model_module_version": "2.0.0",
       "_model_name": "HTMLStyleModel",
       "_view_count": null,
       "_view_module": "@jupyter-widgets/base",
       "_view_module_version": "2.0.0",
       "_view_name": "StyleView",
       "background": null,
       "description_width": "",
       "font_size": null,
       "text_color": null
      }
     },
     "e62534624b4c4d73a3cb3ea1240bc125": {
      "model_module": "@jupyter-widgets/base",
      "model_module_version": "2.0.0",
      "model_name": "LayoutModel",
      "state": {
       "_model_module": "@jupyter-widgets/base",
       "_model_module_version": "2.0.0",
       "_model_name": "LayoutModel",
       "_view_count": null,
       "_view_module": "@jupyter-widgets/base",
       "_view_module_version": "2.0.0",
       "_view_name": "LayoutView",
       "align_content": null,
       "align_items": null,
       "align_self": null,
       "border_bottom": null,
       "border_left": null,
       "border_right": null,
       "border_top": null,
       "bottom": null,
       "display": null,
       "flex": null,
       "flex_flow": null,
       "grid_area": null,
       "grid_auto_columns": null,
       "grid_auto_flow": null,
       "grid_auto_rows": null,
       "grid_column": null,
       "grid_gap": null,
       "grid_row": null,
       "grid_template_areas": null,
       "grid_template_columns": null,
       "grid_template_rows": null,
       "height": null,
       "justify_content": null,
       "justify_items": null,
       "left": null,
       "margin": null,
       "max_height": null,
       "max_width": null,
       "min_height": null,
       "min_width": null,
       "object_fit": null,
       "object_position": null,
       "order": null,
       "overflow": null,
       "padding": null,
       "right": null,
       "top": null,
       "visibility": null,
       "width": null
      }
     },
     "ea799b17ceb2456db34d247b70273ba9": {
      "model_module": "@jupyter-widgets/base",
      "model_module_version": "2.0.0",
      "model_name": "LayoutModel",
      "state": {
       "_model_module": "@jupyter-widgets/base",
       "_model_module_version": "2.0.0",
       "_model_name": "LayoutModel",
       "_view_count": null,
       "_view_module": "@jupyter-widgets/base",
       "_view_module_version": "2.0.0",
       "_view_name": "LayoutView",
       "align_content": null,
       "align_items": null,
       "align_self": null,
       "border_bottom": null,
       "border_left": null,
       "border_right": null,
       "border_top": null,
       "bottom": null,
       "display": null,
       "flex": null,
       "flex_flow": null,
       "grid_area": null,
       "grid_auto_columns": null,
       "grid_auto_flow": null,
       "grid_auto_rows": null,
       "grid_column": null,
       "grid_gap": null,
       "grid_row": null,
       "grid_template_areas": null,
       "grid_template_columns": null,
       "grid_template_rows": null,
       "height": null,
       "justify_content": null,
       "justify_items": null,
       "left": null,
       "margin": null,
       "max_height": null,
       "max_width": null,
       "min_height": null,
       "min_width": null,
       "object_fit": null,
       "object_position": null,
       "order": null,
       "overflow": null,
       "padding": null,
       "right": null,
       "top": null,
       "visibility": null,
       "width": null
      }
     },
     "ebf8cac18fbb4ae1b83082173d395894": {
      "model_module": "@jupyter-widgets/base",
      "model_module_version": "2.0.0",
      "model_name": "LayoutModel",
      "state": {
       "_model_module": "@jupyter-widgets/base",
       "_model_module_version": "2.0.0",
       "_model_name": "LayoutModel",
       "_view_count": null,
       "_view_module": "@jupyter-widgets/base",
       "_view_module_version": "2.0.0",
       "_view_name": "LayoutView",
       "align_content": null,
       "align_items": null,
       "align_self": null,
       "border_bottom": null,
       "border_left": null,
       "border_right": null,
       "border_top": null,
       "bottom": null,
       "display": null,
       "flex": null,
       "flex_flow": null,
       "grid_area": null,
       "grid_auto_columns": null,
       "grid_auto_flow": null,
       "grid_auto_rows": null,
       "grid_column": null,
       "grid_gap": null,
       "grid_row": null,
       "grid_template_areas": null,
       "grid_template_columns": null,
       "grid_template_rows": null,
       "height": null,
       "justify_content": null,
       "justify_items": null,
       "left": null,
       "margin": null,
       "max_height": null,
       "max_width": null,
       "min_height": null,
       "min_width": null,
       "object_fit": null,
       "object_position": null,
       "order": null,
       "overflow": null,
       "padding": null,
       "right": null,
       "top": null,
       "visibility": null,
       "width": null
      }
     },
     "f66210e3fd0a4729b65c4037a3f6c126": {
      "model_module": "@jupyter-widgets/base",
      "model_module_version": "2.0.0",
      "model_name": "LayoutModel",
      "state": {
       "_model_module": "@jupyter-widgets/base",
       "_model_module_version": "2.0.0",
       "_model_name": "LayoutModel",
       "_view_count": null,
       "_view_module": "@jupyter-widgets/base",
       "_view_module_version": "2.0.0",
       "_view_name": "LayoutView",
       "align_content": null,
       "align_items": null,
       "align_self": null,
       "border_bottom": null,
       "border_left": null,
       "border_right": null,
       "border_top": null,
       "bottom": null,
       "display": null,
       "flex": null,
       "flex_flow": null,
       "grid_area": null,
       "grid_auto_columns": null,
       "grid_auto_flow": null,
       "grid_auto_rows": null,
       "grid_column": null,
       "grid_gap": null,
       "grid_row": null,
       "grid_template_areas": null,
       "grid_template_columns": null,
       "grid_template_rows": null,
       "height": null,
       "justify_content": null,
       "justify_items": null,
       "left": null,
       "margin": null,
       "max_height": null,
       "max_width": null,
       "min_height": null,
       "min_width": null,
       "object_fit": null,
       "object_position": null,
       "order": null,
       "overflow": null,
       "padding": null,
       "right": null,
       "top": null,
       "visibility": null,
       "width": null
      }
     },
     "f75c7249d0314457bbde9535f74b05fd": {
      "model_module": "@jupyter-widgets/controls",
      "model_module_version": "2.0.0",
      "model_name": "ProgressStyleModel",
      "state": {
       "_model_module": "@jupyter-widgets/controls",
       "_model_module_version": "2.0.0",
       "_model_name": "ProgressStyleModel",
       "_view_count": null,
       "_view_module": "@jupyter-widgets/base",
       "_view_module_version": "2.0.0",
       "_view_name": "StyleView",
       "bar_color": null,
       "description_width": ""
      }
     },
     "f999c7cd785648c183fc4e35e1fcbb76": {
      "model_module": "@jupyter-widgets/base",
      "model_module_version": "2.0.0",
      "model_name": "LayoutModel",
      "state": {
       "_model_module": "@jupyter-widgets/base",
       "_model_module_version": "2.0.0",
       "_model_name": "LayoutModel",
       "_view_count": null,
       "_view_module": "@jupyter-widgets/base",
       "_view_module_version": "2.0.0",
       "_view_name": "LayoutView",
       "align_content": null,
       "align_items": null,
       "align_self": null,
       "border_bottom": null,
       "border_left": null,
       "border_right": null,
       "border_top": null,
       "bottom": null,
       "display": null,
       "flex": null,
       "flex_flow": null,
       "grid_area": null,
       "grid_auto_columns": null,
       "grid_auto_flow": null,
       "grid_auto_rows": null,
       "grid_column": null,
       "grid_gap": null,
       "grid_row": null,
       "grid_template_areas": null,
       "grid_template_columns": null,
       "grid_template_rows": null,
       "height": null,
       "justify_content": null,
       "justify_items": null,
       "left": null,
       "margin": null,
       "max_height": null,
       "max_width": null,
       "min_height": null,
       "min_width": null,
       "object_fit": null,
       "object_position": null,
       "order": null,
       "overflow": null,
       "padding": null,
       "right": null,
       "top": null,
       "visibility": null,
       "width": "20px"
      }
     },
     "fadb002457e3467a8c333ff079ed2ccf": {
      "model_module": "@jupyter-widgets/controls",
      "model_module_version": "2.0.0",
      "model_name": "ProgressStyleModel",
      "state": {
       "_model_module": "@jupyter-widgets/controls",
       "_model_module_version": "2.0.0",
       "_model_name": "ProgressStyleModel",
       "_view_count": null,
       "_view_module": "@jupyter-widgets/base",
       "_view_module_version": "2.0.0",
       "_view_name": "StyleView",
       "bar_color": null,
       "description_width": ""
      }
     },
     "fb9bdf068683494daf2bf99a057fce58": {
      "model_module": "@jupyter-widgets/controls",
      "model_module_version": "2.0.0",
      "model_name": "HTMLModel",
      "state": {
       "_dom_classes": [],
       "_model_module": "@jupyter-widgets/controls",
       "_model_module_version": "2.0.0",
       "_model_name": "HTMLModel",
       "_view_count": null,
       "_view_module": "@jupyter-widgets/controls",
       "_view_module_version": "2.0.0",
       "_view_name": "HTMLView",
       "description": "",
       "description_allow_html": false,
       "layout": "IPY_MODEL_e62534624b4c4d73a3cb3ea1240bc125",
       "placeholder": "​",
       "style": "IPY_MODEL_1e643d95b9474e0a95a247b9114ab164",
       "tabbable": null,
       "tooltip": null,
       "value": "Categorical columns: "
      }
     },
     "fc08b624b9a0487b85576e1f58141899": {
      "model_module": "@jupyter-widgets/base",
      "model_module_version": "2.0.0",
      "model_name": "LayoutModel",
      "state": {
       "_model_module": "@jupyter-widgets/base",
       "_model_module_version": "2.0.0",
       "_model_name": "LayoutModel",
       "_view_count": null,
       "_view_module": "@jupyter-widgets/base",
       "_view_module_version": "2.0.0",
       "_view_name": "LayoutView",
       "align_content": null,
       "align_items": null,
       "align_self": null,
       "border_bottom": null,
       "border_left": null,
       "border_right": null,
       "border_top": null,
       "bottom": null,
       "display": null,
       "flex": null,
       "flex_flow": null,
       "grid_area": null,
       "grid_auto_columns": null,
       "grid_auto_flow": null,
       "grid_auto_rows": null,
       "grid_column": null,
       "grid_gap": null,
       "grid_row": null,
       "grid_template_areas": null,
       "grid_template_columns": null,
       "grid_template_rows": null,
       "height": null,
       "justify_content": null,
       "justify_items": null,
       "left": null,
       "margin": null,
       "max_height": null,
       "max_width": null,
       "min_height": null,
       "min_width": null,
       "object_fit": null,
       "object_position": null,
       "order": null,
       "overflow": null,
       "padding": null,
       "right": null,
       "top": null,
       "visibility": null,
       "width": null
      }
     },
     "fea47f9234034eae832db6f789af4088": {
      "model_module": "@jupyter-widgets/controls",
      "model_module_version": "2.0.0",
      "model_name": "HTMLStyleModel",
      "state": {
       "_model_module": "@jupyter-widgets/controls",
       "_model_module_version": "2.0.0",
       "_model_name": "HTMLStyleModel",
       "_view_count": null,
       "_view_module": "@jupyter-widgets/base",
       "_view_module_version": "2.0.0",
       "_view_name": "StyleView",
       "background": null,
       "description_width": "",
       "font_size": null,
       "text_color": null
      }
     }
    },
    "version_major": 2,
    "version_minor": 0
   }
  }
 },
 "nbformat": 4,
 "nbformat_minor": 5
}
